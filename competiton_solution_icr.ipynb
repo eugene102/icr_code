{
 "cells": [
  {
   "cell_type": "code",
   "execution_count": 1,
   "id": "d76d4531",
   "metadata": {
    "execution": {
     "iopub.execute_input": "2023-07-09T23:54:16.405264Z",
     "iopub.status.busy": "2023-07-09T23:54:16.404932Z",
     "iopub.status.idle": "2023-07-09T23:54:16.414608Z",
     "shell.execute_reply": "2023-07-09T23:54:16.413418Z"
    },
    "papermill": {
     "duration": 0.026044,
     "end_time": "2023-07-09T23:54:16.417089",
     "exception": false,
     "start_time": "2023-07-09T23:54:16.391045",
     "status": "completed"
    },
    "tags": []
   },
   "outputs": [],
   "source": [
    "from os.path import isdir\n",
    "RANDOM_STATE = 42\n",
    "if isdir(\"/kaggle\"):\n",
    "    PATH = \"/kaggle/input/icr-identify-age-related-conditions/\"\n",
    "    SUB_PATH = \"/kaggle/working/\"\n",
    "else:  # Для запуска локально (когда все необходимые файлы в одной дирректории)\n",
    "    PATH = \"./\"\n",
    "    SUB_PATH = \"./\""
   ]
  },
  {
   "cell_type": "code",
   "execution_count": 2,
   "id": "3331b20f",
   "metadata": {
    "execution": {
     "iopub.execute_input": "2023-07-09T23:54:16.442101Z",
     "iopub.status.busy": "2023-07-09T23:54:16.441755Z",
     "iopub.status.idle": "2023-07-09T23:54:18.874536Z",
     "shell.execute_reply": "2023-07-09T23:54:18.873531Z"
    },
    "papermill": {
     "duration": 2.448115,
     "end_time": "2023-07-09T23:54:18.877078",
     "exception": false,
     "start_time": "2023-07-09T23:54:16.428963",
     "status": "completed"
    },
    "tags": []
   },
   "outputs": [],
   "source": [
    "import pandas as pd\n",
    "import numpy as np\n",
    "from sklearn.model_selection import train_test_split\n",
    "from catboost import CatBoostClassifier\n",
    "from sklearn.base import TransformerMixin, BaseEstimator\n",
    "from sklearn.svm import SVC\n",
    "from sklearn.pipeline import Pipeline\n",
    "from sklearn.impute import SimpleImputer\n",
    "from sklearn.preprocessing import LabelEncoder, StandardScaler\n",
    "from sklearn.ensemble import RandomForestClassifier\n",
    "from sklearn.linear_model import LogisticRegression\n",
    "import warnings"
   ]
  },
  {
   "cell_type": "code",
   "execution_count": 3,
   "id": "cb999ea9",
   "metadata": {
    "execution": {
     "iopub.execute_input": "2023-07-09T23:54:18.903211Z",
     "iopub.status.busy": "2023-07-09T23:54:18.902755Z",
     "iopub.status.idle": "2023-07-09T23:54:18.909300Z",
     "shell.execute_reply": "2023-07-09T23:54:18.908135Z"
    },
    "papermill": {
     "duration": 0.022774,
     "end_time": "2023-07-09T23:54:18.911685",
     "exception": false,
     "start_time": "2023-07-09T23:54:18.888911",
     "status": "completed"
    },
    "tags": []
   },
   "outputs": [],
   "source": [
    "def get_sample_weight(y: pd.Series): # Веса для log_loss\n",
    "    weights = [1 / (y.shape[0] - y.sum()), 1 / y.sum()]\n",
    "    weights_sample = np.zeros(y.shape[0])\n",
    "    weights_sample[y == 0] = weights[0]\n",
    "    weights_sample[y == 1] = weights[1]\n",
    "    return weights_sample"
   ]
  },
  {
   "attachments": {},
   "cell_type": "markdown",
   "id": "9bfd654c",
   "metadata": {
    "papermill": {
     "duration": 0.012035,
     "end_time": "2023-07-09T23:54:18.936146",
     "exception": false,
     "start_time": "2023-07-09T23:54:18.924111",
     "status": "completed"
    },
    "tags": []
   },
   "source": [
    "# Организационный момент\n",
    "1. Класс, обучающий модель должен удовлетворять следующим условиям:\n",
    "    1. В `.fit(X, y)` подается X без целевого значения, в y - целевое значение. Предполагается, что X **не предобработан**\n",
    "    2. В `.predict_proba(X)` или `.predict(X)` подаются непредобработанные данные. В стекинге отдается предпочтение методу `.predict_proba`, хотя и `.predict` допустим, если невозможен `.predict_proba`\n",
    "2. В главе \"Модули с моделями\" размещается код класса с подглавой для соответствующей модели (аналогично \"CatBoost модель\")\n",
    "3. В словаре `MODELS` определенны не сами классы, а **объекты** соответствующих классов\n",
    "4. Если предполагается тюнить модель, то гиперпараметры определяются в `__init__` класса"
   ]
  },
  {
   "attachments": {},
   "cell_type": "markdown",
   "id": "0802fd39",
   "metadata": {
    "papermill": {
     "duration": 0.012548,
     "end_time": "2023-07-09T23:54:18.961477",
     "exception": false,
     "start_time": "2023-07-09T23:54:18.948929",
     "status": "completed"
    },
    "tags": []
   },
   "source": [
    "# Идеи и замечания"
   ]
  },
  {
   "attachments": {},
   "cell_type": "markdown",
   "id": "ea53b09a",
   "metadata": {
    "papermill": {
     "duration": 0.011933,
     "end_time": "2023-07-09T23:54:18.985192",
     "exception": false,
     "start_time": "2023-07-09T23:54:18.973259",
     "status": "completed"
    },
    "tags": []
   },
   "source": [
    "1. CatBoost лучше отрабатывает с неглубокими деревьями нежели в глубокими, так же на больших reg_lambda (>100) <font color=\"green\">(kaggle 0.23)</font>\n",
    "2. В данных существуют моды с одинаковым значением, что может свидетельствовать о том, что на месте этих значений были NaNы, заменим такие значения на NaNы\n",
    "3. Максимальное отклонение признака, то есть если распределение признака $\\xi_i$, то максимальное отклонение равно $\\max_i \\frac{|E \\xi_i - x_i|}{D \\xi_i}$"
   ]
  },
  {
   "attachments": {},
   "cell_type": "markdown",
   "id": "a4af98a0",
   "metadata": {
    "papermill": {
     "duration": 0.011521,
     "end_time": "2023-07-09T23:54:19.008314",
     "exception": false,
     "start_time": "2023-07-09T23:54:18.996793",
     "status": "completed"
    },
    "tags": []
   },
   "source": [
    "## Модули с моделями"
   ]
  },
  {
   "attachments": {},
   "cell_type": "markdown",
   "id": "f6764368",
   "metadata": {
    "papermill": {
     "duration": 0.0115,
     "end_time": "2023-07-09T23:54:19.031691",
     "exception": false,
     "start_time": "2023-07-09T23:54:19.020191",
     "status": "completed"
    },
    "tags": []
   },
   "source": [
    "### CatBoost модель"
   ]
  },
  {
   "cell_type": "code",
   "execution_count": 4,
   "id": "f9924102",
   "metadata": {
    "execution": {
     "iopub.execute_input": "2023-07-09T23:54:19.056485Z",
     "iopub.status.busy": "2023-07-09T23:54:19.056116Z",
     "iopub.status.idle": "2023-07-09T23:54:19.078262Z",
     "shell.execute_reply": "2023-07-09T23:54:19.077080Z"
    },
    "papermill": {
     "duration": 0.037411,
     "end_time": "2023-07-09T23:54:19.080667",
     "exception": false,
     "start_time": "2023-07-09T23:54:19.043256",
     "status": "completed"
    },
    "tags": []
   },
   "outputs": [],
   "source": [
    "class NaNizeTransformer(TransformerMixin):  # Трансформер, который восстанавливает NaNы, которые были скрыты создателями оригинального датасета\n",
    "    def __init__(self, diff=2, include=[], exclude=[]):\n",
    "        super().__init__()\n",
    "        self.diff = diff\n",
    "        if len(set(include) & set(exclude)) != 0:\n",
    "            raise ValueError(\"include and exclude has mutual elements\")\n",
    "        self.include = include\n",
    "        self.exclude = exclude\n",
    "    \n",
    "    def fit(self, X: pd.DataFrame, y=None):\n",
    "        self.nulls = {}\n",
    "        for col in X.columns:\n",
    "            if col in self.include or (col not in self.exclude and pd.api.types.is_numeric_dtype(X[col].dtype)):\n",
    "                temp = X[col].value_counts().sort_values(ascending=False)\n",
    "                if col in self.include or temp.shape[0] > 5 and temp.values[0] / temp.values[1] > self.diff:\n",
    "                    self.nulls[col] = temp.index[0]\n",
    "        return self\n",
    "    \n",
    "    def transform(self, X: pd.DataFrame):\n",
    "        X_copy = X.copy(deep=True)\n",
    "        for col, key in self.nulls.items():\n",
    "            X_copy[col].replace(key, np.nan, inplace=True)\n",
    "        return X_copy\n",
    "    \n",
    "    def inverse_transform(self, X: pd.DataFrame):\n",
    "        X_copy = X.copy(deep=True)\n",
    "        for col, key in self.nulls.items():\n",
    "            X_copy[col].fillna(value=key)\n",
    "        return X_copy\n",
    "                \n",
    "\n",
    "class CatBoostTransformer(TransformerMixin):\n",
    "    def __init__(self, bad_features, random_state=RANDOM_STATE):\n",
    "        self.random_state = random_state\n",
    "        self.bad_features = bad_features\n",
    "    \n",
    "    def fit(self, X, y):\n",
    "        X_trans = X.copy(deep=True)\n",
    "        X_trans.columns = X_trans.columns.str.strip()\n",
    "        self.naninput = NaNizeTransformer()\n",
    "        X_trans = self.naninput.fit_transform(X_trans)\n",
    "        for col in X_trans.columns:\n",
    "            if pd.api.types.is_string_dtype(X_trans[col]):\n",
    "                continue\n",
    "            X_trans[col] = np.log1p(X_trans[col])\n",
    "        self.mean0 = X_trans.drop(columns=['EJ', 'Id']).loc[y == 0].mean()\n",
    "        self.var0 = X_trans.drop(columns=['EJ', 'Id']).loc[y == 0].std()\n",
    "        return self\n",
    "    \n",
    "    def transform(self, X):\n",
    "        X_trans = X.copy(deep=True)\n",
    "        X_trans.columns = X_trans.columns.str.strip()\n",
    "        X_trans.drop(columns=self.bad_features, inplace=True)\n",
    "        X_trans = self.naninput.transform(X_trans)\n",
    "        for col in X_trans.columns:\n",
    "            if col == \"EJ\":\n",
    "                continue\n",
    "            X_trans[col] = np.log1p(X_trans[col])\n",
    "        vardrop = ['EJ']\n",
    "        comp = X_trans.drop(columns=vardrop)\n",
    "        # cols = X_trans.columns.values\n",
    "        comp = np.abs(comp - self.mean0) / self.var0\n",
    "        X_trans['max_variance'] = np.nanmax(comp.values, axis=1).ravel()\n",
    "        # X_trans['max_variance_name'] = cols[np.nanargmax(comp.values, axis=1).ravel()]\n",
    "        return X_trans\n",
    "\n",
    "\n",
    "class CatBoostModel(BaseEstimator):\n",
    "    def __init__(self, random_state=RANDOM_STATE, verbose=False):\n",
    "        super().__init__()\n",
    "        self.random_state = random_state\n",
    "        self.bad_features = ['Id']\n",
    "        self.categorical = [\"EJ\"]\n",
    "        self.verbose = verbose\n",
    "    \n",
    "    def fit(self, X, y):\n",
    "        self.transformer = CatBoostTransformer(self.bad_features, random_state=self.random_state)\n",
    "        self.weights = [1 / (X.shape[0] - y.sum()), 1 / y.sum()]\n",
    "        X_trans = self.transformer.fit_transform(X, y)\n",
    "        X_train, X_val, y_train, y_val = train_test_split(X_trans, y, test_size=0.1, random_state=RANDOM_STATE, stratify=y)\n",
    "        CATBOOST_PARAMS = {'n_estimators': 1000000,\n",
    "                           \"eval_metric\": \"Logloss:use_weights=True\",\n",
    "                           \"class_weights\": self.weights,\n",
    "                           'max_depth': 4,\n",
    "                           'max_leaves': 7,\n",
    "                           'min_child_samples': 9,\n",
    "                           'reg_lambda': 640.3664246084949,\n",
    "                           'grow_policy': 'Lossguide',\n",
    "                           'random_seed': RANDOM_STATE}\n",
    "        \n",
    "        CATBOOST_FIT_PARAMS = {\"eval_set\": (X_val, y_val),\n",
    "                               \"early_stopping_rounds\": 50,\n",
    "                               \"cat_features\": self.categorical,\n",
    "                               \"use_best_model\": True,\n",
    "                               \"verbose\": self.verbose}\n",
    "        if not self.verbose:\n",
    "            CATBOOST_PARAMS['verbose'] = -1\n",
    "        else:\n",
    "            CATBOOST_FIT_PARAMS['metric_period'] = 100\n",
    "        model = CatBoostClassifier(**CATBOOST_PARAMS)\n",
    "        with warnings.catch_warnings():\n",
    "            warnings.filterwarnings('ignore', category=FutureWarning)\n",
    "            model.fit(X_train, y_train, **CATBOOST_FIT_PARAMS)\n",
    "        self.model = model\n",
    "        return self\n",
    "    \n",
    "    def predict(self, X):\n",
    "        with warnings.catch_warnings():\n",
    "            warnings.filterwarnings('ignore', category=FutureWarning)\n",
    "            return self.model.predict(self.transformer.transform(X))\n",
    "    \n",
    "    def predict_proba(self, X):\n",
    "        with warnings.catch_warnings():\n",
    "            warnings.filterwarnings('ignore', category=FutureWarning)\n",
    "            return self.model.predict_proba(self.transformer.transform(X))"
   ]
  },
  {
   "attachments": {},
   "cell_type": "markdown",
   "id": "c93b4fd1",
   "metadata": {
    "papermill": {
     "duration": 0.011601,
     "end_time": "2023-07-09T23:54:19.104118",
     "exception": false,
     "start_time": "2023-07-09T23:54:19.092517",
     "status": "completed"
    },
    "tags": []
   },
   "source": [
    "### SVM модель"
   ]
  },
  {
   "cell_type": "code",
   "execution_count": 5,
   "id": "bc92de86",
   "metadata": {
    "execution": {
     "iopub.execute_input": "2023-07-09T23:54:19.129947Z",
     "iopub.status.busy": "2023-07-09T23:54:19.129513Z",
     "iopub.status.idle": "2023-07-09T23:54:19.137408Z",
     "shell.execute_reply": "2023-07-09T23:54:19.136079Z"
    },
    "papermill": {
     "duration": 0.023407,
     "end_time": "2023-07-09T23:54:19.139459",
     "exception": false,
     "start_time": "2023-07-09T23:54:19.116052",
     "status": "completed"
    },
    "tags": []
   },
   "outputs": [],
   "source": [
    "class SVMModel(BaseEstimator):\n",
    "    def __init__(self, **model_params):\n",
    "        super().__init__()\n",
    "        self.model_params = model_params\n",
    "    \n",
    "    def fit(self, X: pd.DataFrame, y):\n",
    "        self.nantransform = NaNizeTransformer()\n",
    "        X_trans = self.nantransform.fit_transform(X, y)\n",
    "        self.ej_encoder = LabelEncoder()\n",
    "        X_trans['EJ'] = self.ej_encoder.fit_transform(X_trans['EJ'])\n",
    "        self.model = Pipeline(steps=[('imputer', SimpleImputer()), ('scaler', StandardScaler()), ('SVM', SVC(**self.model_params))])\n",
    "        X_trans.drop(columns=['Id'], inplace=True)\n",
    "        self.model.fit(X_trans, y)\n",
    "        return self\n",
    "    \n",
    "    def predict_proba(self, X: pd.DataFrame):\n",
    "        X_trans = self.nantransform.transform(X)\n",
    "        X_trans['EJ'] = self.ej_encoder.transform(X_trans['EJ'])\n",
    "        X_trans.drop(columns=['Id'], inplace=True)\n",
    "        return self.model.predict_proba(X_trans)\n",
    "        \n"
   ]
  },
  {
   "attachments": {},
   "cell_type": "markdown",
   "id": "e3c96085",
   "metadata": {
    "papermill": {
     "duration": 0.01174,
     "end_time": "2023-07-09T23:54:19.163122",
     "exception": false,
     "start_time": "2023-07-09T23:54:19.151382",
     "status": "completed"
    },
    "tags": []
   },
   "source": [
    "### Случайный лес"
   ]
  },
  {
   "cell_type": "code",
   "execution_count": 6,
   "id": "a561ba5f",
   "metadata": {
    "execution": {
     "iopub.execute_input": "2023-07-09T23:54:19.188669Z",
     "iopub.status.busy": "2023-07-09T23:54:19.188315Z",
     "iopub.status.idle": "2023-07-09T23:54:19.197282Z",
     "shell.execute_reply": "2023-07-09T23:54:19.196147Z"
    },
    "papermill": {
     "duration": 0.024168,
     "end_time": "2023-07-09T23:54:19.199339",
     "exception": false,
     "start_time": "2023-07-09T23:54:19.175171",
     "status": "completed"
    },
    "tags": []
   },
   "outputs": [],
   "source": [
    "class RandomForestModel(BaseEstimator):\n",
    "    def __init__(self, **model_params):\n",
    "        super().__init__()\n",
    "        self.model_params = model_params\n",
    "    \n",
    "    def fit(self, X: pd.DataFrame, y):\n",
    "        self.nantransform = NaNizeTransformer()\n",
    "        X_trans = self.nantransform.fit_transform(X, y)\n",
    "        X_trans = self.nantransform.inverse_transform(X_trans)\n",
    "        self.ej_encoder = LabelEncoder()\n",
    "        X_trans['EJ'] = self.ej_encoder.fit_transform(X_trans['EJ'])\n",
    "        self.model = Pipeline(steps=[('imputer', SimpleImputer(strategy=\"constant\", fill_value=0)), ('RandomForest', RandomForestClassifier(**self.model_params))])\n",
    "        X_trans.drop(columns=['Id'], inplace=True)\n",
    "        self.model.fit(X_trans, y)\n",
    "        return self\n",
    "    \n",
    "    def predict_proba(self, X: pd.DataFrame):\n",
    "        X_trans = self.nantransform.transform(X)\n",
    "        X_trans = self.nantransform.inverse_transform(X_trans)\n",
    "        X_trans['EJ'] = self.ej_encoder.transform(X_trans['EJ'])\n",
    "        X_trans.drop(columns=['Id'], inplace=True)\n",
    "        return self.model.predict_proba(X_trans)"
   ]
  },
  {
   "attachments": {},
   "cell_type": "markdown",
   "id": "7c055f00",
   "metadata": {
    "papermill": {
     "duration": 0.011743,
     "end_time": "2023-07-09T23:54:19.223035",
     "exception": false,
     "start_time": "2023-07-09T23:54:19.211292",
     "status": "completed"
    },
    "tags": []
   },
   "source": [
    "## Метамодели"
   ]
  },
  {
   "attachments": {},
   "cell_type": "markdown",
   "id": "c8691532",
   "metadata": {
    "papermill": {
     "duration": 0.011541,
     "end_time": "2023-07-09T23:54:19.246676",
     "exception": false,
     "start_time": "2023-07-09T23:54:19.235135",
     "status": "completed"
    },
    "tags": []
   },
   "source": [
    "### Среднее"
   ]
  },
  {
   "cell_type": "code",
   "execution_count": 7,
   "id": "a6f58e38",
   "metadata": {
    "execution": {
     "iopub.execute_input": "2023-07-09T23:54:19.273289Z",
     "iopub.status.busy": "2023-07-09T23:54:19.272369Z",
     "iopub.status.idle": "2023-07-09T23:54:19.277803Z",
     "shell.execute_reply": "2023-07-09T23:54:19.277175Z"
    },
    "papermill": {
     "duration": 0.020869,
     "end_time": "2023-07-09T23:54:19.279937",
     "exception": false,
     "start_time": "2023-07-09T23:54:19.259068",
     "status": "completed"
    },
    "tags": []
   },
   "outputs": [],
   "source": [
    "class StackingMean(BaseEstimator):\n",
    "    def __init__(self):\n",
    "        super().__init__()\n",
    "    \n",
    "    def fit(self, X=None, y=None):\n",
    "        return self\n",
    "    \n",
    "    def predict_proba(self, X):\n",
    "        return np.hstack([1 - np.mean(X.to_numpy(), axis=1).reshape([-1, 1]), np.mean(X.to_numpy(), axis=1).reshape([-1, 1])])"
   ]
  },
  {
   "attachments": {},
   "cell_type": "markdown",
   "id": "b20b890e",
   "metadata": {
    "papermill": {
     "duration": 0.012032,
     "end_time": "2023-07-09T23:54:19.304266",
     "exception": false,
     "start_time": "2023-07-09T23:54:19.292234",
     "status": "completed"
    },
    "tags": []
   },
   "source": [
    "### Фиксированная логистическая регрессия"
   ]
  },
  {
   "cell_type": "code",
   "execution_count": 8,
   "id": "d082785c",
   "metadata": {
    "execution": {
     "iopub.execute_input": "2023-07-09T23:54:19.331407Z",
     "iopub.status.busy": "2023-07-09T23:54:19.330786Z",
     "iopub.status.idle": "2023-07-09T23:54:19.336591Z",
     "shell.execute_reply": "2023-07-09T23:54:19.335247Z"
    },
    "papermill": {
     "duration": 0.02255,
     "end_time": "2023-07-09T23:54:19.338858",
     "exception": false,
     "start_time": "2023-07-09T23:54:19.316308",
     "status": "completed"
    },
    "tags": []
   },
   "outputs": [],
   "source": [
    "class FixedLogRegressor(BaseEstimator):\n",
    "    def __init__(self, inter, weights):\n",
    "        super().__init__()\n",
    "        self.model = LogisticRegression()\n",
    "        self.model.coef_ = weights\n",
    "        self.model.intercept_ = inter\n",
    "        self.model.classes_ = np.array([0, 1])\n",
    "    \n",
    "    def fit(self, X=None, y=None):\n",
    "        return self\n",
    "    \n",
    "    def predict_proba(self, X):\n",
    "        return self.model.predict_proba(X)"
   ]
  },
  {
   "attachments": {},
   "cell_type": "markdown",
   "id": "2a58addf",
   "metadata": {
    "papermill": {
     "duration": 0.012427,
     "end_time": "2023-07-09T23:54:19.363467",
     "exception": false,
     "start_time": "2023-07-09T23:54:19.351040",
     "status": "completed"
    },
    "tags": []
   },
   "source": [
    "## Стекинг"
   ]
  },
  {
   "cell_type": "code",
   "execution_count": 9,
   "id": "2ea6dbbd",
   "metadata": {
    "execution": {
     "iopub.execute_input": "2023-07-09T23:54:19.389609Z",
     "iopub.status.busy": "2023-07-09T23:54:19.389236Z",
     "iopub.status.idle": "2023-07-09T23:54:19.401775Z",
     "shell.execute_reply": "2023-07-09T23:54:19.401025Z"
    },
    "papermill": {
     "duration": 0.028226,
     "end_time": "2023-07-09T23:54:19.404039",
     "exception": false,
     "start_time": "2023-07-09T23:54:19.375813",
     "status": "completed"
    },
    "tags": []
   },
   "outputs": [],
   "source": [
    "class ModelStacker(BaseEstimator):\n",
    "    def __init__(self, models, metamodel=None, random_state=RANDOM_STATE, outer_frac=0.2):\n",
    "        \"\"\"\n",
    "            models - словарь: название модели - объект модели\n",
    "            metamodel - объект метамодели\n",
    "            Если в models всего одна модель, то metamodels игнорируется\n",
    "        \"\"\"\n",
    "        super().__init__()\n",
    "        self.models = models\n",
    "        self.metamodel = metamodel\n",
    "        self._random_state = random_state\n",
    "        self._outer_frac = outer_frac\n",
    "    \n",
    "    def fit(self, X, y, inner=True, outer=True):\n",
    "        \"\"\"\n",
    "            X, y - датасет\n",
    "            inner - обучать ли внутренние модели\n",
    "            outer - обучать ли метамодель\n",
    "            outer_frac - доля объектов при обучении метамодели (если inner или outer = False, либо в models 1 модель, то этот параметр игнорируется)\n",
    "            Если inner = False, то все внутренние модели должны быть обученны. Если в self.models всего 1 модель, то метамодель игнорируется\n",
    "        \"\"\"\n",
    "        if inner and outer and len(self.models) > 1 and self._outer_frac > 0:\n",
    "            X_inner, X_outer, y_inner, y_outer = train_test_split(X, y, test_size=self._outer_frac, stratify=y)\n",
    "            for model in self.models:\n",
    "                self.models[model].fit(X_inner, y_inner)\n",
    "            temp = {}\n",
    "            for model in self.models:\n",
    "                if hasattr(self.models[model], \"predict_proba\"):\n",
    "                    temp[model] = self.models[model].predict_proba(X_outer)[:, 1]\n",
    "                else:\n",
    "                    temp[model] = self.models[model].predict(X_outer)\n",
    "            temp = pd.DataFrame(temp)\n",
    "            self.metamodel.fit(temp, y_outer)\n",
    "            \n",
    "        elif inner and (len(self.models) == 1 or self._outer_frac == 0):\n",
    "            for model in self.models:\n",
    "                self.models[model].fit(X, y)\n",
    "        elif len(self.models) > 1 and outer:\n",
    "            temp = {}\n",
    "            for model in self.models:\n",
    "                if hasattr(self.models[model], \"predict_proba\"):\n",
    "                    temp[model] = self.models[model].predict_proba(X)[:, 1]\n",
    "                else:\n",
    "                    temp[model] = self.models[model].predict(X)\n",
    "            temp = pd.DataFrame(temp)\n",
    "            self.metamodel.fit(temp, y)\n",
    "        return self\n",
    "    \n",
    "    def predict_proba(self, X):\n",
    "        if len(self.models) == 1:\n",
    "            for model in self.models:\n",
    "                return self.models[model].predict_proba(X)\n",
    "        else:\n",
    "            temp = {}\n",
    "            for model in self.models:\n",
    "                if hasattr(self.models[model], \"predict_proba\"):\n",
    "                    temp[model] = self.models[model].predict_proba(X)[:, 1]\n",
    "                else:\n",
    "                    temp[model] = self.models[model].predict(X)\n",
    "            return self.metamodel.predict_proba(pd.DataFrame(temp))"
   ]
  },
  {
   "attachments": {},
   "cell_type": "markdown",
   "id": "f49e4a81",
   "metadata": {
    "papermill": {
     "duration": 0.011616,
     "end_time": "2023-07-09T23:54:19.428034",
     "exception": false,
     "start_time": "2023-07-09T23:54:19.416418",
     "status": "completed"
    },
    "tags": []
   },
   "source": [
    "## Обучение"
   ]
  },
  {
   "cell_type": "code",
   "execution_count": 10,
   "id": "ba28e37a",
   "metadata": {
    "execution": {
     "iopub.execute_input": "2023-07-09T23:54:19.452993Z",
     "iopub.status.busy": "2023-07-09T23:54:19.452393Z",
     "iopub.status.idle": "2023-07-09T23:54:19.502644Z",
     "shell.execute_reply": "2023-07-09T23:54:19.501140Z"
    },
    "papermill": {
     "duration": 0.066298,
     "end_time": "2023-07-09T23:54:19.506007",
     "exception": false,
     "start_time": "2023-07-09T23:54:19.439709",
     "status": "completed"
    },
    "tags": []
   },
   "outputs": [],
   "source": [
    "X = pd.read_csv(PATH + 'train.csv')\n",
    "y = X.Class\n",
    "X.drop(columns=['Class'], inplace=True)\n",
    "test = pd.read_csv(PATH + \"test.csv\")"
   ]
  },
  {
   "cell_type": "code",
   "execution_count": 11,
   "id": "9f9daf4f",
   "metadata": {
    "execution": {
     "iopub.execute_input": "2023-07-09T23:54:19.533014Z",
     "iopub.status.busy": "2023-07-09T23:54:19.531516Z",
     "iopub.status.idle": "2023-07-09T23:54:19.539201Z",
     "shell.execute_reply": "2023-07-09T23:54:19.537326Z"
    },
    "papermill": {
     "duration": 0.023614,
     "end_time": "2023-07-09T23:54:19.541958",
     "exception": false,
     "start_time": "2023-07-09T23:54:19.518344",
     "status": "completed"
    },
    "tags": []
   },
   "outputs": [],
   "source": [
    "MODELS = {\n",
    "          \"CatBoost\": CatBoostModel(random_state=RANDOM_STATE, verbose=True),\n",
    "          \"SVM\": SVMModel(**{'C': 43.01520973313692,\n",
    "                             'kernel': 'rbf',\n",
    "                             'degree': 1,\n",
    "                             'class_weight': None,\n",
    "                             'probability': True}),\n",
    "          \"RandomForest\": RandomForestModel(**{'n_estimators': 52,\n",
    "                                               'criterion': 'entropy',\n",
    "                                               'max_depth': 8,\n",
    "                                               'min_samples_leaf': 8,\n",
    "                                               'class_weight': 'balanced'})\n",
    "        }"
   ]
  },
  {
   "cell_type": "code",
   "execution_count": 12,
   "id": "35d4801c",
   "metadata": {
    "execution": {
     "iopub.execute_input": "2023-07-09T23:54:19.568675Z",
     "iopub.status.busy": "2023-07-09T23:54:19.568309Z",
     "iopub.status.idle": "2023-07-09T23:54:24.590452Z",
     "shell.execute_reply": "2023-07-09T23:54:24.588186Z"
    },
    "papermill": {
     "duration": 5.038583,
     "end_time": "2023-07-09T23:54:24.593088",
     "exception": false,
     "start_time": "2023-07-09T23:54:19.554505",
     "status": "completed"
    },
    "tags": []
   },
   "outputs": [
    {
     "name": "stderr",
     "output_type": "stream",
     "text": [
      "Warning: Overfitting detector is active, thus evaluation metric is calculated on every iteration. 'metric_period' is ignored for evaluation metric.\n"
     ]
    },
    {
     "name": "stdout",
     "output_type": "stream",
     "text": [
      "0:\tlearn: 0.6843782\ttest: 0.6849267\tbest: 0.6849267 (0)\ttotal: 56.8ms\tremaining: 15h 47m 2s\n",
      "100:\tlearn: 0.3449253\ttest: 0.4276315\tbest: 0.4276315 (100)\ttotal: 371ms\tremaining: 1h 1m 8s\n",
      "200:\tlearn: 0.2574482\ttest: 0.3741315\tbest: 0.3741315 (200)\ttotal: 688ms\tremaining: 57m 1s\n",
      "300:\tlearn: 0.2107060\ttest: 0.3509243\tbest: 0.3505165 (296)\ttotal: 1.03s\tremaining: 56m 54s\n",
      "400:\tlearn: 0.1803666\ttest: 0.3401527\tbest: 0.3401527 (400)\ttotal: 1.35s\tremaining: 55m 59s\n",
      "500:\tlearn: 0.1581670\ttest: 0.3306029\tbest: 0.3306029 (500)\ttotal: 1.66s\tremaining: 55m 11s\n",
      "600:\tlearn: 0.1414376\ttest: 0.3225213\tbest: 0.3220734 (593)\ttotal: 1.98s\tremaining: 54m 44s\n",
      "700:\tlearn: 0.1278044\ttest: 0.3141805\tbest: 0.3136874 (696)\ttotal: 2.29s\tremaining: 54m 20s\n",
      "800:\tlearn: 0.1173923\ttest: 0.3073774\tbest: 0.3073774 (800)\ttotal: 2.59s\tremaining: 53m 56s\n",
      "900:\tlearn: 0.1087084\ttest: 0.3002718\tbest: 0.3002718 (900)\ttotal: 2.9s\tremaining: 53m 40s\n",
      "1000:\tlearn: 0.1008553\ttest: 0.2979944\tbest: 0.2978670 (994)\ttotal: 3.21s\tremaining: 53m 22s\n",
      "1100:\tlearn: 0.0940910\ttest: 0.2934149\tbest: 0.2932118 (1090)\ttotal: 3.51s\tremaining: 53m 8s\n",
      "1200:\tlearn: 0.0882916\ttest: 0.2907331\tbest: 0.2907331 (1200)\ttotal: 3.84s\tremaining: 53m 10s\n",
      "1300:\tlearn: 0.0830473\ttest: 0.2882335\tbest: 0.2881223 (1294)\ttotal: 4.15s\tremaining: 53m 8s\n",
      "Stopped by overfitting detector  (50 iterations wait)\n",
      "\n",
      "bestTest = 0.2880013699\n",
      "bestIteration = 1326\n",
      "\n",
      "Shrink model to first 1327 iterations.\n"
     ]
    },
    {
     "name": "stderr",
     "output_type": "stream",
     "text": [
      "/opt/conda/lib/python3.10/site-packages/sklearn/base.py:432: UserWarning: X has feature names, but LogisticRegression was fitted without feature names\n",
      "  warnings.warn(\n"
     ]
    }
   ],
   "source": [
    "model = ModelStacker(MODELS, \n",
    "                     metamodel=FixedLogRegressor(np.array([-2.54545349]), np.array([[2.76411647, 2.48100103, 2.66959559]])), \n",
    "                     random_state=RANDOM_STATE, outer_frac=0)\n",
    "model.fit(X, y)\n",
    "ans = model.predict_proba(test)"
   ]
  },
  {
   "cell_type": "code",
   "execution_count": 13,
   "id": "23e22aba",
   "metadata": {
    "execution": {
     "iopub.execute_input": "2023-07-09T23:54:24.621545Z",
     "iopub.status.busy": "2023-07-09T23:54:24.621226Z",
     "iopub.status.idle": "2023-07-09T23:54:24.631256Z",
     "shell.execute_reply": "2023-07-09T23:54:24.629890Z"
    },
    "papermill": {
     "duration": 0.027168,
     "end_time": "2023-07-09T23:54:24.633716",
     "exception": false,
     "start_time": "2023-07-09T23:54:24.606548",
     "status": "completed"
    },
    "tags": []
   },
   "outputs": [],
   "source": [
    "submission = pd.read_csv(PATH + 'sample_submission.csv')\n",
    "submission[['class_0', 'class_1']] = ans"
   ]
  },
  {
   "cell_type": "code",
   "execution_count": 14,
   "id": "28e4073d",
   "metadata": {
    "execution": {
     "iopub.execute_input": "2023-07-09T23:54:24.664003Z",
     "iopub.status.busy": "2023-07-09T23:54:24.663639Z",
     "iopub.status.idle": "2023-07-09T23:54:24.673631Z",
     "shell.execute_reply": "2023-07-09T23:54:24.672537Z"
    },
    "papermill": {
     "duration": 0.027453,
     "end_time": "2023-07-09T23:54:24.676503",
     "exception": false,
     "start_time": "2023-07-09T23:54:24.649050",
     "status": "completed"
    },
    "tags": []
   },
   "outputs": [],
   "source": [
    "submission.to_csv(SUB_PATH + 'submission.csv', index=False)"
   ]
  },
  {
   "attachments": {},
   "cell_type": "markdown",
   "id": "5d93e440",
   "metadata": {
    "papermill": {
     "duration": 0.014141,
     "end_time": "2023-07-09T23:54:24.704546",
     "exception": false,
     "start_time": "2023-07-09T23:54:24.690405",
     "status": "completed"
    },
    "tags": []
   },
   "source": [
    "# Анализ данных"
   ]
  },
  {
   "attachments": {},
   "cell_type": "markdown",
   "id": "32e02fac",
   "metadata": {
    "papermill": {
     "duration": 0.01345,
     "end_time": "2023-07-09T23:54:24.731720",
     "exception": false,
     "start_time": "2023-07-09T23:54:24.718270",
     "status": "completed"
    },
    "tags": []
   },
   "source": [
    "## Общие замечания\n",
    "\n",
    "1. В train.csv есть NaNы в EL, BQ, CC, FS, CB, FL, FC, DU, GL. ~~При этом в test.csv NaNов нет,~~ настоящий тест скрыт\n",
    "2. Сильно коррелированные признаки DV и CR, BC и BZ\n",
    "3. У данных часто существуют моды с единственным значением. "
   ]
  },
  {
   "attachments": {},
   "cell_type": "markdown",
   "id": "8eadf136",
   "metadata": {
    "papermill": {
     "duration": 0.013098,
     "end_time": "2023-07-09T23:54:24.758259",
     "exception": false,
     "start_time": "2023-07-09T23:54:24.745161",
     "status": "completed"
    },
    "tags": []
   },
   "source": [
    "## train.csv + greeks.csv"
   ]
  },
  {
   "cell_type": "code",
   "execution_count": 15,
   "id": "54c9f19f",
   "metadata": {
    "execution": {
     "iopub.execute_input": "2023-07-09T23:54:24.786811Z",
     "iopub.status.busy": "2023-07-09T23:54:24.786439Z",
     "iopub.status.idle": "2023-07-09T23:54:25.481768Z",
     "shell.execute_reply": "2023-07-09T23:54:25.480752Z"
    },
    "papermill": {
     "duration": 0.712643,
     "end_time": "2023-07-09T23:54:25.484513",
     "exception": false,
     "start_time": "2023-07-09T23:54:24.771870",
     "status": "completed"
    },
    "tags": []
   },
   "outputs": [],
   "source": [
    "import plotly.express as px\n",
    "X_train_joined = pd.read_csv(PATH + 'train.csv')\n",
    "temp = pd.read_csv(PATH + 'greeks.csv')\n",
    "X_train_joined = X_train_joined.merge(temp, how='left', on='Id')"
   ]
  },
  {
   "cell_type": "code",
   "execution_count": 16,
   "id": "0a7ef184",
   "metadata": {
    "execution": {
     "iopub.execute_input": "2023-07-09T23:54:25.513120Z",
     "iopub.status.busy": "2023-07-09T23:54:25.512757Z",
     "iopub.status.idle": "2023-07-09T23:54:25.522787Z",
     "shell.execute_reply": "2023-07-09T23:54:25.521638Z"
    },
    "papermill": {
     "duration": 0.027485,
     "end_time": "2023-07-09T23:54:25.525606",
     "exception": false,
     "start_time": "2023-07-09T23:54:25.498121",
     "status": "completed"
    },
    "tags": []
   },
   "outputs": [
    {
     "data": {
      "text/plain": [
       "Id      object\n",
       "AB     float64\n",
       "AF     float64\n",
       "AH     float64\n",
       "AM     float64\n",
       "AR     float64\n",
       "AX     float64\n",
       "AY     float64\n",
       "AZ     float64\n",
       "BC     float64\n",
       "BD     float64\n",
       "BN     float64\n",
       "BP     float64\n",
       "BQ     float64\n",
       "BR     float64\n",
       "BZ     float64\n",
       "CB     float64\n",
       "CC     float64\n",
       "CD     float64\n",
       "CF     float64\n",
       "dtype: object"
      ]
     },
     "execution_count": 16,
     "metadata": {},
     "output_type": "execute_result"
    }
   ],
   "source": [
    "temp = 0\n",
    "X_train_joined.dtypes[temp:temp+20]"
   ]
  },
  {
   "cell_type": "code",
   "execution_count": 17,
   "id": "1376eac8",
   "metadata": {
    "execution": {
     "iopub.execute_input": "2023-07-09T23:54:25.554798Z",
     "iopub.status.busy": "2023-07-09T23:54:25.554413Z",
     "iopub.status.idle": "2023-07-09T23:54:25.564659Z",
     "shell.execute_reply": "2023-07-09T23:54:25.563388Z"
    },
    "papermill": {
     "duration": 0.027821,
     "end_time": "2023-07-09T23:54:25.567206",
     "exception": false,
     "start_time": "2023-07-09T23:54:25.539385",
     "status": "completed"
    },
    "tags": []
   },
   "outputs": [
    {
     "data": {
      "text/plain": [
       "array([['000ff2bfdfe9', 0.209377, 3109.03329, ..., 'G', 'D', '3/19/2019'],\n",
       "       ['007255e47698', 0.145282, 978.76416, ..., 'M', 'B', 'Unknown'],\n",
       "       ['013f2bd269f5', 0.47003, 2635.10654, ..., 'M', 'B', 'Unknown'],\n",
       "       ...,\n",
       "       ['fd8ef6377f76', 0.4273, 2459.1072, ..., 'M', 'B', '7/24/2019'],\n",
       "       ['fe1942975e40', 0.363205, 1263.53524, ..., 'M', 'B', '1/31/2019'],\n",
       "       ['ffcca4ded3bb', 0.482849, 2672.53426, ..., 'M', 'B', 'Unknown']],\n",
       "      dtype=object)"
      ]
     },
     "execution_count": 17,
     "metadata": {},
     "output_type": "execute_result"
    }
   ],
   "source": [
    "X_train_joined.to_numpy()"
   ]
  },
  {
   "cell_type": "code",
   "execution_count": 18,
   "id": "225bcfc7",
   "metadata": {
    "execution": {
     "iopub.execute_input": "2023-07-09T23:54:25.600709Z",
     "iopub.status.busy": "2023-07-09T23:54:25.600395Z",
     "iopub.status.idle": "2023-07-09T23:54:25.608751Z",
     "shell.execute_reply": "2023-07-09T23:54:25.607069Z"
    },
    "papermill": {
     "duration": 0.028691,
     "end_time": "2023-07-09T23:54:25.611596",
     "exception": false,
     "start_time": "2023-07-09T23:54:25.582905",
     "status": "completed"
    },
    "tags": []
   },
   "outputs": [],
   "source": [
    "X_train_joined.columns = X_train_joined.columns.str.strip()"
   ]
  },
  {
   "cell_type": "code",
   "execution_count": 19,
   "id": "7a8f6c77",
   "metadata": {
    "execution": {
     "iopub.execute_input": "2023-07-09T23:54:25.650223Z",
     "iopub.status.busy": "2023-07-09T23:54:25.647652Z",
     "iopub.status.idle": "2023-07-09T23:54:25.660160Z",
     "shell.execute_reply": "2023-07-09T23:54:25.658828Z"
    },
    "papermill": {
     "duration": 0.032434,
     "end_time": "2023-07-09T23:54:25.662986",
     "exception": false,
     "start_time": "2023-07-09T23:54:25.630552",
     "status": "completed"
    },
    "tags": []
   },
   "outputs": [],
   "source": [
    "X_train_joined.Epsilon.replace(\"Unknown\", np.nan, inplace=True)\n",
    "X_train_joined.Epsilon = pd.to_datetime(X_train_joined.Epsilon)"
   ]
  },
  {
   "cell_type": "code",
   "execution_count": 20,
   "id": "06161c76",
   "metadata": {
    "execution": {
     "iopub.execute_input": "2023-07-09T23:54:25.697778Z",
     "iopub.status.busy": "2023-07-09T23:54:25.697362Z",
     "iopub.status.idle": "2023-07-09T23:54:25.748035Z",
     "shell.execute_reply": "2023-07-09T23:54:25.747057Z"
    },
    "papermill": {
     "duration": 0.072066,
     "end_time": "2023-07-09T23:54:25.750379",
     "exception": false,
     "start_time": "2023-07-09T23:54:25.678313",
     "status": "completed"
    },
    "tags": []
   },
   "outputs": [
    {
     "data": {
      "text/html": [
       "<div>\n",
       "<style scoped>\n",
       "    .dataframe tbody tr th:only-of-type {\n",
       "        vertical-align: middle;\n",
       "    }\n",
       "\n",
       "    .dataframe tbody tr th {\n",
       "        vertical-align: top;\n",
       "    }\n",
       "\n",
       "    .dataframe thead th {\n",
       "        text-align: right;\n",
       "    }\n",
       "</style>\n",
       "<table border=\"1\" class=\"dataframe\">\n",
       "  <thead>\n",
       "    <tr style=\"text-align: right;\">\n",
       "      <th></th>\n",
       "      <th>Id</th>\n",
       "      <th>AB</th>\n",
       "      <th>AF</th>\n",
       "      <th>AH</th>\n",
       "      <th>AM</th>\n",
       "      <th>AR</th>\n",
       "      <th>AX</th>\n",
       "      <th>AY</th>\n",
       "      <th>AZ</th>\n",
       "      <th>BC</th>\n",
       "      <th>...</th>\n",
       "      <th>GF</th>\n",
       "      <th>GH</th>\n",
       "      <th>GI</th>\n",
       "      <th>GL</th>\n",
       "      <th>Class</th>\n",
       "      <th>Alpha</th>\n",
       "      <th>Beta</th>\n",
       "      <th>Gamma</th>\n",
       "      <th>Delta</th>\n",
       "      <th>Epsilon</th>\n",
       "    </tr>\n",
       "  </thead>\n",
       "  <tbody>\n",
       "    <tr>\n",
       "      <th>0</th>\n",
       "      <td>000ff2bfdfe9</td>\n",
       "      <td>0.209377</td>\n",
       "      <td>3109.03329</td>\n",
       "      <td>85.200147</td>\n",
       "      <td>22.394407</td>\n",
       "      <td>8.138688</td>\n",
       "      <td>0.699861</td>\n",
       "      <td>0.025578</td>\n",
       "      <td>9.812214</td>\n",
       "      <td>5.555634</td>\n",
       "      <td>...</td>\n",
       "      <td>2003.810319</td>\n",
       "      <td>22.136229</td>\n",
       "      <td>69.834944</td>\n",
       "      <td>0.120343</td>\n",
       "      <td>1</td>\n",
       "      <td>B</td>\n",
       "      <td>C</td>\n",
       "      <td>G</td>\n",
       "      <td>D</td>\n",
       "      <td>2019-03-19</td>\n",
       "    </tr>\n",
       "    <tr>\n",
       "      <th>1</th>\n",
       "      <td>007255e47698</td>\n",
       "      <td>0.145282</td>\n",
       "      <td>978.76416</td>\n",
       "      <td>85.200147</td>\n",
       "      <td>36.968889</td>\n",
       "      <td>8.138688</td>\n",
       "      <td>3.632190</td>\n",
       "      <td>0.025578</td>\n",
       "      <td>13.517790</td>\n",
       "      <td>1.229900</td>\n",
       "      <td>...</td>\n",
       "      <td>27981.562750</td>\n",
       "      <td>29.135430</td>\n",
       "      <td>32.131996</td>\n",
       "      <td>21.978000</td>\n",
       "      <td>0</td>\n",
       "      <td>A</td>\n",
       "      <td>C</td>\n",
       "      <td>M</td>\n",
       "      <td>B</td>\n",
       "      <td>NaT</td>\n",
       "    </tr>\n",
       "    <tr>\n",
       "      <th>2</th>\n",
       "      <td>013f2bd269f5</td>\n",
       "      <td>0.470030</td>\n",
       "      <td>2635.10654</td>\n",
       "      <td>85.200147</td>\n",
       "      <td>32.360553</td>\n",
       "      <td>8.138688</td>\n",
       "      <td>6.732840</td>\n",
       "      <td>0.025578</td>\n",
       "      <td>12.824570</td>\n",
       "      <td>1.229900</td>\n",
       "      <td>...</td>\n",
       "      <td>13676.957810</td>\n",
       "      <td>28.022851</td>\n",
       "      <td>35.192676</td>\n",
       "      <td>0.196941</td>\n",
       "      <td>0</td>\n",
       "      <td>A</td>\n",
       "      <td>C</td>\n",
       "      <td>M</td>\n",
       "      <td>B</td>\n",
       "      <td>NaT</td>\n",
       "    </tr>\n",
       "    <tr>\n",
       "      <th>3</th>\n",
       "      <td>043ac50845d5</td>\n",
       "      <td>0.252107</td>\n",
       "      <td>3819.65177</td>\n",
       "      <td>120.201618</td>\n",
       "      <td>77.112203</td>\n",
       "      <td>8.138688</td>\n",
       "      <td>3.685344</td>\n",
       "      <td>0.025578</td>\n",
       "      <td>11.053708</td>\n",
       "      <td>1.229900</td>\n",
       "      <td>...</td>\n",
       "      <td>2094.262452</td>\n",
       "      <td>39.948656</td>\n",
       "      <td>90.493248</td>\n",
       "      <td>0.155829</td>\n",
       "      <td>0</td>\n",
       "      <td>A</td>\n",
       "      <td>C</td>\n",
       "      <td>M</td>\n",
       "      <td>B</td>\n",
       "      <td>NaT</td>\n",
       "    </tr>\n",
       "    <tr>\n",
       "      <th>4</th>\n",
       "      <td>044fb8a146ec</td>\n",
       "      <td>0.380297</td>\n",
       "      <td>3733.04844</td>\n",
       "      <td>85.200147</td>\n",
       "      <td>14.103738</td>\n",
       "      <td>8.138688</td>\n",
       "      <td>3.942255</td>\n",
       "      <td>0.054810</td>\n",
       "      <td>3.396778</td>\n",
       "      <td>102.151980</td>\n",
       "      <td>...</td>\n",
       "      <td>8524.370502</td>\n",
       "      <td>45.381316</td>\n",
       "      <td>36.262628</td>\n",
       "      <td>0.096614</td>\n",
       "      <td>1</td>\n",
       "      <td>D</td>\n",
       "      <td>B</td>\n",
       "      <td>F</td>\n",
       "      <td>B</td>\n",
       "      <td>2020-03-25</td>\n",
       "    </tr>\n",
       "    <tr>\n",
       "      <th>...</th>\n",
       "      <td>...</td>\n",
       "      <td>...</td>\n",
       "      <td>...</td>\n",
       "      <td>...</td>\n",
       "      <td>...</td>\n",
       "      <td>...</td>\n",
       "      <td>...</td>\n",
       "      <td>...</td>\n",
       "      <td>...</td>\n",
       "      <td>...</td>\n",
       "      <td>...</td>\n",
       "      <td>...</td>\n",
       "      <td>...</td>\n",
       "      <td>...</td>\n",
       "      <td>...</td>\n",
       "      <td>...</td>\n",
       "      <td>...</td>\n",
       "      <td>...</td>\n",
       "      <td>...</td>\n",
       "      <td>...</td>\n",
       "      <td>...</td>\n",
       "    </tr>\n",
       "    <tr>\n",
       "      <th>612</th>\n",
       "      <td>fd3dafe738fd</td>\n",
       "      <td>0.149555</td>\n",
       "      <td>3130.05946</td>\n",
       "      <td>123.763599</td>\n",
       "      <td>9.513984</td>\n",
       "      <td>13.020852</td>\n",
       "      <td>3.499305</td>\n",
       "      <td>0.077343</td>\n",
       "      <td>8.545512</td>\n",
       "      <td>2.804172</td>\n",
       "      <td>...</td>\n",
       "      <td>8095.932828</td>\n",
       "      <td>24.640462</td>\n",
       "      <td>69.191944</td>\n",
       "      <td>21.978000</td>\n",
       "      <td>0</td>\n",
       "      <td>A</td>\n",
       "      <td>B</td>\n",
       "      <td>M</td>\n",
       "      <td>B</td>\n",
       "      <td>2020-09-13</td>\n",
       "    </tr>\n",
       "    <tr>\n",
       "      <th>613</th>\n",
       "      <td>fd895603f071</td>\n",
       "      <td>0.435846</td>\n",
       "      <td>5462.03438</td>\n",
       "      <td>85.200147</td>\n",
       "      <td>46.551007</td>\n",
       "      <td>15.973224</td>\n",
       "      <td>5.979825</td>\n",
       "      <td>0.025882</td>\n",
       "      <td>12.622906</td>\n",
       "      <td>3.777550</td>\n",
       "      <td>...</td>\n",
       "      <td>3085.308063</td>\n",
       "      <td>29.648928</td>\n",
       "      <td>124.808872</td>\n",
       "      <td>0.145340</td>\n",
       "      <td>0</td>\n",
       "      <td>A</td>\n",
       "      <td>B</td>\n",
       "      <td>M</td>\n",
       "      <td>B</td>\n",
       "      <td>2020-09-08</td>\n",
       "    </tr>\n",
       "    <tr>\n",
       "      <th>614</th>\n",
       "      <td>fd8ef6377f76</td>\n",
       "      <td>0.427300</td>\n",
       "      <td>2459.10720</td>\n",
       "      <td>130.138587</td>\n",
       "      <td>55.355778</td>\n",
       "      <td>10.005552</td>\n",
       "      <td>8.070549</td>\n",
       "      <td>0.025578</td>\n",
       "      <td>15.408390</td>\n",
       "      <td>1.229900</td>\n",
       "      <td>...</td>\n",
       "      <td>6474.652866</td>\n",
       "      <td>26.166072</td>\n",
       "      <td>119.559420</td>\n",
       "      <td>21.978000</td>\n",
       "      <td>0</td>\n",
       "      <td>A</td>\n",
       "      <td>C</td>\n",
       "      <td>M</td>\n",
       "      <td>B</td>\n",
       "      <td>2019-07-24</td>\n",
       "    </tr>\n",
       "    <tr>\n",
       "      <th>615</th>\n",
       "      <td>fe1942975e40</td>\n",
       "      <td>0.363205</td>\n",
       "      <td>1263.53524</td>\n",
       "      <td>85.200147</td>\n",
       "      <td>23.685856</td>\n",
       "      <td>8.138688</td>\n",
       "      <td>7.981959</td>\n",
       "      <td>0.025578</td>\n",
       "      <td>7.524588</td>\n",
       "      <td>1.229900</td>\n",
       "      <td>...</td>\n",
       "      <td>1965.343176</td>\n",
       "      <td>25.116750</td>\n",
       "      <td>37.155112</td>\n",
       "      <td>0.184622</td>\n",
       "      <td>0</td>\n",
       "      <td>A</td>\n",
       "      <td>C</td>\n",
       "      <td>M</td>\n",
       "      <td>B</td>\n",
       "      <td>2019-01-31</td>\n",
       "    </tr>\n",
       "    <tr>\n",
       "      <th>616</th>\n",
       "      <td>ffcca4ded3bb</td>\n",
       "      <td>0.482849</td>\n",
       "      <td>2672.53426</td>\n",
       "      <td>546.663930</td>\n",
       "      <td>112.006102</td>\n",
       "      <td>8.138688</td>\n",
       "      <td>3.198099</td>\n",
       "      <td>0.116928</td>\n",
       "      <td>3.396778</td>\n",
       "      <td>7.948668</td>\n",
       "      <td>...</td>\n",
       "      <td>6850.484442</td>\n",
       "      <td>45.745974</td>\n",
       "      <td>114.842372</td>\n",
       "      <td>21.978000</td>\n",
       "      <td>0</td>\n",
       "      <td>A</td>\n",
       "      <td>C</td>\n",
       "      <td>M</td>\n",
       "      <td>B</td>\n",
       "      <td>NaT</td>\n",
       "    </tr>\n",
       "  </tbody>\n",
       "</table>\n",
       "<p>617 rows × 63 columns</p>\n",
       "</div>"
      ],
      "text/plain": [
       "               Id        AB          AF          AH          AM         AR  \\\n",
       "0    000ff2bfdfe9  0.209377  3109.03329   85.200147   22.394407   8.138688   \n",
       "1    007255e47698  0.145282   978.76416   85.200147   36.968889   8.138688   \n",
       "2    013f2bd269f5  0.470030  2635.10654   85.200147   32.360553   8.138688   \n",
       "3    043ac50845d5  0.252107  3819.65177  120.201618   77.112203   8.138688   \n",
       "4    044fb8a146ec  0.380297  3733.04844   85.200147   14.103738   8.138688   \n",
       "..            ...       ...         ...         ...         ...        ...   \n",
       "612  fd3dafe738fd  0.149555  3130.05946  123.763599    9.513984  13.020852   \n",
       "613  fd895603f071  0.435846  5462.03438   85.200147   46.551007  15.973224   \n",
       "614  fd8ef6377f76  0.427300  2459.10720  130.138587   55.355778  10.005552   \n",
       "615  fe1942975e40  0.363205  1263.53524   85.200147   23.685856   8.138688   \n",
       "616  ffcca4ded3bb  0.482849  2672.53426  546.663930  112.006102   8.138688   \n",
       "\n",
       "           AX        AY         AZ          BC  ...            GF         GH  \\\n",
       "0    0.699861  0.025578   9.812214    5.555634  ...   2003.810319  22.136229   \n",
       "1    3.632190  0.025578  13.517790    1.229900  ...  27981.562750  29.135430   \n",
       "2    6.732840  0.025578  12.824570    1.229900  ...  13676.957810  28.022851   \n",
       "3    3.685344  0.025578  11.053708    1.229900  ...   2094.262452  39.948656   \n",
       "4    3.942255  0.054810   3.396778  102.151980  ...   8524.370502  45.381316   \n",
       "..        ...       ...        ...         ...  ...           ...        ...   \n",
       "612  3.499305  0.077343   8.545512    2.804172  ...   8095.932828  24.640462   \n",
       "613  5.979825  0.025882  12.622906    3.777550  ...   3085.308063  29.648928   \n",
       "614  8.070549  0.025578  15.408390    1.229900  ...   6474.652866  26.166072   \n",
       "615  7.981959  0.025578   7.524588    1.229900  ...   1965.343176  25.116750   \n",
       "616  3.198099  0.116928   3.396778    7.948668  ...   6850.484442  45.745974   \n",
       "\n",
       "             GI         GL  Class  Alpha  Beta  Gamma  Delta    Epsilon  \n",
       "0     69.834944   0.120343      1      B     C      G      D 2019-03-19  \n",
       "1     32.131996  21.978000      0      A     C      M      B        NaT  \n",
       "2     35.192676   0.196941      0      A     C      M      B        NaT  \n",
       "3     90.493248   0.155829      0      A     C      M      B        NaT  \n",
       "4     36.262628   0.096614      1      D     B      F      B 2020-03-25  \n",
       "..          ...        ...    ...    ...   ...    ...    ...        ...  \n",
       "612   69.191944  21.978000      0      A     B      M      B 2020-09-13  \n",
       "613  124.808872   0.145340      0      A     B      M      B 2020-09-08  \n",
       "614  119.559420  21.978000      0      A     C      M      B 2019-07-24  \n",
       "615   37.155112   0.184622      0      A     C      M      B 2019-01-31  \n",
       "616  114.842372  21.978000      0      A     C      M      B        NaT  \n",
       "\n",
       "[617 rows x 63 columns]"
      ]
     },
     "execution_count": 20,
     "metadata": {},
     "output_type": "execute_result"
    }
   ],
   "source": [
    "X_train_joined"
   ]
  },
  {
   "cell_type": "code",
   "execution_count": 21,
   "id": "58a4d418",
   "metadata": {
    "execution": {
     "iopub.execute_input": "2023-07-09T23:54:25.788154Z",
     "iopub.status.busy": "2023-07-09T23:54:25.787838Z",
     "iopub.status.idle": "2023-07-09T23:54:25.805468Z",
     "shell.execute_reply": "2023-07-09T23:54:25.804393Z"
    },
    "papermill": {
     "duration": 0.040419,
     "end_time": "2023-07-09T23:54:25.807970",
     "exception": false,
     "start_time": "2023-07-09T23:54:25.767551",
     "status": "completed"
    },
    "tags": []
   },
   "outputs": [
    {
     "data": {
      "text/plain": [
       "Epsilon    144\n",
       "BQ          60\n",
       "EL          60\n",
       "CC           3\n",
       "FS           2\n",
       "CB           2\n",
       "DU           1\n",
       "FL           1\n",
       "GL           1\n",
       "FC           1\n",
       "Class        0\n",
       "FD           0\n",
       "dtype: int64"
      ]
     },
     "execution_count": 21,
     "metadata": {},
     "output_type": "execute_result"
    }
   ],
   "source": [
    "X_train_joined.isna().sum().sort_values(ascending=False)[:12]"
   ]
  },
  {
   "attachments": {},
   "cell_type": "markdown",
   "id": "290eb65e",
   "metadata": {
    "papermill": {
     "duration": 0.013691,
     "end_time": "2023-07-09T23:54:25.836206",
     "exception": false,
     "start_time": "2023-07-09T23:54:25.822515",
     "status": "completed"
    },
    "tags": []
   },
   "source": [
    "Обнаружение пиков"
   ]
  },
  {
   "cell_type": "code",
   "execution_count": 22,
   "id": "833581a4",
   "metadata": {
    "execution": {
     "iopub.execute_input": "2023-07-09T23:54:25.867603Z",
     "iopub.status.busy": "2023-07-09T23:54:25.866220Z",
     "iopub.status.idle": "2023-07-09T23:54:25.877511Z",
     "shell.execute_reply": "2023-07-09T23:54:25.876182Z"
    },
    "papermill": {
     "duration": 0.029528,
     "end_time": "2023-07-09T23:54:25.880101",
     "exception": false,
     "start_time": "2023-07-09T23:54:25.850573",
     "status": "completed"
    },
    "tags": []
   },
   "outputs": [
    {
     "data": {
      "text/plain": [
       "['AF',\n",
       " 'AH',\n",
       " 'AM',\n",
       " 'AR',\n",
       " 'AX',\n",
       " 'AY',\n",
       " 'AZ',\n",
       " 'BC',\n",
       " 'BQ',\n",
       " 'BR',\n",
       " 'BZ',\n",
       " 'CB',\n",
       " 'CD',\n",
       " 'CF',\n",
       " 'CL',\n",
       " 'CR',\n",
       " 'CS',\n",
       " 'CU',\n",
       " 'CW',\n",
       " 'DF',\n",
       " 'DH',\n",
       " 'DI',\n",
       " 'DL',\n",
       " 'DU',\n",
       " 'DV',\n",
       " 'DY',\n",
       " 'EB',\n",
       " 'EE',\n",
       " 'EG',\n",
       " 'EH',\n",
       " 'EL',\n",
       " 'EP',\n",
       " 'EU',\n",
       " 'FD',\n",
       " 'FI',\n",
       " 'FL',\n",
       " 'FR',\n",
       " 'FS',\n",
       " 'GE',\n",
       " 'GF',\n",
       " 'GH',\n",
       " 'GL']"
      ]
     },
     "execution_count": 22,
     "metadata": {},
     "output_type": "execute_result"
    }
   ],
   "source": [
    "[\"AF\", \"AH\", \"AM\", \"AR\", \"AX\", \"AY\", \"AZ\", \"BC\", \"BQ\", \"BR\", \"BZ\", \"CB\", \"CD\", \"CF\", \"CL\", \"CR\", \"CS\", \"CU\", \"CW\", \"DF\", \"DH\", \"DI\", \"DL\", \"DU\", \"DV\", \"DY\", \"EB\", \"EE\", \"EG\", \"EH\", \"EL\", \"EP\", \"EU\", \"FD\", \"FI\", \"FL\", \"FR\", \"FS\", \"GE\", \"GF\", \"GH\", \"GL\"]"
   ]
  },
  {
   "cell_type": "code",
   "execution_count": 23,
   "id": "aa295b90",
   "metadata": {
    "execution": {
     "iopub.execute_input": "2023-07-09T23:54:25.915227Z",
     "iopub.status.busy": "2023-07-09T23:54:25.913954Z",
     "iopub.status.idle": "2023-07-09T23:54:25.926552Z",
     "shell.execute_reply": "2023-07-09T23:54:25.925088Z"
    },
    "papermill": {
     "duration": 0.034088,
     "end_time": "2023-07-09T23:54:25.929436",
     "exception": false,
     "start_time": "2023-07-09T23:54:25.895348",
     "status": "completed"
    },
    "tags": []
   },
   "outputs": [
    {
     "data": {
      "text/plain": [
       "90.58636    2\n",
       "55.94960    2\n",
       "47.00620    2\n",
       "39.03668    2\n",
       "47.67744    2\n",
       "48.30988    2\n",
       "31.17774    1\n",
       "70.81970    1\n",
       "47.27586    1\n",
       "74.06532    1\n",
       "55.22404    1\n",
       "19.21570    1\n",
       "63.21684    1\n",
       "76.77356    1\n",
       "62.34384    1\n",
       "6.90640     1\n",
       "55.11928    1\n",
       "26.97376    1\n",
       "33.67646    1\n",
       "57.91288    1\n",
       "Name: DA, dtype: int64"
      ]
     },
     "execution_count": 23,
     "metadata": {},
     "output_type": "execute_result"
    }
   ],
   "source": [
    "col = \"DA\"\n",
    "temp = X_train_joined[col].value_counts().sort_values(ascending=False)\n",
    "peak = temp.index[0]\n",
    "temp.iloc[:20]"
   ]
  },
  {
   "cell_type": "code",
   "execution_count": 24,
   "id": "ca818a62",
   "metadata": {
    "execution": {
     "iopub.execute_input": "2023-07-09T23:54:25.963232Z",
     "iopub.status.busy": "2023-07-09T23:54:25.962865Z",
     "iopub.status.idle": "2023-07-09T23:54:27.931815Z",
     "shell.execute_reply": "2023-07-09T23:54:27.930601Z"
    },
    "papermill": {
     "duration": 1.988321,
     "end_time": "2023-07-09T23:54:27.934555",
     "exception": false,
     "start_time": "2023-07-09T23:54:25.946234",
     "status": "completed"
    },
    "tags": []
   },
   "outputs": [
    {
     "data": {
      "text/html": [
       "        <script type=\"text/javascript\">\n",
       "        window.PlotlyConfig = {MathJaxConfig: 'local'};\n",
       "        if (window.MathJax && window.MathJax.Hub && window.MathJax.Hub.Config) {window.MathJax.Hub.Config({SVG: {font: \"STIX-Web\"}});}\n",
       "        if (typeof require !== 'undefined') {\n",
       "        require.undef(\"plotly\");\n",
       "        requirejs.config({\n",
       "            paths: {\n",
       "                'plotly': ['https://cdn.plot.ly/plotly-2.20.0.min']\n",
       "            }\n",
       "        });\n",
       "        require(['plotly'], function(Plotly) {\n",
       "            window._Plotly = Plotly;\n",
       "        });\n",
       "        }\n",
       "        </script>\n",
       "        "
      ]
     },
     "metadata": {},
     "output_type": "display_data"
    },
    {
     "data": {
      "text/html": [
       "<div>                            <div id=\"65f1dc7a-598f-49dc-b709-937ac20b9ff4\" class=\"plotly-graph-div\" style=\"height:525px; width:100%;\"></div>            <script type=\"text/javascript\">                require([\"plotly\"], function(Plotly) {                    window.PLOTLYENV=window.PLOTLYENV || {};                                    if (document.getElementById(\"65f1dc7a-598f-49dc-b709-937ac20b9ff4\")) {                    Plotly.newPlot(                        \"65f1dc7a-598f-49dc-b709-937ac20b9ff4\",                        [{\"alignmentgroup\":\"True\",\"bingroup\":\"x\",\"hovertemplate\":\"variable=DA<br>value=%{x}<br>count=%{y}<extra></extra>\",\"legendgroup\":\"DA\",\"marker\":{\"color\":\"#636efa\",\"pattern\":{\"shape\":\"\"}},\"name\":\"DA\",\"offsetgroup\":\"DA\",\"orientation\":\"v\",\"showlegend\":true,\"x\":[4.249685961433009,4.273861634567687,4.274158811679772,3.8769316427597325,4.3183586678272725,4.029344423444388,3.006459530244877,4.162265481595846,4.353801527665334,3.4712749091415036,2.067672558079837,4.027479425501211,4.148577664470208,3.5460610705776516,4.076059742473053,3.2318947102154647,3.7550687993912177,4.281559681539621,4.07044591768899,4.017054506966763,4.207970227235789,4.157875388305512,3.7255864335612263,3.4548626274142546,3.768460670701456,4.059022346708851,4.142556781635854,3.9355012224019745,3.7905209126441237,3.630713120728992,3.8176208932056297,4.099299599058932,3.959097412814075,3.2946821254739613,3.2248229058739395,3.7888985296459956,3.96794198481979,3.331266927925156,4.497861551756693,3.8280982055093222,3.974743124273932,2.268211015902709,4.0206111865650165,3.8393017636269753,4.038344065972048,3.500681867219827,3.9532317411543794,3.8867289920325576,3.594386340420167,3.5680831957583674,3.8399691682477237,4.729206694527819,5.353425246145553,4.196767567618171,3.8050914786004695,3.0978320788692457,3.1856499069695734,3.8783371546252896,3.9661793174665636,4.190795908829654,3.7864380135083757,4.042166666163521,3.997868903511011,3.6009745871719243,3.137162388971869,3.861012618386959,4.1220745086598845,3.8220882322039857,4.003266746648579,3.6840131327554375,3.0686834340018443,3.8996969507766575,3.9833787364957502,3.74928711121876,3.5781026300376766,3.5582387366023074,3.0824749477795996,4.115828128888942,2.748541901081228,3.1438763785463593,3.7240892496652993,4.1245245307232326,4.163593845277241,3.7017413837307847,4.349100985960305,3.69260251491406,3.9362589283858265,3.5597298758747913,3.826028420421208,4.329512595480494,4.026026463025113,3.3354193370771466,4.049159591525933,3.8897884393646387,3.4848679621782317,4.13071699209581,4.271291423403871,4.357536176648899,4.149985491931852,3.6361472302268676,3.979904432823212,3.6417045097743372,3.8356649344689577,3.7339665800161255,4.135879262707112,3.707280118727376,4.048888932308648,4.286000748813068,3.900874693281852,2.491657147158177,3.5929994119689064,4.2314165130002435,3.8369623334461798,4.213352625004041,3.515673028005421,4.370081575672679,4.310132325942962,3.8590508288219976,2.657859456577855,3.696845639634161,4.141231010712274,3.522913413679548,3.4783040912004726,3.7990715289689394,3.562100072416138,3.6635801074976957,3.778931287561081,4.034575449353507,4.060495078156395,4.092649793579345,3.6971342890199086,3.7148697609201946,4.247690918668015,3.4885487008648832,4.005954781124418,4.511546742843333,4.017473597029013,4.581060058720201,3.914048951812166,4.134140750783282,3.462859269253964,3.8324350610007945,3.6313297872739256,3.660740748058322,4.482211052420028,4.329154726509949,3.663032788360308,3.579239795971221,4.235383659701861,4.4576706051494,3.467590432096736,3.4394843256553456,4.526978996529677,3.8130050001268394,4.137243119193379,2.8781304714738107,3.867037354909956,4.2504607377679475,3.977218060999813,4.467091556047267,3.593479720299771,3.6960755003557146,2.7426873488274333,3.8556905092478186,4.121256498907784,3.1151974491748704,3.7612684854493206,3.828393539688179,3.6322540746565046,3.729692168591132,4.079741115731327,4.406800219595661,4.319443533788706,4.071769655708505,2.96501942565785,3.826789247537078,3.9026778754040063,3.2638553090390587,3.6201711849810354,4.198109205152172,4.042166666163521,4.060929788602479,3.7038458960912095,4.010395400951342,4.5172823522952,4.26795383258064,4.719736676326834,4.601069790846318,4.021550546961629,3.593906467453613,3.8044867913206852,3.7659043820981455,3.5765301290770672,4.425270015271294,3.049473020484687,3.6137086096191675,4.258751890904584,3.9191471682100594,3.86174729838609,4.064533941610305,4.4355745105813815,4.002061861640924,4.175321295096721,3.9303335397148396,3.989501690341392,4.071901933185934,4.329205858490299,4.1205323166931915,4.214299459900019,4.17098826906241,4.699747006040786,3.680057656227824,3.972115909437131,4.314993270668981,4.21693439705698,3.835497405473744,4.096238434380214,3.8336107678155895,2.964018671397727,4.539859953824815,4.076125600265733,4.067294999205015,3.9528220876859175,3.4011680478985915,4.08680286162207,3.740804698778841,3.1916485026137167,3.4606680830664773,4.065432953838757,2.1033435979604596,4.167117524599073,4.2641413437896105,3.4051694824145553,3.641246819748315,3.9055327894671574,3.770116525174554,3.337971420962348,3.7624407411482896,4.044276481865488,4.18052592818119,4.458367344555467,3.9649288789108508,4.115321662952961,3.9255218842162947,3.325145367236026,3.2107621982406704,4.250599027539985,3.6692842153112766,3.9367132765523616,3.4847490028149775,4.725876588883979,3.92716656079066,4.247912786740908,4.02075040675992,3.94882849658718,4.0388910471571275,3.9617590078657896,4.162929884005286,3.1034218747850453,3.171918380241862,3.9911520650831833,2.9621144747201122,4.070247205764972,3.9206869647056,4.174933582178364,3.6846465078242967,3.8297004007634636,4.07878920250181,4.606703010611956,3.4874814942591352,3.850876272335337,3.7698929212172616,4.016565346472387,3.691151870219601,4.525110228165772,3.345178553541793,3.8852156784045477,3.4217774844237216,3.363878964662351,3.3778768939444137,3.764376461111932,3.8328551149904033,2.9229357487694276,3.837464100850448,4.612882370494915,3.1987996401586036,4.228480272210097,4.040734902921046,3.3403795745199703,3.7512940024674317,3.394029084030047,4.129843614990944,3.873469685518441,3.7069943835391075,3.184285208255589,4.381889625288524,4.374171614623047,3.7118882107899385,4.031137065988848,4.229610616118102,3.808754965681499,3.7444357240954425,3.903304307803296,3.8891931767779697,3.224282780900234,3.8171517292915134,3.576367315342054,3.825140056554909,4.145878894224418,4.203399843818097,3.589362940076691,4.2438559256152155,3.3607864137699925,4.2742938629959975,3.837798472635343,4.342866279699009,4.000784516705604,4.5839375607320205,4.254931626870049,4.11633433844702,3.950883269011901,3.3595736769692754,3.9309048167465277,4.170688746474469,3.3987076181049116,4.011274136744512,3.69559386194165,3.3748273964018205,4.29153776365923,3.438363421316233,3.2155230104624204,5.252962405306965,3.812490805426558,3.929342552430519,3.871330169233262,3.7324354677954066,4.067394653855502,3.903773874713105,4.078197903720214,3.9649656788419594,3.6897960339262914,3.8361254945431744,4.534002809119921,3.613394842519117,3.8193676584345195,3.4133802021531876,3.5976858894106405,3.9780174661710888,3.2063715715295653,4.494746652637637,4.104818188475579,4.542218032570286,4.0974962570767,3.4803375283038425,4.515459022397581,4.107438461733259,2.5367128959266374,3.141531606328987,3.8688215154861076,3.718172201548563,3.8248014245290407,3.871330169233262,3.614126812667151,4.1232060340066266,4.136778377061795,3.1799378877300133,4.19012039117079,4.154471177701021,3.59454624691642,4.19880847605261,3.660491296400631,3.5987479418335173,4.1323992111713075,3.973028919249427,4.0615647949041085,3.963455770089266,4.348549475689502,4.056574156863857,3.161946467145838,4.258285446928875,3.890859019904211,4.683699256382793,3.568028467103869,4.087909904142776,4.056439836111237,3.921302220044073,3.5901127072588737,3.898675117408638,3.892086793209898,4.2281409197403255,4.144219217483508,4.146799748018994,3.801111109331984,4.536250026143299,3.566494847450315,4.411897038847938,4.089340730578378,3.5487986609112547,4.457130860402169,4.608212752684188,3.951069857314587,3.9647816656425716,3.5611085806510077,3.4433356295407607,3.7578792589101857,3.961980488016251,3.7173711823801265,3.6897960339262914,4.289943691734168,4.220246843710612,3.8253939553422702,3.8011978077791975,4.138295735751028,3.3327914807314194,4.163654183538528,3.301992694766964,3.7889862933499696,4.302336843884522,3.686495615025962,4.176364391025998,3.662086712796203,4.1555970653112,3.8549102846619,4.031309266230816,4.025403117984174,3.12615508955681,3.884019337338409,3.9072106445720802,3.8852156784045477,3.600868668791219,4.325953778461807,3.9432030170711094,4.999160914470523,2.6351654804711835,4.041791878645564,3.9939085678474577,3.6732331871725283,4.265232110279213,3.2487561288205895,3.544325247159957,3.921071543649925,3.910557932733068,4.32659478828169,3.99501618693903,4.1337056501377685,4.1667266172659465,4.081936904613098,3.472359542982058,4.194371479498115,3.478842756489795,3.444079333013709,4.313643934137625,4.392504549102634,3.8929176549779543,4.026960752643283,4.063233939863645,3.7413110753615584,3.8467430895253836,2.865835410873471,4.131807641898645,4.181089375909112,4.1221374047798305,4.091191262460658,4.026649419749055,3.35558825263137,4.1530391658883925,4.1588458951681995,4.301496120542119,4.043324213037759,2.4581844372857677,2.643339576266758,4.071306546697396,3.7098955605326953,3.888954972493341,3.4255712442701567,3.643634672641261,3.9338322455804504,3.149132100132917,3.7032723772715617,4.12040631840829,3.8961553778554876,3.6489992035136405,3.8981244666496218,4.114403039138916,3.9980825295495337,3.915635273325598,4.093653323371564,4.1186722301795,3.86341872398145,4.215130787490505,4.224570748665597,4.1325237074908046,3.7546601721553716,3.8690645636622087,3.434180089107518,4.085661977439193,4.04590683593914,3.8464531259566974,3.854787035639636,3.789731974010279,4.262120283878545,3.776001658295339,4.324901632040478,4.052199470572521,4.287094608360512,4.149373636552848,3.7906961478458916,3.667006475117955,3.9722620470357324,3.6578933036954715,4.143049643406999,4.015796181929498,4.1237399206867265,4.135227674874605,3.93637253478195,4.248273217403711,3.5461170147465393,3.589523651803553,2.8410087630238823,3.94489398624806,3.5439889330324608,4.5934044402660845,4.368313031586121,4.0893082345210345,3.45896050151945,4.941039669561607,2.9118157389590236,3.4698872739222026,4.053008546726808,2.984630880482817,2.6323793672905422,3.9398124763354643,3.8315523728744836,3.7369293443482183,3.545445478067747,3.593106167092016,2.4378884148243714,3.8068171444773307,3.0092386504118798,3.304987463881651,3.82788719911026,4.2653138698233155,3.8731873701228725,4.010536050578853,3.893945385450969,3.816298139653478,4.131184559102581,4.189032730435501,2.94847922741311,4.652032397612712,3.733131718525466,3.9629396688991765,4.235046642239487,3.7664430914302893,4.16936978024385,3.765500159564667,4.281318336208254,3.823911969489726,4.098333927445614,4.040427829627836,3.8620736496556582,3.435493166728752,4.360736857117717,3.7503366704038488,3.826282093782812,3.725025252250228,3.6495542555022396,3.631997413844,3.8365021587139863,4.311069961189408,4.079970752194819,4.128469622251262,3.526913312976989,4.238551682601837,4.012292503821502,4.604220535212498,4.345586173037065,4.007225543075625,3.7960696948034953,4.368755460920574,3.8981244666496218,3.436117836302091,3.643279396140582,3.800850968881493,4.5172823522952,3.480695941314007,4.279842181098064,4.075796267921269,3.927777843625282,4.306137538799087,4.052334362065036,4.076191453721451,4.343572147894182,3.8827816128068378,3.8629705668677925,3.967061039517651,3.937734805787246,4.183073740723302,3.8654939230854843,3.41873207967267,3.3611903327612724,4.091223697385585,3.9094304476526056,4.0563054973141295,4.018381023415062,3.860726763667831,4.346692160302937,4.014326132031641,2.845302329861812,4.268388621529955,3.826535702810561,3.8968646965696,3.1249624291066973,3.804659596429021,4.659850777003416,3.9520395556652246,3.60351326850904],\"xaxis\":\"x\",\"yaxis\":\"y\",\"type\":\"histogram\"}],                        {\"template\":{\"data\":{\"histogram2dcontour\":[{\"type\":\"histogram2dcontour\",\"colorbar\":{\"outlinewidth\":0,\"ticks\":\"\"},\"colorscale\":[[0.0,\"#0d0887\"],[0.1111111111111111,\"#46039f\"],[0.2222222222222222,\"#7201a8\"],[0.3333333333333333,\"#9c179e\"],[0.4444444444444444,\"#bd3786\"],[0.5555555555555556,\"#d8576b\"],[0.6666666666666666,\"#ed7953\"],[0.7777777777777778,\"#fb9f3a\"],[0.8888888888888888,\"#fdca26\"],[1.0,\"#f0f921\"]]}],\"choropleth\":[{\"type\":\"choropleth\",\"colorbar\":{\"outlinewidth\":0,\"ticks\":\"\"}}],\"histogram2d\":[{\"type\":\"histogram2d\",\"colorbar\":{\"outlinewidth\":0,\"ticks\":\"\"},\"colorscale\":[[0.0,\"#0d0887\"],[0.1111111111111111,\"#46039f\"],[0.2222222222222222,\"#7201a8\"],[0.3333333333333333,\"#9c179e\"],[0.4444444444444444,\"#bd3786\"],[0.5555555555555556,\"#d8576b\"],[0.6666666666666666,\"#ed7953\"],[0.7777777777777778,\"#fb9f3a\"],[0.8888888888888888,\"#fdca26\"],[1.0,\"#f0f921\"]]}],\"heatmap\":[{\"type\":\"heatmap\",\"colorbar\":{\"outlinewidth\":0,\"ticks\":\"\"},\"colorscale\":[[0.0,\"#0d0887\"],[0.1111111111111111,\"#46039f\"],[0.2222222222222222,\"#7201a8\"],[0.3333333333333333,\"#9c179e\"],[0.4444444444444444,\"#bd3786\"],[0.5555555555555556,\"#d8576b\"],[0.6666666666666666,\"#ed7953\"],[0.7777777777777778,\"#fb9f3a\"],[0.8888888888888888,\"#fdca26\"],[1.0,\"#f0f921\"]]}],\"heatmapgl\":[{\"type\":\"heatmapgl\",\"colorbar\":{\"outlinewidth\":0,\"ticks\":\"\"},\"colorscale\":[[0.0,\"#0d0887\"],[0.1111111111111111,\"#46039f\"],[0.2222222222222222,\"#7201a8\"],[0.3333333333333333,\"#9c179e\"],[0.4444444444444444,\"#bd3786\"],[0.5555555555555556,\"#d8576b\"],[0.6666666666666666,\"#ed7953\"],[0.7777777777777778,\"#fb9f3a\"],[0.8888888888888888,\"#fdca26\"],[1.0,\"#f0f921\"]]}],\"contourcarpet\":[{\"type\":\"contourcarpet\",\"colorbar\":{\"outlinewidth\":0,\"ticks\":\"\"}}],\"contour\":[{\"type\":\"contour\",\"colorbar\":{\"outlinewidth\":0,\"ticks\":\"\"},\"colorscale\":[[0.0,\"#0d0887\"],[0.1111111111111111,\"#46039f\"],[0.2222222222222222,\"#7201a8\"],[0.3333333333333333,\"#9c179e\"],[0.4444444444444444,\"#bd3786\"],[0.5555555555555556,\"#d8576b\"],[0.6666666666666666,\"#ed7953\"],[0.7777777777777778,\"#fb9f3a\"],[0.8888888888888888,\"#fdca26\"],[1.0,\"#f0f921\"]]}],\"surface\":[{\"type\":\"surface\",\"colorbar\":{\"outlinewidth\":0,\"ticks\":\"\"},\"colorscale\":[[0.0,\"#0d0887\"],[0.1111111111111111,\"#46039f\"],[0.2222222222222222,\"#7201a8\"],[0.3333333333333333,\"#9c179e\"],[0.4444444444444444,\"#bd3786\"],[0.5555555555555556,\"#d8576b\"],[0.6666666666666666,\"#ed7953\"],[0.7777777777777778,\"#fb9f3a\"],[0.8888888888888888,\"#fdca26\"],[1.0,\"#f0f921\"]]}],\"mesh3d\":[{\"type\":\"mesh3d\",\"colorbar\":{\"outlinewidth\":0,\"ticks\":\"\"}}],\"scatter\":[{\"fillpattern\":{\"fillmode\":\"overlay\",\"size\":10,\"solidity\":0.2},\"type\":\"scatter\"}],\"parcoords\":[{\"type\":\"parcoords\",\"line\":{\"colorbar\":{\"outlinewidth\":0,\"ticks\":\"\"}}}],\"scatterpolargl\":[{\"type\":\"scatterpolargl\",\"marker\":{\"colorbar\":{\"outlinewidth\":0,\"ticks\":\"\"}}}],\"bar\":[{\"error_x\":{\"color\":\"#2a3f5f\"},\"error_y\":{\"color\":\"#2a3f5f\"},\"marker\":{\"line\":{\"color\":\"#E5ECF6\",\"width\":0.5},\"pattern\":{\"fillmode\":\"overlay\",\"size\":10,\"solidity\":0.2}},\"type\":\"bar\"}],\"scattergeo\":[{\"type\":\"scattergeo\",\"marker\":{\"colorbar\":{\"outlinewidth\":0,\"ticks\":\"\"}}}],\"scatterpolar\":[{\"type\":\"scatterpolar\",\"marker\":{\"colorbar\":{\"outlinewidth\":0,\"ticks\":\"\"}}}],\"histogram\":[{\"marker\":{\"pattern\":{\"fillmode\":\"overlay\",\"size\":10,\"solidity\":0.2}},\"type\":\"histogram\"}],\"scattergl\":[{\"type\":\"scattergl\",\"marker\":{\"colorbar\":{\"outlinewidth\":0,\"ticks\":\"\"}}}],\"scatter3d\":[{\"type\":\"scatter3d\",\"line\":{\"colorbar\":{\"outlinewidth\":0,\"ticks\":\"\"}},\"marker\":{\"colorbar\":{\"outlinewidth\":0,\"ticks\":\"\"}}}],\"scattermapbox\":[{\"type\":\"scattermapbox\",\"marker\":{\"colorbar\":{\"outlinewidth\":0,\"ticks\":\"\"}}}],\"scatterternary\":[{\"type\":\"scatterternary\",\"marker\":{\"colorbar\":{\"outlinewidth\":0,\"ticks\":\"\"}}}],\"scattercarpet\":[{\"type\":\"scattercarpet\",\"marker\":{\"colorbar\":{\"outlinewidth\":0,\"ticks\":\"\"}}}],\"carpet\":[{\"aaxis\":{\"endlinecolor\":\"#2a3f5f\",\"gridcolor\":\"white\",\"linecolor\":\"white\",\"minorgridcolor\":\"white\",\"startlinecolor\":\"#2a3f5f\"},\"baxis\":{\"endlinecolor\":\"#2a3f5f\",\"gridcolor\":\"white\",\"linecolor\":\"white\",\"minorgridcolor\":\"white\",\"startlinecolor\":\"#2a3f5f\"},\"type\":\"carpet\"}],\"table\":[{\"cells\":{\"fill\":{\"color\":\"#EBF0F8\"},\"line\":{\"color\":\"white\"}},\"header\":{\"fill\":{\"color\":\"#C8D4E3\"},\"line\":{\"color\":\"white\"}},\"type\":\"table\"}],\"barpolar\":[{\"marker\":{\"line\":{\"color\":\"#E5ECF6\",\"width\":0.5},\"pattern\":{\"fillmode\":\"overlay\",\"size\":10,\"solidity\":0.2}},\"type\":\"barpolar\"}],\"pie\":[{\"automargin\":true,\"type\":\"pie\"}]},\"layout\":{\"autotypenumbers\":\"strict\",\"colorway\":[\"#636efa\",\"#EF553B\",\"#00cc96\",\"#ab63fa\",\"#FFA15A\",\"#19d3f3\",\"#FF6692\",\"#B6E880\",\"#FF97FF\",\"#FECB52\"],\"font\":{\"color\":\"#2a3f5f\"},\"hovermode\":\"closest\",\"hoverlabel\":{\"align\":\"left\"},\"paper_bgcolor\":\"white\",\"plot_bgcolor\":\"#E5ECF6\",\"polar\":{\"bgcolor\":\"#E5ECF6\",\"angularaxis\":{\"gridcolor\":\"white\",\"linecolor\":\"white\",\"ticks\":\"\"},\"radialaxis\":{\"gridcolor\":\"white\",\"linecolor\":\"white\",\"ticks\":\"\"}},\"ternary\":{\"bgcolor\":\"#E5ECF6\",\"aaxis\":{\"gridcolor\":\"white\",\"linecolor\":\"white\",\"ticks\":\"\"},\"baxis\":{\"gridcolor\":\"white\",\"linecolor\":\"white\",\"ticks\":\"\"},\"caxis\":{\"gridcolor\":\"white\",\"linecolor\":\"white\",\"ticks\":\"\"}},\"coloraxis\":{\"colorbar\":{\"outlinewidth\":0,\"ticks\":\"\"}},\"colorscale\":{\"sequential\":[[0.0,\"#0d0887\"],[0.1111111111111111,\"#46039f\"],[0.2222222222222222,\"#7201a8\"],[0.3333333333333333,\"#9c179e\"],[0.4444444444444444,\"#bd3786\"],[0.5555555555555556,\"#d8576b\"],[0.6666666666666666,\"#ed7953\"],[0.7777777777777778,\"#fb9f3a\"],[0.8888888888888888,\"#fdca26\"],[1.0,\"#f0f921\"]],\"sequentialminus\":[[0.0,\"#0d0887\"],[0.1111111111111111,\"#46039f\"],[0.2222222222222222,\"#7201a8\"],[0.3333333333333333,\"#9c179e\"],[0.4444444444444444,\"#bd3786\"],[0.5555555555555556,\"#d8576b\"],[0.6666666666666666,\"#ed7953\"],[0.7777777777777778,\"#fb9f3a\"],[0.8888888888888888,\"#fdca26\"],[1.0,\"#f0f921\"]],\"diverging\":[[0,\"#8e0152\"],[0.1,\"#c51b7d\"],[0.2,\"#de77ae\"],[0.3,\"#f1b6da\"],[0.4,\"#fde0ef\"],[0.5,\"#f7f7f7\"],[0.6,\"#e6f5d0\"],[0.7,\"#b8e186\"],[0.8,\"#7fbc41\"],[0.9,\"#4d9221\"],[1,\"#276419\"]]},\"xaxis\":{\"gridcolor\":\"white\",\"linecolor\":\"white\",\"ticks\":\"\",\"title\":{\"standoff\":15},\"zerolinecolor\":\"white\",\"automargin\":true,\"zerolinewidth\":2},\"yaxis\":{\"gridcolor\":\"white\",\"linecolor\":\"white\",\"ticks\":\"\",\"title\":{\"standoff\":15},\"zerolinecolor\":\"white\",\"automargin\":true,\"zerolinewidth\":2},\"scene\":{\"xaxis\":{\"backgroundcolor\":\"#E5ECF6\",\"gridcolor\":\"white\",\"linecolor\":\"white\",\"showbackground\":true,\"ticks\":\"\",\"zerolinecolor\":\"white\",\"gridwidth\":2},\"yaxis\":{\"backgroundcolor\":\"#E5ECF6\",\"gridcolor\":\"white\",\"linecolor\":\"white\",\"showbackground\":true,\"ticks\":\"\",\"zerolinecolor\":\"white\",\"gridwidth\":2},\"zaxis\":{\"backgroundcolor\":\"#E5ECF6\",\"gridcolor\":\"white\",\"linecolor\":\"white\",\"showbackground\":true,\"ticks\":\"\",\"zerolinecolor\":\"white\",\"gridwidth\":2}},\"shapedefaults\":{\"line\":{\"color\":\"#2a3f5f\"}},\"annotationdefaults\":{\"arrowcolor\":\"#2a3f5f\",\"arrowhead\":0,\"arrowwidth\":1},\"geo\":{\"bgcolor\":\"white\",\"landcolor\":\"#E5ECF6\",\"subunitcolor\":\"white\",\"showland\":true,\"showlakes\":true,\"lakecolor\":\"white\"},\"title\":{\"x\":0.05},\"mapbox\":{\"style\":\"light\"}}},\"xaxis\":{\"anchor\":\"y\",\"domain\":[0.0,1.0],\"title\":{\"text\":\"value\"}},\"yaxis\":{\"anchor\":\"x\",\"domain\":[0.0,1.0],\"title\":{\"text\":\"count\"}},\"legend\":{\"title\":{\"text\":\"variable\"},\"tracegroupgap\":0},\"margin\":{\"t\":60},\"barmode\":\"relative\"},                        {\"responsive\": true}                    ).then(function(){\n",
       "                            \n",
       "var gd = document.getElementById('65f1dc7a-598f-49dc-b709-937ac20b9ff4');\n",
       "var x = new MutationObserver(function (mutations, observer) {{\n",
       "        var display = window.getComputedStyle(gd).display;\n",
       "        if (!display || display === 'none') {{\n",
       "            console.log([gd, 'removed!']);\n",
       "            Plotly.purge(gd);\n",
       "            observer.disconnect();\n",
       "        }}\n",
       "}});\n",
       "\n",
       "// Listen for the removal of the full notebook cells\n",
       "var notebookContainer = gd.closest('#notebook-container');\n",
       "if (notebookContainer) {{\n",
       "    x.observe(notebookContainer, {childList: true});\n",
       "}}\n",
       "\n",
       "// Listen for the clearing of the current output cell\n",
       "var outputEl = gd.closest('.output');\n",
       "if (outputEl) {{\n",
       "    x.observe(outputEl, {childList: true});\n",
       "}}\n",
       "\n",
       "                        })                };                });            </script>        </div>"
      ]
     },
     "metadata": {},
     "output_type": "display_data"
    }
   ],
   "source": [
    "is_log = True\n",
    "if is_log:\n",
    "    temp = px.histogram(np.log1p(X_train_joined[col]))\n",
    "else:\n",
    "    temp = px.histogram(X_train_joined[col])\n",
    "temp.show()"
   ]
  },
  {
   "cell_type": "code",
   "execution_count": 25,
   "id": "dcc22243",
   "metadata": {
    "execution": {
     "iopub.execute_input": "2023-07-09T23:54:27.966877Z",
     "iopub.status.busy": "2023-07-09T23:54:27.966468Z",
     "iopub.status.idle": "2023-07-09T23:54:28.060379Z",
     "shell.execute_reply": "2023-07-09T23:54:28.059287Z"
    },
    "papermill": {
     "duration": 0.112974,
     "end_time": "2023-07-09T23:54:28.062698",
     "exception": false,
     "start_time": "2023-07-09T23:54:27.949724",
     "status": "completed"
    },
    "tags": []
   },
   "outputs": [],
   "source": [
    "X_train_joined_feat = CatBoostTransformer(['Id']).fit_transform(X, y)"
   ]
  },
  {
   "cell_type": "code",
   "execution_count": 26,
   "id": "9714e2a0",
   "metadata": {
    "execution": {
     "iopub.execute_input": "2023-07-09T23:54:28.094829Z",
     "iopub.status.busy": "2023-07-09T23:54:28.094435Z",
     "iopub.status.idle": "2023-07-09T23:54:28.191461Z",
     "shell.execute_reply": "2023-07-09T23:54:28.190099Z"
    },
    "papermill": {
     "duration": 0.116093,
     "end_time": "2023-07-09T23:54:28.194160",
     "exception": false,
     "start_time": "2023-07-09T23:54:28.078067",
     "status": "completed"
    },
    "tags": []
   },
   "outputs": [
    {
     "data": {
      "text/html": [
       "<div>                            <div id=\"7b0c280a-8bfb-44c7-9535-f5cdd3c638e4\" class=\"plotly-graph-div\" style=\"height:1000px; width:100%;\"></div>            <script type=\"text/javascript\">                require([\"plotly\"], function(Plotly) {                    window.PLOTLYENV=window.PLOTLYENV || {};                                    if (document.getElementById(\"7b0c280a-8bfb-44c7-9535-f5cdd3c638e4\")) {                    Plotly.newPlot(                        \"7b0c280a-8bfb-44c7-9535-f5cdd3c638e4\",                        [{\"coloraxis\":\"coloraxis\",\"name\":\"0\",\"x\":[\"AB\",\"AF\",\"AH\",\"AM\",\"AR\",\"AX\",\"AY\",\"AZ\",\"BC\",\"BD\",\"BN\",\"BP\",\"BQ\",\"BR\",\"BZ\",\"CB\",\"CC\",\"CD\",\"CF\",\"CH\",\"CL\",\"CR\",\"CS\",\"CU\",\"CW\",\"DA\",\"DE\",\"DF\",\"DH\",\"DI\",\"DL\",\"DN\",\"DU\",\"DV\",\"DY\",\"EB\",\"EE\",\"EG\",\"EH\",\"EL\",\"EP\",\"EU\",\"FC\",\"FD\",\"FE\",\"FI\",\"FL\",\"FR\",\"FS\",\"GB\",\"GE\",\"GF\",\"GH\",\"GI\",\"GL\",\"max_variance\"],\"y\":[\"AB\",\"AF\",\"AH\",\"AM\",\"AR\",\"AX\",\"AY\",\"AZ\",\"BC\",\"BD\",\"BN\",\"BP\",\"BQ\",\"BR\",\"BZ\",\"CB\",\"CC\",\"CD\",\"CF\",\"CH\",\"CL\",\"CR\",\"CS\",\"CU\",\"CW\",\"DA\",\"DE\",\"DF\",\"DH\",\"DI\",\"DL\",\"DN\",\"DU\",\"DV\",\"DY\",\"EB\",\"EE\",\"EG\",\"EH\",\"EL\",\"EP\",\"EU\",\"FC\",\"FD\",\"FE\",\"FI\",\"FL\",\"FR\",\"FS\",\"GB\",\"GE\",\"GF\",\"GH\",\"GI\",\"GL\",\"max_variance\"],\"z\":[[1.0,0.25919554366126185,0.2964334159849184,0.48169273012731706,0.3480693167187881,0.4151269032909473,0.10601506440240646,0.20643766195099783,0.34252647187602087,0.16132865519247522,0.31567614702016156,0.3510586018628088,0.09189352624015396,0.2294822934168169,0.3571808618620866,0.09384009226668709,0.08866605814529137,0.3975925387420377,0.08952077642694904,0.4623115941453476,0.006887437973241835,0.07548473367948143,0.20352124382417716,0.10545778983822471,0.009466585233859973,0.2714854832707063,0.08431505072410823,0.1163306788753668,0.23772001964197909,0.3209492137204849,0.17102935037978007,0.1477129473873898,0.08679421366678523,0.047820691419624695,0.07525945413715111,0.3184988575052782,0.04672367491247086,0.27646944773292736,0.08621418892812274,0.09912484830002011,0.052086152799333034,0.043131906743860325,0.36853037295102553,0.025619974134483924,0.05484474119493261,0.0380176435293888,0.09469297141310198,0.18418564805180035,0.18218857989274587,0.2297308512603224,0.032901062075962585,0.053645673559241304,0.10409043494224926,0.03520030265684512,0.005204606495353844,0.2912414524528367],[0.25919554366126185,1.0,0.14377881283411548,0.11396178058685676,0.12588401192939463,0.12692389821378514,0.07685752838946243,0.1496609916373953,0.14957297700410588,0.04600549336264087,0.16522042909062656,0.18060161450323636,0.18560819705996146,0.06141402323721324,0.16503194036857038,0.04280444617681937,0.1053098925783668,0.10713148835143449,0.023464349881868296,0.08778993689203975,0.055613120496895936,0.11068336203926142,0.03837923106462095,0.07241839748879937,0.13806774384808013,0.14899205194642845,0.1141239171310035,0.11408470612073014,0.058045791655705885,0.2806646139790406,0.04126566541857337,0.12800784437760768,0.10534034084708255,0.17129800303297368,0.0026910744865469467,0.1617378233542617,0.02528468789727446,0.13045511212725047,0.07001207370146427,0.18740958203543184,0.17386457447689552,0.1484873307222535,0.08987274251233217,0.08722467795642867,0.09828441931469376,0.018509793306260028,0.153395595268219,0.15683678590463865,0.030648069687231303,0.0723511197764543,0.10448676881893011,0.2091432493803017,0.09125534804385313,0.15071321995787046,0.10659413532447672,0.19191038814040243],[0.2964334159849184,0.14377881283411548,1.0,0.006033155560768347,0.665748334383484,0.06935182933693355,0.5963977244316726,0.13932349745141595,0.447054935142321,0.054419416780737036,0.026816958259538747,0.43190540751216444,0.019615514571589096,0.02101210715967078,0.5635102429984322,0.12336422490874675,0.12597012497431462,0.13136233656290697,0.014041428968135712,0.5926187105880718,0.561541421690806,0.02701924535647801,0.3446810894316987,0.06802494356062885,0.2478457244383205,0.005593968994641909,0.09308093103788621,0.26185021638440675,0.05892270814283857,0.30889285091373403,0.06777911116092158,0.006223849070505246,0.0010297792497661682,0.7268895429565702,0.1126780391626908,0.4880005995142068,0.040065000751571524,0.020872171241126763,0.00301847448126964,0.12578961056367124,0.47014998463862573,0.20385587945683462,0.13323432896813908,0.1844591301614577,0.08582846173053257,0.0053353609072417756,0.018085684999315496,0.013221679327151088,0.12261701989224194,0.0019235796489670263,0.1056337307226169,0.013362751491514205,0.11363658312867901,0.06014191614348082,0.22104076155800098,0.35201740341671883],[0.48169273012731706,0.11396178058685676,0.006033155560768347,1.0,0.21574571834120737,0.2834165636452833,0.19722570197206024,0.11380179169136252,0.23817008061073797,0.08563915154671671,0.22734840361098488,0.16481081274795994,0.11687542074542098,0.18920565310868587,0.14410155559914536,0.08746707502776732,0.037049720980105096,0.4443433336405992,0.05053555225677286,0.27574101316960464,0.12441486751463213,0.041642602613901125,0.00043204380021736954,0.04425731323104594,0.037685864671522504,0.25066880622857635,0.045629548196186275,0.0004654970189615748,0.19281062506304092,0.28463413270608,0.05147620253228588,0.1924633746632936,0.12079653394091858,0.24561152375128006,0.036991191703220974,0.055906826921456626,0.019598777074194836,0.1814089475470817,0.03523115175016357,0.09266888211350531,0.03422644795245253,0.055742095446715934,0.14724303790015286,0.07331034916471015,0.018097726448062523,0.0511693149935998,0.08612900091067921,0.039046410356076505,0.16400333684131782,0.10280968964608643,0.07200571322771429,0.03134175344202198,0.05204404959558549,0.09347943763808923,0.03308581208298335,0.15010911186538722],[0.3480693167187881,0.12588401192939463,0.665748334383484,0.21574571834120737,1.0,0.05949137273980229,0.20878938673667974,0.21476844071935466,0.3296841598800358,0.0010844307121292485,0.1734459247099967,0.23544279155162776,0.16391063068627867,0.027438886008039252,0.39708659596025697,0.04865209340017945,0.12398447523708622,0.11249130433848238,0.06475910485516714,0.6853519176061861,0.7061383092072832,0.3226979414917391,0.4587200041496494,0.07146587312048712,0.15343542824856463,0.07660079997516024,0.13395763739876054,0.578263858905605,0.12024169491918237,0.4746650295878999,0.19201581563126183,0.13277020420330612,0.08083989594195021,0.7708394957449441,0.04762221157788436,0.5453232523685938,0.2580828813431891,0.08741116349304957,0.14077361601105637,0.3711514677602876,0.5438624864632164,0.10793406054266759,0.07572614578207762,0.031456419888045886,0.044708723664337896,0.010752528520251289,0.029890954981726597,0.07364950403030249,0.19378085008064244,0.0280685845058547,0.09780245198319655,0.02628202525604118,0.16191204042205284,0.1606168263589201,0.4958678543663999,0.24251661570410882],[0.4151269032909473,0.12692389821378514,0.06935182933693355,0.2834165636452833,0.05949137273980229,1.0,0.08960732578786683,0.20784587280319325,0.09040026136797369,0.122522309999225,0.17484047697356755,0.25449781031317503,0.07965772643788042,0.1344499896907232,0.16156208864505583,0.013931527225520825,0.12231180953823718,0.24567305935874462,0.14078085464793416,0.1654825452406707,0.04809864950345435,0.1275126363338733,0.1559724812805056,0.0920062658448299,0.04690223128372997,0.021395759427957146,0.07282094817641209,0.03412818355954604,0.014659159450740143,0.1546704226013478,0.0136820310699337,0.09499595794011279,0.004931049373880637,0.14525557978068857,0.12725110211504934,0.12381455408740114,0.05654819390504832,0.21737023269446853,0.021741745367091427,0.019693166544478224,0.015203808625935549,0.10037621260487542,0.27410390235196025,0.056414111692581204,0.0008507788499802128,0.13528149800898373,0.03621847375484398,0.07896523817982212,0.1628743490640287,0.2128204387575974,0.06916601908846509,0.056782294701731344,0.08208240407090364,0.006223385535489104,0.054970229772397565,0.05168322840163497],[0.10601506440240646,0.07685752838946243,0.5963977244316726,0.19722570197206024,0.20878938673667974,0.08960732578786683,1.0,0.10242250362490457,0.5347630632231419,0.38481763769041005,0.051044839965688295,0.10149733033323376,0.23777401594005482,0.03195859624817856,0.4902717783621123,0.02315145415005333,0.04299847663437646,0.06999706715348429,0.0537718496509484,0.31416944251946727,0.6010813819035917,0.1866095029104162,0.04697454038598442,0.16632634997429915,0.17699221749550095,0.22037262833706758,0.007372796331154696,0.08953598814924475,0.0407482870841376,0.2986311446745937,0.005709008799370088,0.02623297482405274,0.13979369231234542,0.8235399408568244,0.02464907711252601,0.20645913837648794,0.03908551128811124,0.02367823648057253,0.09252984780473629,0.22741622824566357,0.6924990984785043,0.023479516726528,0.03363985691551867,0.05297265511597707,0.00565483787034122,0.41724144820270265,0.13853023667286243,0.054515143756432474,0.22296501884103115,0.057983707052667054,0.06152070751633238,0.016721486328436036,0.17190108625711395,0.015188426713666051,0.28285113144731716,0.8007015831936534],[0.20643766195099783,0.1496609916373953,0.13932349745141595,0.11380179169136252,0.21476844071935466,0.20784587280319325,0.10242250362490457,1.0,0.09900927828797705,0.2789154681892757,0.15113981577090663,0.30959121274738627,0.05628563639397233,0.06633567742540923,0.25668219282359717,0.10040243426105286,0.11753492357514542,0.004353964374738364,0.06760506173043439,0.17672727539685806,0.09978749119674601,0.00219062514319042,0.1856902726518031,0.02198555968295571,0.0029427743989106584,0.10057600983493399,0.08305024200034837,0.32863130916648864,0.06125724110286556,0.10902268737237904,0.09500546775471203,0.14823394620458882,0.07046613305362064,0.05357502324581165,0.05398715151751648,0.09220829383295519,0.17592029908969758,0.251749248874842,0.10388837252471035,0.01980503470676424,0.027942283482640568,0.09051420935305184,0.18374433174310237,0.11974712871451461,0.006477096755605838,0.13758966005945172,0.028295038969985482,0.028352147846920032,0.026851823497537012,0.3232078008254178,0.020493863587365803,0.22810200817798126,0.10640947960954683,0.029244141343674236,0.003900312025370532,0.06053715550382987],[0.34252647187602087,0.14957297700410588,0.447054935142321,0.23817008061073797,0.3296841598800358,0.09040026136797369,0.5347630632231419,0.09900927828797705,1.0,0.3289401908541367,0.12036878614219108,0.26252153951512397,0.07568491702931986,0.1634056328591227,0.6026999208066304,0.004614219469484676,0.17494478214318274,0.24615580388937436,0.2157476025082659,0.2835527347181043,0.2501132045674041,0.12794813141133668,0.07178609212763166,0.07445242981500565,0.15720428108292445,0.19444870747131676,0.10184859864215508,0.05808937863300263,0.1625041004388222,0.1850956064487926,0.021654249623755104,0.008407551168674678,0.028032939021641515,0.6049476109854047,0.01818914071425143,0.3174380018453757,0.16029123325219843,0.12957580488520792,0.018495908239143904,0.10220377515593346,0.185355483623263,0.006463744086310656,0.0767711397277906,0.03613011190590362,0.08953223041795619,0.13677822644177648,0.02240870919676708,0.4397725443404638,0.00818313773549603,0.11103670116808434,0.012975356446141634,0.2123018945950245,0.15004481817434623,0.021750082255315415,0.00836052559406036,0.5171942627094277],[0.16132865519247522,0.04600549336264087,0.054419416780737036,0.08563915154671671,0.0010844307121292485,0.122522309999225,0.38481763769041005,0.2789154681892757,0.3289401908541367,1.0,0.17806384632162262,0.2908833215685968,0.09577925482878395,0.01634225420108588,0.4747837599618042,0.007468248804371827,0.1917455047602788,0.030659176678486996,0.20532396082798735,0.0556574989999287,0.07412216650990257,0.029669613059314145,0.15372498187552763,0.0735498450169508,0.04909336775157617,0.036739713876144386,0.13742588043722587,0.09033399996010237,0.048066508777398556,0.01718993508976592,0.04997293947355223,0.09494115190565536,0.10800435930377644,0.06046558474921812,0.026612644536533107,0.06910500572601369,0.08328319942618206,0.18601470633081618,0.12146598540233566,0.05962877124583412,0.09357159694536352,0.010539482486981305,0.12016400179437038,0.16102264502423647,0.04075549617373951,0.3015181597221049,0.05626682750583065,0.07184071544629156,0.1357851680667895,0.3284962626760607,0.07882040282305379,0.062392362039337304,0.14492594382352766,0.018898655117966397,0.056401664919354166,0.14552555663334818],[0.31567614702016156,0.16522042909062656,0.026816958259538747,0.22734840361098488,0.1734459247099967,0.17484047697356755,0.051044839965688295,0.15113981577090663,0.12036878614219108,0.17806384632162262,1.0,0.2578540947545469,0.13557607032866573,0.03903236387278052,0.09602717772569398,0.0909712505572826,0.042736809246971194,0.11329755647911922,0.0233514159038174,0.20830656753332788,0.018523361451514782,0.05929396632462063,0.13928641664633187,0.06258678148385846,0.056202067399629387,0.05170271618337544,0.02136402838577078,0.13169351679383098,0.12271857222041432,0.09409603636413746,0.010092390678284236,0.0673625320630081,0.2878183399897507,0.09563244274544154,0.0645984753830034,0.14885562553037315,0.012040064840950389,0.20938996004726435,0.25070830929063614,0.05072210556781142,0.009983620292869396,0.1856364452864163,0.2390379355130224,0.3007935317299015,0.061233706460742804,0.004045017010843336,0.17921818104282675,0.08355541644497011,0.052760067630175295,0.21778455915134373,0.11494896470271192,0.0022932726348236054,0.08955577493151423,0.03392703336219544,0.023092439938799274,0.08724985558186146],[0.3510586018628088,0.18060161450323636,0.43190540751216444,0.16481081274795994,0.23544279155162776,0.25449781031317503,0.10149733033323376,0.30959121274738627,0.26252153951512397,0.2908833215685968,0.2578540947545469,1.0,0.10510955338104636,0.0853612954306358,0.400777339036386,0.1391056762782269,0.1577180962370995,0.174236436473455,0.11221951574567735,0.3016239827425398,0.30229761642511127,0.04504171938211834,0.32055978935993334,0.06335661015146095,0.11789478937887524,0.06611266666533758,0.09394134774076944,0.08826987254069128,0.019647165652326944,0.17967548903487807,0.05049619000948712,0.1514581002971605,0.1707941574580155,0.517577579901012,0.06578949024735138,0.2568757884016476,0.03338284151652423,0.2012508751962305,0.1526379801957663,0.04980595586863472,0.18452660893269726,0.07553453402772375,0.18225963596900965,0.17354483844701937,0.07405828018650648,0.10407155891129871,0.13333077993807924,0.14902368967663954,0.1294545240816449,0.2081805970975988,0.060856666191851344,0.015999902016393782,0.013402106330365916,0.055365878869129685,0.03987443598249627,0.17865761771922634],[0.09189352624015396,0.18560819705996146,0.019615514571589096,0.11687542074542098,0.16391063068627867,0.07965772643788042,0.23777401594005482,0.05628563639397233,0.07568491702931986,0.09577925482878395,0.13557607032866573,0.10510955338104636,1.0,0.010392612446629958,0.09856035506430537,0.23289103670738734,0.00539059058709093,0.0865876024468455,0.15891661514410688,0.023350334000104642,0.05469959367980364,0.0006992340075273761,0.11289116607856506,0.07655222592475586,0.05475489835496873,0.025195224646484916,0.05434670093308586,0.09081395737842352,0.06934690936222597,0.05883068890288912,0.0546773962746133,0.33479411611554444,0.029531279512528857,0.31557573309831927,0.14771383901822477,0.03857383444474351,0.025035147163749813,0.08053450246044329,0.011921040512461017,0.04495403534689511,0.24649828934184678,0.02746067160428617,0.13250446168281343,0.014961636058476224,0.04628468761922735,0.08205036619300697,0.09070720457328599,0.04795498775800692,0.09160724134808039,0.006459826318622599,0.006028453874372415,0.07652865074129094,0.02755463501118458,0.03721839917293102,0.036665913978650495,0.019098703445621146],[0.2294822934168169,0.06141402323721324,0.02101210715967078,0.18920565310868587,0.027438886008039252,0.1344499896907232,0.03195859624817856,0.06633567742540923,0.1634056328591227,0.01634225420108588,0.03903236387278052,0.0853612954306358,0.010392612446629958,1.0,0.11204642455384521,0.0012895419969128474,0.11314039771778488,0.2060843975683233,0.09412843996752433,0.09139096788917445,0.04339598868608621,0.09905119835355737,0.025002133779577745,0.006443372322426594,0.002899021510900109,0.016302578093777352,0.05503968611187879,0.03302322380067263,0.04113596872510597,0.08622016012575473,0.1061722086208439,0.011603989017023052,0.012481501513199569,0.04904926443656387,0.08435592924928839,0.02454128474036299,0.11802536513437799,0.13559442299130034,0.012000009926348705,0.06735480379343303,0.09537526417675256,0.12264245426449867,0.09501766293654511,0.08065614990689468,0.08945935803609784,0.006425209838574148,0.0431378933446375,0.20384131418141438,0.05438545279662652,0.1273687883967295,0.0892260642028348,0.07773144981200815,0.023444254451631542,0.0038079847678281335,0.052833954369981354,0.17556919325732684],[0.3571808618620866,0.16503194036857038,0.5635102429984322,0.14410155559914536,0.39708659596025697,0.16156208864505583,0.4902717783621123,0.25668219282359717,0.6026999208066304,0.4747837599618042,0.09602717772569398,0.400777339036386,0.09856035506430537,0.11204642455384521,1.0,0.07824817062507797,0.4478044831794153,0.1311462257852043,0.37026192101560484,0.3576345597356047,0.34908481802013086,0.0730932160817329,0.25585634692922155,0.2397806111482397,0.33135521649472566,0.08663116239971062,0.22672937365724388,0.2599279700617224,0.08451170650458789,0.3798132013525214,0.10097455090027455,0.08810088015980176,0.01536205919814161,0.7143427167343182,0.08523243808264994,0.3576485396190609,0.041519331121968726,0.10909884206896889,0.043679313676042636,0.054378803419330594,0.31476744976149507,0.18685685435428487,0.08927587634313837,0.08545659678912171,0.16487372436535547,0.17497837512985975,0.05524084208699717,0.08526973763435676,0.13545981800147538,0.2302243581773286,0.16056139294052169,0.016191276078792574,0.2157580263498805,0.046236676874992354,0.26723341867985134,0.32640103791912795],[0.09384009226668709,0.04280444617681937,0.12336422490874675,0.08746707502776732,0.04865209340017945,0.013931527225520825,0.02315145415005333,0.10040243426105286,0.004614219469484676,0.007468248804371827,0.0909712505572826,0.1391056762782269,0.23289103670738734,0.0012895419969128474,0.07824817062507797,1.0,0.08903595685362732,0.2253737881752078,0.10017516152730516,0.1424185112617499,0.09692390142196908,0.14343148605073405,0.014636595328628538,0.03543133272442664,0.018910752490823808,0.09504939579218868,0.03189068775286031,0.11848105649301693,0.11216702485927489,0.07764681008655236,0.10693563185439277,0.17455113053970894,0.05091122529831234,0.08323225836778002,0.23414974387944187,0.1762307047755072,0.06336958443938481,0.14852423888967903,0.12248252712540872,0.026310193197355565,0.056924733682952325,0.19939925492572386,0.034421041408018646,0.15604946911394288,0.04070482034795103,0.0361708103582853,0.007830330850968922,0.04791831009266468,0.01649377325125637,0.04461640354319274,0.09080633973427361,0.11584408946885945,0.14644393891831992,0.05150053944803601,0.05577084388316846,0.06285965291654053],[0.08866605814529137,0.1053098925783668,0.12597012497431462,0.037049720980105096,0.12398447523708622,0.12231180953823718,0.04299847663437646,0.11753492357514542,0.17494478214318274,0.1917455047602788,0.042736809246971194,0.1577180962370995,0.00539059058709093,0.11314039771778488,0.4478044831794153,0.08903595685362732,1.0,0.014206965536270537,0.09613459570119232,0.01872228421006361,0.03229626977936527,0.09059907010977329,0.008786947158780896,0.12924423146821917,0.028793187170118983,0.042417269862300384,0.08287161306789032,0.06182596213881756,0.016264118493087888,0.10353597475081205,0.019484251036263493,0.03442045686234802,0.08293288092757961,0.06542115212422729,0.05711475487611443,0.004718795967235955,0.09985783028246377,0.025512208802379404,0.06748464957240093,0.15555801422667676,0.06488674126108504,0.08554701727574483,0.06968157480809414,0.08586603523726583,0.09615551018263863,0.09421548285633538,0.057307445140308756,0.09795506355247846,0.049463529058136814,0.09641325666856468,0.23197294084948503,0.012612555213233734,0.10648896171168348,0.05988558234632812,0.03523138943093675,0.03865032742664419],[0.3975925387420377,0.10713148835143449,0.13136233656290697,0.4443433336405992,0.11249130433848238,0.24567305935874462,0.06999706715348429,0.004353964374738364,0.24615580388937436,0.030659176678486996,0.11329755647911922,0.174236436473455,0.0865876024468455,0.2060843975683233,0.1311462257852043,0.2253737881752078,0.014206965536270537,1.0,0.0747377926164881,0.2795802397215221,0.030728858075081824,0.181343466892279,0.0571125945115054,0.10803116749560755,0.04895308809256817,0.19063887827040701,0.04638936174534448,0.07610227261381187,0.12799110278120024,0.24748974932146775,0.11461704276255266,0.24047774158861085,0.0032238218194735866,0.001530975913919548,0.06384887290890179,0.17169415287730347,0.0444690355218189,0.14550406900904478,0.02571312903469367,0.05585350417183729,0.04418573189838873,0.09159100510393789,0.08537942347906796,0.03354781346460533,0.06830434404042815,0.10930948052186462,0.011423566354755556,0.09123924974297429,0.13071736234812859,0.01561139959480009,0.04420044119652742,0.033511806006854675,0.05028390459609939,0.15450867336976867,0.028486728222123097,0.13639204848544656],[0.08952077642694904,0.023464349881868296,0.014041428968135712,0.05053555225677286,0.06475910485516714,0.14078085464793416,0.0537718496509484,0.06760506173043439,0.2157476025082659,0.20532396082798735,0.0233514159038174,0.11221951574567735,0.15891661514410688,0.09412843996752433,0.37026192101560484,0.10017516152730516,0.09613459570119232,0.0747377926164881,1.0,0.057634214392102597,0.04606281911337036,0.09794548325729789,0.0008405416799061409,0.1474460560366526,0.07241683773695853,0.004235311158272519,0.08696301763859082,0.006615618371274043,0.07281909821633768,0.018826398939023267,0.11362838235202061,0.0678596132976582,0.03203510503455983,0.13217698320075547,0.0986741254083831,0.005546908869184243,0.05344295147786676,0.09975781786591438,0.019865683830262656,0.09269877498777902,0.05766618899155113,0.006776373054515263,0.02252937531276336,0.005302818980019435,0.02551031647872144,0.1045904115509904,0.051347521475703505,0.17162571281081426,0.050043191878652804,0.046012059406433777,0.0024525030530689064,0.12932600132859906,0.041446913549138036,0.02114381846818302,0.08261416657586416,0.08417957115415928],[0.4623115941453476,0.08778993689203975,0.5926187105880718,0.27574101316960464,0.6853519176061861,0.1654825452406707,0.31416944251946727,0.17672727539685806,0.2835527347181043,0.0556574989999287,0.20830656753332788,0.3016239827425398,0.023350334000104642,0.09139096788917445,0.3576345597356047,0.1424185112617499,0.01872228421006361,0.2795802397215221,0.057634214392102597,1.0,0.4800095773109064,0.006186711340527338,0.4037514642483243,0.030916913878278135,0.10843875546889649,0.006282526906475884,0.11858418342086759,0.1981403104336835,0.008284651649281346,0.24143885048405098,0.0613040527765011,0.14001501552035692,0.04078786223132147,0.7448992694647972,0.0533921097324126,0.42218690702392025,0.1452836402827833,0.22517776227217626,0.008119032348916321,0.21128501881849485,0.4962496765492726,0.006936167032480208,0.19663344165713015,0.0429117239612121,0.07517552337137264,0.0685289335130582,0.010257326839356285,0.08609058211562136,0.08811509725723203,0.0803330025020988,0.0286291936996743,0.05555845363295817,0.022174105761932714,0.08534793562747077,0.19851064821013015,0.2555661006976705],[0.006887437973241835,0.055613120496895936,0.561541421690806,0.12441486751463213,0.7061383092072832,0.04809864950345435,0.6010813819035917,0.09978749119674601,0.2501132045674041,0.07412216650990257,0.018523361451514782,0.30229761642511127,0.05469959367980364,0.04339598868608621,0.34908481802013086,0.09692390142196908,0.03229626977936527,0.030728858075081824,0.04606281911337036,0.4800095773109064,1.0,0.12681803067928296,0.34194869229427394,0.14224617506781653,0.1344715360145604,0.19915155012643412,0.2247751879491179,0.25094910991247654,0.22096124483152074,0.08819827297776604,0.002697890434911478,0.02886135700188387,0.05019062334922979,0.8665547681461947,0.05490159439589314,0.3953058672742921,0.18824183330264888,0.10405108214203931,0.054427784598312184,0.2739403894130624,0.48358322748229254,0.08459215778968465,0.0190329139809438,0.08439048490504299,0.005069333513666978,0.0804137565248715,0.0642328574501456,0.003011734950665308,0.006403436836645592,0.04567796520374747,0.000904606111199814,0.06794824865523233,0.1533931779448884,0.00804737160359649,0.3166608131474875,0.2475705563293414],[0.07548473367948143,0.11068336203926142,0.02701924535647801,0.041642602613901125,0.3226979414917391,0.1275126363338733,0.1866095029104162,0.00219062514319042,0.12794813141133668,0.029669613059314145,0.05929396632462063,0.04504171938211834,0.0006992340075273761,0.09905119835355737,0.0730932160817329,0.14343148605073405,0.09059907010977329,0.181343466892279,0.09794548325729789,0.006186711340527338,0.12681803067928296,1.0,0.05267258953984367,0.04319430861564283,0.05161370440125163,0.16878465167778056,0.17365184712637394,0.06371638580797266,0.062678456940579,0.1501009495530303,0.18418730152629495,0.1320780078575951,0.12475973066650263,0.35254866161248455,0.05779727587747941,0.12108826754038432,0.17426650551385148,0.02519113175172613,0.019525686771182573,0.01467658717448786,0.12870673361493298,0.0037277949018199893,0.08931712837868015,0.038543135505763035,0.12612833795335954,0.1384556874370289,0.1262279548127014,0.06472448793012259,0.0061696184571574655,0.022931896480457476,0.01907222642798609,0.07666452238481651,0.16692012877408122,0.017112940236144406,0.07794476694872536,0.10426769918429322],[0.20352124382417716,0.03837923106462095,0.3446810894316987,0.00043204380021736954,0.4587200041496494,0.1559724812805056,0.04697454038598442,0.1856902726518031,0.07178609212763166,0.15372498187552763,0.13928641664633187,0.32055978935993334,0.11289116607856506,0.025002133779577745,0.25585634692922155,0.014636595328628538,0.008786947158780896,0.0571125945115054,0.0008405416799061409,0.4037514642483243,0.34194869229427394,0.05267258953984367,1.0,0.019835286602319167,0.0700440726213148,0.25090459977356255,0.08780625207312971,0.18097159345559385,0.14982598554566331,0.07496518857877323,0.0008977089917408554,0.05143793504580664,0.05759458758072707,0.7123267913450166,0.06317131707051943,0.3680185562928138,0.07483665414675107,0.19247981599807745,0.11646351694021728,0.1060077181623651,0.6783266151664882,0.0019410524269612255,0.2679595777780844,0.18676531552211087,0.052180767057171805,0.19592039529680555,0.025524059425430384,0.03782471229063048,0.09582100699853367,0.18327808940431203,0.06503597685096471,0.11708798085545691,0.05106083124142979,0.07779325179486542,0.20553530704944498,0.01589726337291584],[0.10545778983822471,0.07241839748879937,0.06802494356062885,0.04425731323104594,0.07146587312048712,0.0920062658448299,0.16632634997429915,0.02198555968295571,0.07445242981500565,0.0735498450169508,0.06258678148385846,0.06335661015146095,0.07655222592475586,0.006443372322426594,0.2397806111482397,0.03543133272442664,0.12924423146821917,0.10803116749560755,0.1474460560366526,0.030916913878278135,0.14224617506781653,0.04319430861564283,0.019835286602319167,1.0,0.09118995022470736,0.016060749322297382,0.020080653910521197,0.05088529248825953,0.5086886591061422,0.25041404718594124,0.49266026358692977,0.19182076822954935,0.015449918060003986,0.333209758349108,0.051826090720312315,0.06279460469083874,0.034256177015885104,0.03886909793238201,0.0006422182898771671,0.12051217265372711,0.02474575007559538,0.13156366561869653,0.09551240881662029,0.011830206769385324,0.05167343200696061,0.11823550423361325,0.029549704822259912,0.014712462938063001,0.07604109522464389,0.010804012691271164,0.23137356796122235,0.003486019272908471,0.055426466850885786,0.31248754159772674,0.023466455078682093,0.01471196785603527],[0.009466585233859973,0.13806774384808013,0.2478457244383205,0.037685864671522504,0.15343542824856463,0.04690223128372997,0.17699221749550095,0.0029427743989106584,0.15720428108292445,0.04909336775157617,0.056202067399629387,0.11789478937887524,0.05475489835496873,0.002899021510900109,0.33135521649472566,0.018910752490823808,0.028793187170118983,0.04895308809256817,0.07241683773695853,0.10843875546889649,0.1344715360145604,0.05161370440125163,0.0700440726213148,0.09118995022470736,1.0,0.060272380236290106,0.11202067129566012,0.10858993077329186,0.004769764254971935,0.020112049191127232,0.02437967510759991,0.10826490543499297,0.06321447992828493,0.21658548872217212,0.13631151272730802,0.10866541033444471,0.005306616752143657,0.09069499186912579,0.07940081551383187,0.05624568400760047,0.1494388279803531,0.20759111089401902,0.04395244310058632,0.025761808714762784,0.012778644294623038,0.041806258948857054,0.031679278462734765,0.05345826098668511,0.046881948567686973,0.05664322958961687,0.06698023227518513,0.16999454917795884,0.008328710466285416,0.020422791246754883,0.030887627668953373,0.06007062841698193],[0.2714854832707063,0.14899205194642845,0.005593968994641909,0.25066880622857635,0.07660079997516024,0.021395759427957146,0.22037262833706758,0.10057600983493399,0.19444870747131676,0.036739713876144386,0.05170271618337544,0.06611266666533758,0.025195224646484916,0.016302578093777352,0.08663116239971062,0.09504939579218868,0.042417269862300384,0.19063887827040701,0.004235311158272519,0.006282526906475884,0.19915155012643412,0.16878465167778056,0.25090459977356255,0.016060749322297382,0.060272380236290106,1.0,0.21050002147063598,0.02362344228730769,0.19693833368679117,0.3128438277868515,0.09933696935551423,0.023754583093252644,0.05934535189159128,0.5411979855307577,0.023887773506114155,0.05888507099119878,0.13572414493333895,0.10969660949367883,0.07077421637154689,0.14451349459345172,0.16097509977872937,0.0844831965853365,0.009728535230230864,0.13965056075736845,0.04602448566698366,0.26314192967231925,0.12707959651183312,0.09010545634432401,0.025340436071971423,0.03184383462897461,0.10906974197464317,0.2595681346351732,0.07670482339272845,0.10840210331310335,0.1624014142439368,0.2091376699190933],[0.08431505072410823,0.1141239171310035,0.09308093103788621,0.045629548196186275,0.13395763739876054,0.07282094817641209,0.007372796331154696,0.08305024200034837,0.10184859864215508,0.13742588043722587,0.02136402838577078,0.09394134774076944,0.05434670093308586,0.05503968611187879,0.22672937365724388,0.03189068775286031,0.08287161306789032,0.04638936174534448,0.08696301763859082,0.11858418342086759,0.2247751879491179,0.17365184712637394,0.08780625207312971,0.020080653910521197,0.11202067129566012,0.21050002147063598,1.0,0.1485424487126838,0.07839663001886767,0.14805716077129424,0.009484704044374868,0.010630873098436822,0.123778173412369,0.48061838080805486,0.036365843425515215,0.002023633202252679,0.29984542797785335,0.0280604405695414,0.09091851737436725,0.12210827605019867,0.11488554828942488,0.018943603162012095,0.0594977208475,0.0976934564609909,0.20239286354336564,0.0662477232155472,0.07600929258102099,0.09376411710553485,0.006663700832117336,0.06746625585994491,0.0713263026757046,0.08966544921269863,0.08813188667925419,0.02237401979428507,0.11435865689898786,0.10747422982633578],[0.1163306788753668,0.11408470612073014,0.26185021638440675,0.0004654970189615748,0.578263858905605,0.03412818355954604,0.08953598814924475,0.32863130916648864,0.05808937863300263,0.09033399996010237,0.13169351679383098,0.08826987254069128,0.09081395737842352,0.03302322380067263,0.2599279700617224,0.11848105649301693,0.06182596213881756,0.07610227261381187,0.006615618371274043,0.1981403104336835,0.25094910991247654,0.06371638580797266,0.18097159345559385,0.05088529248825953,0.10858993077329186,0.02362344228730769,0.1485424487126838,1.0,0.08733018885754033,0.12966476248064807,0.10740086539392647,0.18592026844388157,0.08987370636927172,0.30244117823220706,0.10549098913269553,0.15253847128359066,0.192741544825019,0.04472215183600644,0.12624230097756223,0.08949356696325295,0.1191527656606783,0.3931702818433337,0.008616446464935545,0.04762433689243563,0.03483671531558038,0.0541851401387633,0.21867264620048923,0.06263934342647658,0.08532848573304684,0.12033544222124301,0.0097299168763315,0.21822799844985527,0.09830274377024391,0.07692925551633668,0.007217466627101921,0.07417136573339396],[0.23772001964197909,0.058045791655705885,0.05892270814283857,0.19281062506304092,0.12024169491918237,0.014659159450740143,0.0407482870841376,0.06125724110286556,0.1625041004388222,0.048066508777398556,0.12271857222041432,0.019647165652326944,0.06934690936222597,0.04113596872510597,0.08451170650458789,0.11216702485927489,0.016264118493087888,0.12799110278120024,0.07281909821633768,0.008284651649281346,0.22096124483152074,0.062678456940579,0.14982598554566331,0.5086886591061422,0.004769764254971935,0.19693833368679117,0.07839663001886767,0.08733018885754033,1.0,0.06155192168912036,0.33930429163213344,0.12275220088571133,0.08109427821421081,0.46305215515516873,0.024265961841157556,0.034384941906326516,0.06277489324797718,0.0017476568780474494,0.10381746241225319,0.02307296755833018,0.13671327852012807,0.012770723305855785,0.061957496615744234,0.0409662606772763,0.01590671915054966,0.20318716901783737,0.03323807299467067,0.10319918622911388,0.0632452888190498,0.045757557170488045,0.0961516924131911,0.06752156585323284,0.05463784787739642,0.12414954093866057,0.006693871134513978,0.14078999237665582],[0.3209492137204849,0.2806646139790406,0.30889285091373403,0.28463413270608,0.4746650295878999,0.1546704226013478,0.2986311446745937,0.10902268737237904,0.1850956064487926,0.01718993508976592,0.09409603636413746,0.17967548903487807,0.05883068890288912,0.08622016012575473,0.3798132013525214,0.07764681008655236,0.10353597475081205,0.24748974932146775,0.018826398939023267,0.24143885048405098,0.08819827297776604,0.1501009495530303,0.07496518857877323,0.25041404718594124,0.020112049191127232,0.3128438277868515,0.14805716077129424,0.12966476248064807,0.06155192168912036,1.0,0.083728904523724,0.12401476024021159,0.1088770588570554,0.36495583682576027,0.09425247343413728,0.2747662595801695,0.104308438120525,0.07218771015471828,0.02973815686795716,0.16961004681355193,0.12823395405278143,0.2802040989127603,0.09066618205452745,0.010885723717673183,0.1914844735755886,0.08519944570994276,0.2056913813279387,0.04041359507471438,0.1834847025940296,0.040433160305470686,0.17450089389299325,0.07571525444165383,0.03533063908672836,0.48446312786598866,0.02900234862980809,0.21002587818135107],[0.17102935037978007,0.04126566541857337,0.06777911116092158,0.05147620253228588,0.19201581563126183,0.0136820310699337,0.005709008799370088,0.09500546775471203,0.021654249623755104,0.04997293947355223,0.010092390678284236,0.05049619000948712,0.0546773962746133,0.1061722086208439,0.10097455090027455,0.10693563185439277,0.019484251036263493,0.11461704276255266,0.11362838235202061,0.0613040527765011,0.002697890434911478,0.18418730152629495,0.0008977089917408554,0.49266026358692977,0.02437967510759991,0.09933696935551423,0.009484704044374868,0.10740086539392647,0.33930429163213344,0.083728904523724,1.0,0.13169766487664417,0.03536570748992136,0.08209806201747617,0.10799277520624856,0.0008548826841742081,0.024685146373866318,0.020132351663488285,0.0012254506413523119,0.1690972634475976,0.003008224879904504,0.11980362772354597,0.13515893764171102,0.029550004999095762,0.008200012617376656,0.0858555412499481,0.03559745677428981,0.014721105333943014,0.047802887711292714,0.0019757540573154993,0.1402870844771567,0.06590848290182515,0.0012236268756402036,0.3307752656459233,0.08514235635624111,0.09939392414040257],[0.1477129473873898,0.12800784437760768,0.006223849070505246,0.1924633746632936,0.13277020420330612,0.09499595794011279,0.02623297482405274,0.14823394620458882,0.008407551168674678,0.09494115190565536,0.0673625320630081,0.1514581002971605,0.33479411611554444,0.011603989017023052,0.08810088015980176,0.17455113053970894,0.03442045686234802,0.24047774158861085,0.0678596132976582,0.14001501552035692,0.02886135700188387,0.1320780078575951,0.05143793504580664,0.19182076822954935,0.10826490543499297,0.023754583093252644,0.010630873098436822,0.18592026844388157,0.12275220088571133,0.12401476024021159,0.13169766487664417,1.0,0.0336977181555292,0.014075331642056767,0.15557078497237953,0.10400943388881062,0.021877698074527684,0.18678643574977352,0.05957576284187591,0.027895285877258053,0.04448024370640942,0.04485031934449507,0.02462705187369513,0.013969320620950194,0.014013202639700113,0.06988080587926267,0.13577255684003509,0.006051945384319957,0.15102110374270755,0.010812533983124383,0.17490707763557603,0.12401634182602887,0.17014200990314976,0.1059129660745268,0.13549247643878337,0.009419907638013625],[0.08679421366678523,0.10534034084708255,0.0010297792497661682,0.12079653394091858,0.08083989594195021,0.004931049373880637,0.13979369231234542,0.07046613305362064,0.028032939021641515,0.10800435930377644,0.2878183399897507,0.1707941574580155,0.029531279512528857,0.012481501513199569,0.01536205919814161,0.05091122529831234,0.08293288092757961,0.0032238218194735866,0.03203510503455983,0.04078786223132147,0.05019062334922979,0.12475973066650263,0.05759458758072707,0.015449918060003986,0.06321447992828493,0.05934535189159128,0.123778173412369,0.08987370636927172,0.08109427821421081,0.1088770588570554,0.03536570748992136,0.0336977181555292,1.0,0.22211565114918516,0.04682718076351979,0.045782080989351506,0.12963027390194728,0.02116186051415996,0.8118900600497988,0.08317508576769662,0.0570101306940744,0.05926279257279685,0.05262602616747874,0.7544692110030036,0.15638502051134848,0.04510101236747695,0.6347103772386692,0.05320293149465264,0.029383756861195116,0.050557414205100494,0.04204556400409183,0.02985041358770362,0.027766937441649184,0.12295637347654352,0.41666918652737234,0.260772394239199],[0.047820691419624695,0.17129800303297368,0.7268895429565702,0.24561152375128006,0.7708394957449441,0.14525557978068857,0.8235399408568244,0.05357502324581165,0.6049476109854047,0.06046558474921812,0.09563244274544154,0.517577579901012,0.31557573309831927,0.04904926443656387,0.7143427167343182,0.08323225836778002,0.06542115212422729,0.001530975913919548,0.13217698320075547,0.7448992694647972,0.8665547681461947,0.35254866161248455,0.7123267913450166,0.333209758349108,0.21658548872217212,0.5411979855307577,0.48061838080805486,0.30244117823220706,0.46305215515516873,0.36495583682576027,0.08209806201747617,0.014075331642056767,0.22211565114918516,1.0,0.13083319409209124,0.6633030412988067,0.5962705947482735,0.2892205295742747,0.11734227967423883,0.6096253148139152,0.7634448508757549,0.020437854205482612,0.08481023507178763,0.5500467401081346,0.1631169285171431,0.3198613294424551,0.0964614324602551,0.005162205248781461,0.24057628658018032,0.03873521550627044,0.04352235088293908,0.030783460469650286,0.3576982506647896,0.14666023861365413,0.4599315330850616,0.4962548717611579],[0.07525945413715111,0.0026910744865469467,0.1126780391626908,0.036991191703220974,0.04762221157788436,0.12725110211504934,0.02464907711252601,0.05398715151751648,0.01818914071425143,0.026612644536533107,0.0645984753830034,0.06578949024735138,0.14771383901822477,0.08435592924928839,0.08523243808264994,0.23414974387944187,0.05711475487611443,0.06384887290890179,0.0986741254083831,0.0533921097324126,0.05490159439589314,0.05779727587747941,0.06317131707051943,0.051826090720312315,0.13631151272730802,0.023887773506114155,0.036365843425515215,0.10549098913269553,0.024265961841157556,0.09425247343413728,0.10799277520624856,0.15557078497237953,0.04682718076351979,0.13083319409209124,1.0,0.10344385529015307,0.033127171717782684,0.02765166801796714,0.029280815627360426,0.07719950071091261,0.05339640246940665,0.25529829816347466,0.1618101545936994,0.06973306939476488,0.025063998686476904,0.029498503263062276,0.01828062262310676,0.03370968548124428,0.04079721420095419,0.19362464106081556,0.23585975321777353,0.13803640902193295,0.19440153178852596,0.1343446319517783,0.0931695450391887,0.0491000077005043],[0.3184988575052782,0.1617378233542617,0.4880005995142068,0.055906826921456626,0.5453232523685938,0.12381455408740114,0.20645913837648794,0.09220829383295519,0.3174380018453757,0.06910500572601369,0.14885562553037315,0.2568757884016476,0.03857383444474351,0.02454128474036299,0.3576485396190609,0.1762307047755072,0.004718795967235955,0.17169415287730347,0.005546908869184243,0.42218690702392025,0.3953058672742921,0.12108826754038432,0.3680185562928138,0.06279460469083874,0.10866541033444471,0.05888507099119878,0.002023633202252679,0.15253847128359066,0.034384941906326516,0.2747662595801695,0.0008548826841742081,0.10400943388881062,0.045782080989351506,0.6633030412988067,0.10344385529015307,1.0,0.05686653356371734,0.17054979987440305,0.09171836465393036,0.07176318783778043,0.5601329062881372,0.2685863478730436,0.15432870232129536,0.1968749172349472,0.05061722586282521,0.08251825730830686,0.05400112460526394,0.045981839599066425,0.1346202128748787,0.04092996724020999,0.2097107803452963,0.040710846691759645,0.08601731189818072,0.10333248976330935,0.11630445594814143,0.17427854154420613],[0.04672367491247086,0.02528468789727446,0.040065000751571524,0.019598777074194836,0.2580828813431891,0.05654819390504832,0.03908551128811124,0.17592029908969758,0.16029123325219843,0.08328319942618206,0.012040064840950389,0.03338284151652423,0.025035147163749813,0.11802536513437799,0.041519331121968726,0.06336958443938481,0.09985783028246377,0.0444690355218189,0.05344295147786676,0.1452836402827833,0.18824183330264888,0.17426650551385148,0.07483665414675107,0.034256177015885104,0.005306616752143657,0.13572414493333895,0.29984542797785335,0.192741544825019,0.06277489324797718,0.104308438120525,0.024685146373866318,0.021877698074527684,0.12963027390194728,0.5962705947482735,0.033127171717782684,0.05686653356371734,1.0,0.152276313500499,0.08580673037069247,0.16129082992323665,0.005891758538150242,0.09646281408169351,0.05070511402910957,0.052756876744784506,0.15513221004013059,0.02988779016464309,0.049390230503006075,0.11350934690731602,0.024898360200281598,0.14686176728907213,0.12455511611151211,0.0131846200527622,0.04819367655684622,0.07045105117782963,0.13792974638235528,0.07243693218351077],[0.27646944773292736,0.13045511212725047,0.020872171241126763,0.1814089475470817,0.08741116349304957,0.21737023269446853,0.02367823648057253,0.251749248874842,0.12957580488520792,0.18601470633081618,0.20938996004726435,0.2012508751962305,0.08053450246044329,0.13559442299130034,0.10909884206896889,0.14852423888967903,0.025512208802379404,0.14550406900904478,0.09975781786591438,0.22517776227217626,0.10405108214203931,0.02519113175172613,0.19247981599807745,0.03886909793238201,0.09069499186912579,0.10969660949367883,0.0280604405695414,0.04472215183600644,0.0017476568780474494,0.07218771015471828,0.020132351663488285,0.18678643574977352,0.02116186051415996,0.2892205295742747,0.02765166801796714,0.17054979987440305,0.152276313500499,1.0,0.053912758770835074,0.10435065334704599,0.012888127263859109,0.0353605993934341,0.22480152445383206,0.09336821383563776,0.000096708307561759,0.11487916263789709,0.0029393364592132563,0.03707174398906481,0.10254342807121775,0.22744754875695294,0.09454043635018733,0.10342851295409462,0.037042119073944973,0.01889923535807568,0.029862519819918068,0.025779047319825103],[0.08621418892812274,0.07001207370146427,0.00301847448126964,0.03523115175016357,0.14077361601105637,0.021741745367091427,0.09252984780473629,0.10388837252471035,0.018495908239143904,0.12146598540233566,0.25070830929063614,0.1526379801957663,0.011921040512461017,0.012000009926348705,0.043679313676042636,0.12248252712540872,0.06748464957240093,0.02571312903469367,0.019865683830262656,0.008119032348916321,0.054427784598312184,0.019525686771182573,0.11646351694021728,0.0006422182898771671,0.07940081551383187,0.07077421637154689,0.09091851737436725,0.12624230097756223,0.10381746241225319,0.02973815686795716,0.0012254506413523119,0.05957576284187591,0.8118900600497988,0.11734227967423883,0.029280815627360426,0.09171836465393036,0.08580673037069247,0.053912758770835074,1.0,0.02068745647740338,0.022388471561134993,0.05047685726401444,0.051477882707088175,0.8420620334160608,0.13693207104812152,0.14833123627133404,0.40472805411954327,0.021458578838312318,0.058615561088067765,0.06013210532380125,0.03849497015431545,0.0039551018397394585,0.017610176786306653,0.0653327937605342,0.18239748364181854,0.3614889958399735],[0.09912484830002011,0.18740958203543184,0.12578961056367124,0.09266888211350531,0.3711514677602876,0.019693166544478224,0.22741622824566357,0.01980503470676424,0.10220377515593346,0.05962877124583412,0.05072210556781142,0.04980595586863472,0.04495403534689511,0.06735480379343303,0.054378803419330594,0.026310193197355565,0.15555801422667676,0.05585350417183729,0.09269877498777902,0.21128501881849485,0.2739403894130624,0.01467658717448786,0.1060077181623651,0.12051217265372711,0.05624568400760047,0.14451349459345172,0.12210827605019867,0.08949356696325295,0.02307296755833018,0.16961004681355193,0.1690972634475976,0.027895285877258053,0.08317508576769662,0.6096253148139152,0.07719950071091261,0.07176318783778043,0.16129082992323665,0.10435065334704599,0.02068745647740338,1.0,0.17292469940398525,0.27670603443580605,0.08773771687099045,0.06465574001286804,0.1178684886015986,0.02862061531622174,0.2002092349065295,0.1747686875962377,0.03534593366506442,0.05677340486819323,0.30294478161605837,0.02262659182621755,0.17851496403628783,0.2043738554503412,0.27560954525327674,0.04885754260041705],[0.052086152799333034,0.17386457447689552,0.47014998463862573,0.03422644795245253,0.5438624864632164,0.015203808625935549,0.6924990984785043,0.027942283482640568,0.185355483623263,0.09357159694536352,0.009983620292869396,0.18452660893269726,0.24649828934184678,0.09537526417675256,0.31476744976149507,0.056924733682952325,0.06488674126108504,0.04418573189838873,0.05766618899155113,0.4962496765492726,0.48358322748229254,0.12870673361493298,0.6783266151664882,0.02474575007559538,0.1494388279803531,0.16097509977872937,0.11488554828942488,0.1191527656606783,0.13671327852012807,0.12823395405278143,0.003008224879904504,0.04448024370640942,0.0570101306940744,0.7634448508757549,0.05339640246940665,0.5601329062881372,0.005891758538150242,0.012888127263859109,0.022388471561134993,0.17292469940398525,1.0,0.020868863590380884,0.17126207039641617,0.14429503034696084,0.04327948614299336,0.024923009823434386,0.11732170702687279,0.028431815530967658,0.12858946608434987,0.03730648776868486,0.015037554976081325,0.08079056896954072,0.08900596285559756,0.1453814959063383,0.3414968251240948,0.09493941557128625],[0.043131906743860325,0.1484873307222535,0.20385587945683462,0.055742095446715934,0.10793406054266759,0.10037621260487542,0.023479516726528,0.09051420935305184,0.006463744086310656,0.010539482486981305,0.1856364452864163,0.07553453402772375,0.02746067160428617,0.12264245426449867,0.18685685435428487,0.19939925492572386,0.08554701727574483,0.09159100510393789,0.006776373054515263,0.006936167032480208,0.08459215778968465,0.0037277949018199893,0.0019410524269612255,0.13156366561869653,0.20759111089401902,0.0844831965853365,0.018943603162012095,0.3931702818433337,0.012770723305855785,0.2802040989127603,0.11980362772354597,0.04485031934449507,0.05926279257279685,0.020437854205482612,0.25529829816347466,0.2685863478730436,0.09646281408169351,0.0353605993934341,0.05047685726401444,0.27670603443580605,0.020868863590380884,1.0,0.06008162275845386,0.19536576741023431,0.11662727379588016,0.071408189954647,0.15233385916523215,0.07318412951927229,0.003548353857491665,0.02061114529138073,0.5859007773705063,0.13400878037535652,0.0834553093635573,0.32648004655671686,0.0008463100809245166,0.08589226787852001],[0.36853037295102553,0.08987274251233217,0.13323432896813908,0.14724303790015286,0.07572614578207762,0.27410390235196025,0.03363985691551867,0.18374433174310237,0.0767711397277906,0.12016400179437038,0.2390379355130224,0.18225963596900965,0.13250446168281343,0.09501766293654511,0.08927587634313837,0.034421041408018646,0.06968157480809414,0.08537942347906796,0.02252937531276336,0.19663344165713015,0.0190329139809438,0.08931712837868015,0.2679595777780844,0.09551240881662029,0.04395244310058632,0.009728535230230864,0.0594977208475,0.008616446464935545,0.061957496615744234,0.09066618205452745,0.13515893764171102,0.02462705187369513,0.05262602616747874,0.08481023507178763,0.1618101545936994,0.15432870232129536,0.05070511402910957,0.22480152445383206,0.051477882707088175,0.08773771687099045,0.17126207039641617,0.06008162275845386,1.0,0.03009638051007735,0.06660322650786718,0.09383775000391836,0.03784163049656381,0.00822647435103211,0.05807836057329347,0.20081897614611066,0.06663018116630694,0.03292104561604379,0.07621016703652866,0.06129226237566818,0.007437064414919972,0.0163846829960365],[0.025619974134483924,0.08722467795642867,0.1844591301614577,0.07331034916471015,0.031456419888045886,0.056414111692581204,0.05297265511597707,0.11974712871451461,0.03613011190590362,0.16102264502423647,0.3007935317299015,0.17354483844701937,0.014961636058476224,0.08065614990689468,0.08545659678912171,0.15604946911394288,0.08586603523726583,0.03354781346460533,0.005302818980019435,0.0429117239612121,0.08439048490504299,0.038543135505763035,0.18676531552211087,0.011830206769385324,0.025761808714762784,0.13965056075736845,0.0976934564609909,0.04762433689243563,0.0409662606772763,0.010885723717673183,0.029550004999095762,0.013969320620950194,0.7544692110030036,0.5500467401081346,0.06973306939476488,0.1968749172349472,0.052756876744784506,0.09336821383563776,0.8420620334160608,0.06465574001286804,0.14429503034696084,0.19536576741023431,0.03009638051007735,1.0,0.1716055639889713,0.20605809110366977,0.5766724567337062,0.004713585732417158,0.019313251411771787,0.06526755358084017,0.1357882872726319,0.06268440665458692,0.09897901345953528,0.10035654757604166,0.15997948198345074,0.2656911893051077],[0.05484474119493261,0.09828441931469376,0.08582846173053257,0.018097726448062523,0.044708723664337896,0.0008507788499802128,0.00565483787034122,0.006477096755605838,0.08953223041795619,0.04075549617373951,0.061233706460742804,0.07405828018650648,0.04628468761922735,0.08945935803609784,0.16487372436535547,0.04070482034795103,0.09615551018263863,0.06830434404042815,0.02551031647872144,0.07517552337137264,0.005069333513666978,0.12612833795335954,0.052180767057171805,0.05167343200696061,0.012778644294623038,0.04602448566698366,0.20239286354336564,0.03483671531558038,0.01590671915054966,0.1914844735755886,0.008200012617376656,0.014013202639700113,0.15638502051134848,0.1631169285171431,0.025063998686476904,0.05061722586282521,0.15513221004013059,0.000096708307561759,0.13693207104812152,0.1178684886015986,0.04327948614299336,0.11662727379588016,0.06660322650786718,0.1716055639889713,1.0,0.03381531545905654,0.10119287580333323,0.01022921026309412,0.007472729184659919,0.026635780954182207,0.10671339752169022,0.035487678181067295,0.029881958338626172,0.08849787085835528,0.01343652459536691,0.04600705853945371],[0.0380176435293888,0.018509793306260028,0.0053353609072417756,0.0511693149935998,0.010752528520251289,0.13528149800898373,0.41724144820270265,0.13758966005945172,0.13677822644177648,0.3015181597221049,0.004045017010843336,0.10407155891129871,0.08205036619300697,0.006425209838574148,0.17497837512985975,0.0361708103582853,0.09421548285633538,0.10930948052186462,0.1045904115509904,0.0685289335130582,0.0804137565248715,0.1384556874370289,0.19592039529680555,0.11823550423361325,0.041806258948857054,0.26314192967231925,0.0662477232155472,0.0541851401387633,0.20318716901783737,0.08519944570994276,0.0858555412499481,0.06988080587926267,0.04510101236747695,0.3198613294424551,0.029498503263062276,0.08251825730830686,0.02988779016464309,0.11487916263789709,0.14833123627133404,0.02862061531622174,0.024923009823434386,0.071408189954647,0.09383775000391836,0.20605809110366977,0.03381531545905654,1.0,0.04270698297134084,0.009312910900004988,0.006458728748042032,0.13844522253849093,0.038987420912039834,0.08862597584033981,0.16953947234154174,0.10296058826574639,0.08025086690208892,0.10783967443147476],[0.09469297141310198,0.153395595268219,0.018085684999315496,0.08612900091067921,0.029890954981726597,0.03621847375484398,0.13853023667286243,0.028295038969985482,0.02240870919676708,0.05626682750583065,0.17921818104282675,0.13333077993807924,0.09070720457328599,0.0431378933446375,0.05524084208699717,0.007830330850968922,0.057307445140308756,0.011423566354755556,0.051347521475703505,0.010257326839356285,0.0642328574501456,0.1262279548127014,0.025524059425430384,0.029549704822259912,0.031679278462734765,0.12707959651183312,0.07600929258102099,0.21867264620048923,0.03323807299467067,0.2056913813279387,0.03559745677428981,0.13577255684003509,0.6347103772386692,0.0964614324602551,0.01828062262310676,0.05400112460526394,0.049390230503006075,0.0029393364592132563,0.40472805411954327,0.2002092349065295,0.11732170702687279,0.15233385916523215,0.03784163049656381,0.5766724567337062,0.10119287580333323,0.04270698297134084,1.0,0.04514172162937041,0.05502697585693736,0.04043317916185987,0.06566388345497841,0.05324301675469443,0.05591227158909436,0.162771539159243,0.6124920374692376,0.16072494787528996],[0.18418564805180035,0.15683678590463865,0.013221679327151088,0.039046410356076505,0.07364950403030249,0.07896523817982212,0.054515143756432474,0.028352147846920032,0.4397725443404638,0.07184071544629156,0.08355541644497011,0.14902368967663954,0.04795498775800692,0.20384131418141438,0.08526973763435676,0.04791831009266468,0.09795506355247846,0.09123924974297429,0.17162571281081426,0.08609058211562136,0.003011734950665308,0.06472448793012259,0.03782471229063048,0.014712462938063001,0.05345826098668511,0.09010545634432401,0.09376411710553485,0.06263934342647658,0.10319918622911388,0.04041359507471438,0.014721105333943014,0.006051945384319957,0.05320293149465264,0.005162205248781461,0.03370968548124428,0.045981839599066425,0.11350934690731602,0.03707174398906481,0.021458578838312318,0.1747686875962377,0.028431815530967658,0.07318412951927229,0.00822647435103211,0.004713585732417158,0.01022921026309412,0.009312910900004988,0.04514172162937041,1.0,0.022869439047974872,0.09673353919663844,0.06865894423552475,0.1253509311300534,0.051538127162435395,0.0016231282022814255,0.06269347335784334,0.6392650357359729],[0.18218857989274587,0.030648069687231303,0.12261701989224194,0.16400333684131782,0.19378085008064244,0.1628743490640287,0.22296501884103115,0.026851823497537012,0.00818313773549603,0.1357851680667895,0.052760067630175295,0.1294545240816449,0.09160724134808039,0.05438545279662652,0.13545981800147538,0.01649377325125637,0.049463529058136814,0.13071736234812859,0.050043191878652804,0.08811509725723203,0.006403436836645592,0.0061696184571574655,0.09582100699853367,0.07604109522464389,0.046881948567686973,0.025340436071971423,0.006663700832117336,0.08532848573304684,0.0632452888190498,0.1834847025940296,0.047802887711292714,0.15102110374270755,0.029383756861195116,0.24057628658018032,0.04079721420095419,0.1346202128748787,0.024898360200281598,0.10254342807121775,0.058615561088067765,0.03534593366506442,0.12858946608434987,0.003548353857491665,0.05807836057329347,0.019313251411771787,0.007472729184659919,0.006458728748042032,0.05502697585693736,0.022869439047974872,1.0,0.13323848211292358,0.06634803400874811,0.07189565160214717,0.04020470111196231,0.03480269388679828,0.006928064713976272,0.19848486515380007],[0.2297308512603224,0.0723511197764543,0.0019235796489670263,0.10280968964608643,0.0280685845058547,0.2128204387575974,0.057983707052667054,0.3232078008254178,0.11103670116808434,0.3284962626760607,0.21778455915134373,0.2081805970975988,0.006459826318622599,0.1273687883967295,0.2302243581773286,0.04461640354319274,0.09641325666856468,0.01561139959480009,0.046012059406433777,0.0803330025020988,0.04567796520374747,0.022931896480457476,0.18327808940431203,0.010804012691271164,0.05664322958961687,0.03184383462897461,0.06746625585994491,0.12033544222124301,0.045757557170488045,0.040433160305470686,0.0019757540573154993,0.010812533983124383,0.050557414205100494,0.03873521550627044,0.19362464106081556,0.04092996724020999,0.14686176728907213,0.22744754875695294,0.06013210532380125,0.05677340486819323,0.03730648776868486,0.02061114529138073,0.20081897614611066,0.06526755358084017,0.026635780954182207,0.13844522253849093,0.04043317916185987,0.09673353919663844,0.13323848211292358,1.0,0.05296707691900679,0.03212257117226942,0.0852705339357094,0.0313098645006266,0.0416492109399626,0.06293783895075557],[0.032901062075962585,0.10448676881893011,0.1056337307226169,0.07200571322771429,0.09780245198319655,0.06916601908846509,0.06152070751633238,0.020493863587365803,0.012975356446141634,0.07882040282305379,0.11494896470271192,0.060856666191851344,0.006028453874372415,0.0892260642028348,0.16056139294052169,0.09080633973427361,0.23197294084948503,0.04420044119652742,0.0024525030530689064,0.0286291936996743,0.000904606111199814,0.01907222642798609,0.06503597685096471,0.23137356796122235,0.06698023227518513,0.10906974197464317,0.0713263026757046,0.0097299168763315,0.0961516924131911,0.17450089389299325,0.1402870844771567,0.17490707763557603,0.04204556400409183,0.04352235088293908,0.23585975321777353,0.2097107803452963,0.12455511611151211,0.09454043635018733,0.03849497015431545,0.30294478161605837,0.015037554976081325,0.5859007773705063,0.06663018116630694,0.1357882872726319,0.10671339752169022,0.038987420912039834,0.06566388345497841,0.06865894423552475,0.06634803400874811,0.05296707691900679,1.0,0.04931398294686134,0.03159616264816175,0.20700425457749955,0.12275159759491662,0.045443507188643296],[0.053645673559241304,0.2091432493803017,0.013362751491514205,0.03134175344202198,0.02628202525604118,0.056782294701731344,0.016721486328436036,0.22810200817798126,0.2123018945950245,0.062392362039337304,0.0022932726348236054,0.015999902016393782,0.07652865074129094,0.07773144981200815,0.016191276078792574,0.11584408946885945,0.012612555213233734,0.033511806006854675,0.12932600132859906,0.05555845363295817,0.06794824865523233,0.07666452238481651,0.11708798085545691,0.003486019272908471,0.16999454917795884,0.2595681346351732,0.08966544921269863,0.21822799844985527,0.06752156585323284,0.07571525444165383,0.06590848290182515,0.12401634182602887,0.02985041358770362,0.030783460469650286,0.13803640902193295,0.040710846691759645,0.0131846200527622,0.10342851295409462,0.0039551018397394585,0.02262659182621755,0.08079056896954072,0.13400878037535652,0.03292104561604379,0.06268440665458692,0.035487678181067295,0.08862597584033981,0.05324301675469443,0.1253509311300534,0.07189565160214717,0.03212257117226942,0.04931398294686134,1.0,0.03213240129635782,0.049806862094320295,0.07487959428207581,0.14700956605506565],[0.10409043494224926,0.09125534804385313,0.11363658312867901,0.05204404959558549,0.16191204042205284,0.08208240407090364,0.17190108625711395,0.10640947960954683,0.15004481817434623,0.14492594382352766,0.08955577493151423,0.013402106330365916,0.02755463501118458,0.023444254451631542,0.2157580263498805,0.14644393891831992,0.10648896171168348,0.05028390459609939,0.041446913549138036,0.022174105761932714,0.1533931779448884,0.16692012877408122,0.05106083124142979,0.055426466850885786,0.008328710466285416,0.07670482339272845,0.08813188667925419,0.09830274377024391,0.05463784787739642,0.03533063908672836,0.0012236268756402036,0.17014200990314976,0.027766937441649184,0.3576982506647896,0.19440153178852596,0.08601731189818072,0.04819367655684622,0.037042119073944973,0.017610176786306653,0.17851496403628783,0.08900596285559756,0.0834553093635573,0.07621016703652866,0.09897901345953528,0.029881958338626172,0.16953947234154174,0.05591227158909436,0.051538127162435395,0.04020470111196231,0.0852705339357094,0.03159616264816175,0.03213240129635782,1.0,0.03222803816796746,0.014056691964460997,0.06456474003213804],[0.03520030265684512,0.15071321995787046,0.06014191614348082,0.09347943763808923,0.1606168263589201,0.006223385535489104,0.015188426713666051,0.029244141343674236,0.021750082255315415,0.018898655117966397,0.03392703336219544,0.055365878869129685,0.03721839917293102,0.0038079847678281335,0.046236676874992354,0.05150053944803601,0.05988558234632812,0.15450867336976867,0.02114381846818302,0.08534793562747077,0.00804737160359649,0.017112940236144406,0.07779325179486542,0.31248754159772674,0.020422791246754883,0.10840210331310335,0.02237401979428507,0.07692925551633668,0.12414954093866057,0.48446312786598866,0.3307752656459233,0.1059129660745268,0.12295637347654352,0.14666023861365413,0.1343446319517783,0.10333248976330935,0.07045105117782963,0.01889923535807568,0.0653327937605342,0.2043738554503412,0.1453814959063383,0.32648004655671686,0.06129226237566818,0.10035654757604166,0.08849787085835528,0.10296058826574639,0.162771539159243,0.0016231282022814255,0.03480269388679828,0.0313098645006266,0.20700425457749955,0.049806862094320295,0.03222803816796746,1.0,0.09497499748899145,0.004998112898711872],[0.005204606495353844,0.10659413532447672,0.22104076155800098,0.03308581208298335,0.4958678543663999,0.054970229772397565,0.28285113144731716,0.003900312025370532,0.00836052559406036,0.056401664919354166,0.023092439938799274,0.03987443598249627,0.036665913978650495,0.052833954369981354,0.26723341867985134,0.05577084388316846,0.03523138943093675,0.028486728222123097,0.08261416657586416,0.19851064821013015,0.3166608131474875,0.07794476694872536,0.20553530704944498,0.023466455078682093,0.030887627668953373,0.1624014142439368,0.11435865689898786,0.007217466627101921,0.006693871134513978,0.02900234862980809,0.08514235635624111,0.13549247643878337,0.41666918652737234,0.4599315330850616,0.0931695450391887,0.11630445594814143,0.13792974638235528,0.029862519819918068,0.18239748364181854,0.27560954525327674,0.3414968251240948,0.0008463100809245166,0.007437064414919972,0.15997948198345074,0.01343652459536691,0.08025086690208892,0.6124920374692376,0.06269347335784334,0.006928064713976272,0.0416492109399626,0.12275159759491662,0.07487959428207581,0.014056691964460997,0.09497499748899145,1.0,0.05187892815706437],[0.2912414524528367,0.19191038814040243,0.35201740341671883,0.15010911186538722,0.24251661570410882,0.05168322840163497,0.8007015831936534,0.06053715550382987,0.5171942627094277,0.14552555663334818,0.08724985558186146,0.17865761771922634,0.019098703445621146,0.17556919325732684,0.32640103791912795,0.06285965291654053,0.03865032742664419,0.13639204848544656,0.08417957115415928,0.2555661006976705,0.2475705563293414,0.10426769918429322,0.01589726337291584,0.01471196785603527,0.06007062841698193,0.2091376699190933,0.10747422982633578,0.07417136573339396,0.14078999237665582,0.21002587818135107,0.09939392414040257,0.009419907638013625,0.260772394239199,0.4962548717611579,0.0491000077005043,0.17427854154420613,0.07243693218351077,0.025779047319825103,0.3614889958399735,0.04885754260041705,0.09493941557128625,0.08589226787852001,0.0163846829960365,0.2656911893051077,0.04600705853945371,0.10783967443147476,0.16072494787528996,0.6392650357359729,0.19848486515380007,0.06293783895075557,0.045443507188643296,0.14700956605506565,0.06456474003213804,0.004998112898711872,0.05187892815706437,1.0]],\"type\":\"heatmap\",\"xaxis\":\"x\",\"yaxis\":\"y\",\"hovertemplate\":\"x: %{x}<br>y: %{y}<br>color: %{z}<extra></extra>\"}],                        {\"template\":{\"data\":{\"histogram2dcontour\":[{\"type\":\"histogram2dcontour\",\"colorbar\":{\"outlinewidth\":0,\"ticks\":\"\"},\"colorscale\":[[0.0,\"#0d0887\"],[0.1111111111111111,\"#46039f\"],[0.2222222222222222,\"#7201a8\"],[0.3333333333333333,\"#9c179e\"],[0.4444444444444444,\"#bd3786\"],[0.5555555555555556,\"#d8576b\"],[0.6666666666666666,\"#ed7953\"],[0.7777777777777778,\"#fb9f3a\"],[0.8888888888888888,\"#fdca26\"],[1.0,\"#f0f921\"]]}],\"choropleth\":[{\"type\":\"choropleth\",\"colorbar\":{\"outlinewidth\":0,\"ticks\":\"\"}}],\"histogram2d\":[{\"type\":\"histogram2d\",\"colorbar\":{\"outlinewidth\":0,\"ticks\":\"\"},\"colorscale\":[[0.0,\"#0d0887\"],[0.1111111111111111,\"#46039f\"],[0.2222222222222222,\"#7201a8\"],[0.3333333333333333,\"#9c179e\"],[0.4444444444444444,\"#bd3786\"],[0.5555555555555556,\"#d8576b\"],[0.6666666666666666,\"#ed7953\"],[0.7777777777777778,\"#fb9f3a\"],[0.8888888888888888,\"#fdca26\"],[1.0,\"#f0f921\"]]}],\"heatmap\":[{\"type\":\"heatmap\",\"colorbar\":{\"outlinewidth\":0,\"ticks\":\"\"},\"colorscale\":[[0.0,\"#0d0887\"],[0.1111111111111111,\"#46039f\"],[0.2222222222222222,\"#7201a8\"],[0.3333333333333333,\"#9c179e\"],[0.4444444444444444,\"#bd3786\"],[0.5555555555555556,\"#d8576b\"],[0.6666666666666666,\"#ed7953\"],[0.7777777777777778,\"#fb9f3a\"],[0.8888888888888888,\"#fdca26\"],[1.0,\"#f0f921\"]]}],\"heatmapgl\":[{\"type\":\"heatmapgl\",\"colorbar\":{\"outlinewidth\":0,\"ticks\":\"\"},\"colorscale\":[[0.0,\"#0d0887\"],[0.1111111111111111,\"#46039f\"],[0.2222222222222222,\"#7201a8\"],[0.3333333333333333,\"#9c179e\"],[0.4444444444444444,\"#bd3786\"],[0.5555555555555556,\"#d8576b\"],[0.6666666666666666,\"#ed7953\"],[0.7777777777777778,\"#fb9f3a\"],[0.8888888888888888,\"#fdca26\"],[1.0,\"#f0f921\"]]}],\"contourcarpet\":[{\"type\":\"contourcarpet\",\"colorbar\":{\"outlinewidth\":0,\"ticks\":\"\"}}],\"contour\":[{\"type\":\"contour\",\"colorbar\":{\"outlinewidth\":0,\"ticks\":\"\"},\"colorscale\":[[0.0,\"#0d0887\"],[0.1111111111111111,\"#46039f\"],[0.2222222222222222,\"#7201a8\"],[0.3333333333333333,\"#9c179e\"],[0.4444444444444444,\"#bd3786\"],[0.5555555555555556,\"#d8576b\"],[0.6666666666666666,\"#ed7953\"],[0.7777777777777778,\"#fb9f3a\"],[0.8888888888888888,\"#fdca26\"],[1.0,\"#f0f921\"]]}],\"surface\":[{\"type\":\"surface\",\"colorbar\":{\"outlinewidth\":0,\"ticks\":\"\"},\"colorscale\":[[0.0,\"#0d0887\"],[0.1111111111111111,\"#46039f\"],[0.2222222222222222,\"#7201a8\"],[0.3333333333333333,\"#9c179e\"],[0.4444444444444444,\"#bd3786\"],[0.5555555555555556,\"#d8576b\"],[0.6666666666666666,\"#ed7953\"],[0.7777777777777778,\"#fb9f3a\"],[0.8888888888888888,\"#fdca26\"],[1.0,\"#f0f921\"]]}],\"mesh3d\":[{\"type\":\"mesh3d\",\"colorbar\":{\"outlinewidth\":0,\"ticks\":\"\"}}],\"scatter\":[{\"fillpattern\":{\"fillmode\":\"overlay\",\"size\":10,\"solidity\":0.2},\"type\":\"scatter\"}],\"parcoords\":[{\"type\":\"parcoords\",\"line\":{\"colorbar\":{\"outlinewidth\":0,\"ticks\":\"\"}}}],\"scatterpolargl\":[{\"type\":\"scatterpolargl\",\"marker\":{\"colorbar\":{\"outlinewidth\":0,\"ticks\":\"\"}}}],\"bar\":[{\"error_x\":{\"color\":\"#2a3f5f\"},\"error_y\":{\"color\":\"#2a3f5f\"},\"marker\":{\"line\":{\"color\":\"#E5ECF6\",\"width\":0.5},\"pattern\":{\"fillmode\":\"overlay\",\"size\":10,\"solidity\":0.2}},\"type\":\"bar\"}],\"scattergeo\":[{\"type\":\"scattergeo\",\"marker\":{\"colorbar\":{\"outlinewidth\":0,\"ticks\":\"\"}}}],\"scatterpolar\":[{\"type\":\"scatterpolar\",\"marker\":{\"colorbar\":{\"outlinewidth\":0,\"ticks\":\"\"}}}],\"histogram\":[{\"marker\":{\"pattern\":{\"fillmode\":\"overlay\",\"size\":10,\"solidity\":0.2}},\"type\":\"histogram\"}],\"scattergl\":[{\"type\":\"scattergl\",\"marker\":{\"colorbar\":{\"outlinewidth\":0,\"ticks\":\"\"}}}],\"scatter3d\":[{\"type\":\"scatter3d\",\"line\":{\"colorbar\":{\"outlinewidth\":0,\"ticks\":\"\"}},\"marker\":{\"colorbar\":{\"outlinewidth\":0,\"ticks\":\"\"}}}],\"scattermapbox\":[{\"type\":\"scattermapbox\",\"marker\":{\"colorbar\":{\"outlinewidth\":0,\"ticks\":\"\"}}}],\"scatterternary\":[{\"type\":\"scatterternary\",\"marker\":{\"colorbar\":{\"outlinewidth\":0,\"ticks\":\"\"}}}],\"scattercarpet\":[{\"type\":\"scattercarpet\",\"marker\":{\"colorbar\":{\"outlinewidth\":0,\"ticks\":\"\"}}}],\"carpet\":[{\"aaxis\":{\"endlinecolor\":\"#2a3f5f\",\"gridcolor\":\"white\",\"linecolor\":\"white\",\"minorgridcolor\":\"white\",\"startlinecolor\":\"#2a3f5f\"},\"baxis\":{\"endlinecolor\":\"#2a3f5f\",\"gridcolor\":\"white\",\"linecolor\":\"white\",\"minorgridcolor\":\"white\",\"startlinecolor\":\"#2a3f5f\"},\"type\":\"carpet\"}],\"table\":[{\"cells\":{\"fill\":{\"color\":\"#EBF0F8\"},\"line\":{\"color\":\"white\"}},\"header\":{\"fill\":{\"color\":\"#C8D4E3\"},\"line\":{\"color\":\"white\"}},\"type\":\"table\"}],\"barpolar\":[{\"marker\":{\"line\":{\"color\":\"#E5ECF6\",\"width\":0.5},\"pattern\":{\"fillmode\":\"overlay\",\"size\":10,\"solidity\":0.2}},\"type\":\"barpolar\"}],\"pie\":[{\"automargin\":true,\"type\":\"pie\"}]},\"layout\":{\"autotypenumbers\":\"strict\",\"colorway\":[\"#636efa\",\"#EF553B\",\"#00cc96\",\"#ab63fa\",\"#FFA15A\",\"#19d3f3\",\"#FF6692\",\"#B6E880\",\"#FF97FF\",\"#FECB52\"],\"font\":{\"color\":\"#2a3f5f\"},\"hovermode\":\"closest\",\"hoverlabel\":{\"align\":\"left\"},\"paper_bgcolor\":\"white\",\"plot_bgcolor\":\"#E5ECF6\",\"polar\":{\"bgcolor\":\"#E5ECF6\",\"angularaxis\":{\"gridcolor\":\"white\",\"linecolor\":\"white\",\"ticks\":\"\"},\"radialaxis\":{\"gridcolor\":\"white\",\"linecolor\":\"white\",\"ticks\":\"\"}},\"ternary\":{\"bgcolor\":\"#E5ECF6\",\"aaxis\":{\"gridcolor\":\"white\",\"linecolor\":\"white\",\"ticks\":\"\"},\"baxis\":{\"gridcolor\":\"white\",\"linecolor\":\"white\",\"ticks\":\"\"},\"caxis\":{\"gridcolor\":\"white\",\"linecolor\":\"white\",\"ticks\":\"\"}},\"coloraxis\":{\"colorbar\":{\"outlinewidth\":0,\"ticks\":\"\"}},\"colorscale\":{\"sequential\":[[0.0,\"#0d0887\"],[0.1111111111111111,\"#46039f\"],[0.2222222222222222,\"#7201a8\"],[0.3333333333333333,\"#9c179e\"],[0.4444444444444444,\"#bd3786\"],[0.5555555555555556,\"#d8576b\"],[0.6666666666666666,\"#ed7953\"],[0.7777777777777778,\"#fb9f3a\"],[0.8888888888888888,\"#fdca26\"],[1.0,\"#f0f921\"]],\"sequentialminus\":[[0.0,\"#0d0887\"],[0.1111111111111111,\"#46039f\"],[0.2222222222222222,\"#7201a8\"],[0.3333333333333333,\"#9c179e\"],[0.4444444444444444,\"#bd3786\"],[0.5555555555555556,\"#d8576b\"],[0.6666666666666666,\"#ed7953\"],[0.7777777777777778,\"#fb9f3a\"],[0.8888888888888888,\"#fdca26\"],[1.0,\"#f0f921\"]],\"diverging\":[[0,\"#8e0152\"],[0.1,\"#c51b7d\"],[0.2,\"#de77ae\"],[0.3,\"#f1b6da\"],[0.4,\"#fde0ef\"],[0.5,\"#f7f7f7\"],[0.6,\"#e6f5d0\"],[0.7,\"#b8e186\"],[0.8,\"#7fbc41\"],[0.9,\"#4d9221\"],[1,\"#276419\"]]},\"xaxis\":{\"gridcolor\":\"white\",\"linecolor\":\"white\",\"ticks\":\"\",\"title\":{\"standoff\":15},\"zerolinecolor\":\"white\",\"automargin\":true,\"zerolinewidth\":2},\"yaxis\":{\"gridcolor\":\"white\",\"linecolor\":\"white\",\"ticks\":\"\",\"title\":{\"standoff\":15},\"zerolinecolor\":\"white\",\"automargin\":true,\"zerolinewidth\":2},\"scene\":{\"xaxis\":{\"backgroundcolor\":\"#E5ECF6\",\"gridcolor\":\"white\",\"linecolor\":\"white\",\"showbackground\":true,\"ticks\":\"\",\"zerolinecolor\":\"white\",\"gridwidth\":2},\"yaxis\":{\"backgroundcolor\":\"#E5ECF6\",\"gridcolor\":\"white\",\"linecolor\":\"white\",\"showbackground\":true,\"ticks\":\"\",\"zerolinecolor\":\"white\",\"gridwidth\":2},\"zaxis\":{\"backgroundcolor\":\"#E5ECF6\",\"gridcolor\":\"white\",\"linecolor\":\"white\",\"showbackground\":true,\"ticks\":\"\",\"zerolinecolor\":\"white\",\"gridwidth\":2}},\"shapedefaults\":{\"line\":{\"color\":\"#2a3f5f\"}},\"annotationdefaults\":{\"arrowcolor\":\"#2a3f5f\",\"arrowhead\":0,\"arrowwidth\":1},\"geo\":{\"bgcolor\":\"white\",\"landcolor\":\"#E5ECF6\",\"subunitcolor\":\"white\",\"showland\":true,\"showlakes\":true,\"lakecolor\":\"white\"},\"title\":{\"x\":0.05},\"mapbox\":{\"style\":\"light\"}}},\"xaxis\":{\"anchor\":\"y\",\"domain\":[0.0,1.0],\"scaleanchor\":\"y\",\"constrain\":\"domain\"},\"yaxis\":{\"anchor\":\"x\",\"domain\":[0.0,1.0],\"autorange\":\"reversed\",\"constrain\":\"domain\"},\"coloraxis\":{\"colorscale\":[[0.0,\"#0d0887\"],[0.1111111111111111,\"#46039f\"],[0.2222222222222222,\"#7201a8\"],[0.3333333333333333,\"#9c179e\"],[0.4444444444444444,\"#bd3786\"],[0.5555555555555556,\"#d8576b\"],[0.6666666666666666,\"#ed7953\"],[0.7777777777777778,\"#fb9f3a\"],[0.8888888888888888,\"#fdca26\"],[1.0,\"#f0f921\"]]},\"margin\":{\"t\":60},\"height\":1000},                        {\"responsive\": true}                    ).then(function(){\n",
       "                            \n",
       "var gd = document.getElementById('7b0c280a-8bfb-44c7-9535-f5cdd3c638e4');\n",
       "var x = new MutationObserver(function (mutations, observer) {{\n",
       "        var display = window.getComputedStyle(gd).display;\n",
       "        if (!display || display === 'none') {{\n",
       "            console.log([gd, 'removed!']);\n",
       "            Plotly.purge(gd);\n",
       "            observer.disconnect();\n",
       "        }}\n",
       "}});\n",
       "\n",
       "// Listen for the removal of the full notebook cells\n",
       "var notebookContainer = gd.closest('#notebook-container');\n",
       "if (notebookContainer) {{\n",
       "    x.observe(notebookContainer, {childList: true});\n",
       "}}\n",
       "\n",
       "// Listen for the clearing of the current output cell\n",
       "var outputEl = gd.closest('.output');\n",
       "if (outputEl) {{\n",
       "    x.observe(outputEl, {childList: true});\n",
       "}}\n",
       "\n",
       "                        })                };                });            </script>        </div>"
      ]
     },
     "metadata": {},
     "output_type": "display_data"
    }
   ],
   "source": [
    "px.imshow(np.abs(X_train_joined_feat.corr(numeric_only=True)), height=1000)"
   ]
  },
  {
   "cell_type": "code",
   "execution_count": 27,
   "id": "11f0b9e6",
   "metadata": {
    "execution": {
     "iopub.execute_input": "2023-07-09T23:54:28.230082Z",
     "iopub.status.busy": "2023-07-09T23:54:28.229618Z",
     "iopub.status.idle": "2023-07-09T23:54:28.241589Z",
     "shell.execute_reply": "2023-07-09T23:54:28.240208Z"
    },
    "papermill": {
     "duration": 0.03357,
     "end_time": "2023-07-09T23:54:28.244334",
     "exception": false,
     "start_time": "2023-07-09T23:54:28.210764",
     "status": "completed"
    },
    "tags": []
   },
   "outputs": [
    {
     "data": {
      "text/plain": [
       "0.3383272791753242"
      ]
     },
     "execution_count": 27,
     "metadata": {},
     "output_type": "execute_result"
    }
   ],
   "source": [
    "y.corr(X_train_joined_feat.max_variance)"
   ]
  },
  {
   "cell_type": "code",
   "execution_count": 28,
   "id": "4ae567f9",
   "metadata": {
    "execution": {
     "iopub.execute_input": "2023-07-09T23:54:28.278368Z",
     "iopub.status.busy": "2023-07-09T23:54:28.278024Z",
     "iopub.status.idle": "2023-07-09T23:54:28.306008Z",
     "shell.execute_reply": "2023-07-09T23:54:28.304195Z"
    },
    "papermill": {
     "duration": 0.047774,
     "end_time": "2023-07-09T23:54:28.308488",
     "exception": false,
     "start_time": "2023-07-09T23:54:28.260714",
     "status": "completed"
    },
    "tags": []
   },
   "outputs": [
    {
     "data": {
      "text/html": [
       "<div>\n",
       "<style scoped>\n",
       "    .dataframe tbody tr th:only-of-type {\n",
       "        vertical-align: middle;\n",
       "    }\n",
       "\n",
       "    .dataframe tbody tr th {\n",
       "        vertical-align: top;\n",
       "    }\n",
       "\n",
       "    .dataframe thead th {\n",
       "        text-align: right;\n",
       "    }\n",
       "</style>\n",
       "<table border=\"1\" class=\"dataframe\">\n",
       "  <thead>\n",
       "    <tr style=\"text-align: right;\">\n",
       "      <th></th>\n",
       "      <th>AB</th>\n",
       "      <th>AF</th>\n",
       "      <th>AH</th>\n",
       "      <th>AM</th>\n",
       "      <th>AR</th>\n",
       "      <th>AX</th>\n",
       "      <th>AY</th>\n",
       "      <th>AZ</th>\n",
       "      <th>BC</th>\n",
       "      <th>BD</th>\n",
       "      <th>...</th>\n",
       "      <th>FL</th>\n",
       "      <th>FR</th>\n",
       "      <th>FS</th>\n",
       "      <th>GB</th>\n",
       "      <th>GE</th>\n",
       "      <th>GF</th>\n",
       "      <th>GH</th>\n",
       "      <th>GI</th>\n",
       "      <th>GL</th>\n",
       "      <th>max_variance</th>\n",
       "    </tr>\n",
       "  </thead>\n",
       "  <tbody>\n",
       "    <tr>\n",
       "      <th>0</th>\n",
       "      <td>0.190105</td>\n",
       "      <td>8.042389</td>\n",
       "      <td>NaN</td>\n",
       "      <td>3.152497</td>\n",
       "      <td>NaN</td>\n",
       "      <td>0.530546</td>\n",
       "      <td>NaN</td>\n",
       "      <td>2.380676</td>\n",
       "      <td>1.880325</td>\n",
       "      <td>8.325448</td>\n",
       "      <td>...</td>\n",
       "      <td>2.116034</td>\n",
       "      <td>1.007429</td>\n",
       "      <td>0.090592</td>\n",
       "      <td>2.512776</td>\n",
       "      <td>NaN</td>\n",
       "      <td>7.603305</td>\n",
       "      <td>3.141400</td>\n",
       "      <td>4.260352</td>\n",
       "      <td>0.113635</td>\n",
       "      <td>3.997082</td>\n",
       "    </tr>\n",
       "    <tr>\n",
       "      <th>1</th>\n",
       "      <td>0.135651</td>\n",
       "      <td>6.887312</td>\n",
       "      <td>NaN</td>\n",
       "      <td>3.636767</td>\n",
       "      <td>NaN</td>\n",
       "      <td>1.533030</td>\n",
       "      <td>NaN</td>\n",
       "      <td>2.675375</td>\n",
       "      <td>NaN</td>\n",
       "      <td>8.612127</td>\n",
       "      <td>...</td>\n",
       "      <td>NaN</td>\n",
       "      <td>NaN</td>\n",
       "      <td>0.450395</td>\n",
       "      <td>2.331435</td>\n",
       "      <td>NaN</td>\n",
       "      <td>10.239337</td>\n",
       "      <td>3.405702</td>\n",
       "      <td>3.500499</td>\n",
       "      <td>NaN</td>\n",
       "      <td>2.258235</td>\n",
       "    </tr>\n",
       "    <tr>\n",
       "      <th>2</th>\n",
       "      <td>0.385283</td>\n",
       "      <td>7.877058</td>\n",
       "      <td>NaN</td>\n",
       "      <td>3.507374</td>\n",
       "      <td>NaN</td>\n",
       "      <td>2.045476</td>\n",
       "      <td>NaN</td>\n",
       "      <td>2.626447</td>\n",
       "      <td>NaN</td>\n",
       "      <td>8.544182</td>\n",
       "      <td>...</td>\n",
       "      <td>2.164421</td>\n",
       "      <td>0.680852</td>\n",
       "      <td>0.787921</td>\n",
       "      <td>3.639631</td>\n",
       "      <td>4.495461</td>\n",
       "      <td>9.523541</td>\n",
       "      <td>3.368083</td>\n",
       "      <td>3.588857</td>\n",
       "      <td>0.179769</td>\n",
       "      <td>2.309937</td>\n",
       "    </tr>\n",
       "    <tr>\n",
       "      <th>3</th>\n",
       "      <td>0.224828</td>\n",
       "      <td>8.248176</td>\n",
       "      <td>4.797455</td>\n",
       "      <td>4.358146</td>\n",
       "      <td>NaN</td>\n",
       "      <td>1.544439</td>\n",
       "      <td>NaN</td>\n",
       "      <td>2.489372</td>\n",
       "      <td>NaN</td>\n",
       "      <td>8.335834</td>\n",
       "      <td>...</td>\n",
       "      <td>1.963211</td>\n",
       "      <td>NaN</td>\n",
       "      <td>0.250343</td>\n",
       "      <td>2.971930</td>\n",
       "      <td>4.423850</td>\n",
       "      <td>7.647434</td>\n",
       "      <td>3.712319</td>\n",
       "      <td>4.516265</td>\n",
       "      <td>0.144817</td>\n",
       "      <td>4.599578</td>\n",
       "    </tr>\n",
       "    <tr>\n",
       "      <th>4</th>\n",
       "      <td>0.322299</td>\n",
       "      <td>8.225248</td>\n",
       "      <td>NaN</td>\n",
       "      <td>2.714942</td>\n",
       "      <td>NaN</td>\n",
       "      <td>1.597822</td>\n",
       "      <td>0.053361</td>\n",
       "      <td>NaN</td>\n",
       "      <td>4.636203</td>\n",
       "      <td>8.653424</td>\n",
       "      <td>...</td>\n",
       "      <td>2.214088</td>\n",
       "      <td>3.902000</td>\n",
       "      <td>0.115036</td>\n",
       "      <td>2.856972</td>\n",
       "      <td>4.991180</td>\n",
       "      <td>9.050802</td>\n",
       "      <td>3.836897</td>\n",
       "      <td>3.617991</td>\n",
       "      <td>0.092228</td>\n",
       "      <td>16.533265</td>\n",
       "    </tr>\n",
       "    <tr>\n",
       "      <th>...</th>\n",
       "      <td>...</td>\n",
       "      <td>...</td>\n",
       "      <td>...</td>\n",
       "      <td>...</td>\n",
       "      <td>...</td>\n",
       "      <td>...</td>\n",
       "      <td>...</td>\n",
       "      <td>...</td>\n",
       "      <td>...</td>\n",
       "      <td>...</td>\n",
       "      <td>...</td>\n",
       "      <td>...</td>\n",
       "      <td>...</td>\n",
       "      <td>...</td>\n",
       "      <td>...</td>\n",
       "      <td>...</td>\n",
       "      <td>...</td>\n",
       "      <td>...</td>\n",
       "      <td>...</td>\n",
       "      <td>...</td>\n",
       "      <td>...</td>\n",
       "    </tr>\n",
       "    <tr>\n",
       "      <th>612</th>\n",
       "      <td>0.139375</td>\n",
       "      <td>8.049127</td>\n",
       "      <td>4.826421</td>\n",
       "      <td>2.352706</td>\n",
       "      <td>2.640546</td>\n",
       "      <td>1.503923</td>\n",
       "      <td>0.074498</td>\n",
       "      <td>2.256071</td>\n",
       "      <td>1.336098</td>\n",
       "      <td>8.332954</td>\n",
       "      <td>...</td>\n",
       "      <td>NaN</td>\n",
       "      <td>0.815772</td>\n",
       "      <td>NaN</td>\n",
       "      <td>2.299292</td>\n",
       "      <td>5.385176</td>\n",
       "      <td>8.999241</td>\n",
       "      <td>3.244172</td>\n",
       "      <td>4.251234</td>\n",
       "      <td>NaN</td>\n",
       "      <td>2.230363</td>\n",
       "    </tr>\n",
       "    <tr>\n",
       "      <th>613</th>\n",
       "      <td>0.361754</td>\n",
       "      <td>8.605760</td>\n",
       "      <td>NaN</td>\n",
       "      <td>3.861803</td>\n",
       "      <td>2.831637</td>\n",
       "      <td>1.943024</td>\n",
       "      <td>0.025553</td>\n",
       "      <td>2.611753</td>\n",
       "      <td>1.563928</td>\n",
       "      <td>8.640309</td>\n",
       "      <td>...</td>\n",
       "      <td>2.417979</td>\n",
       "      <td>0.807529</td>\n",
       "      <td>0.355363</td>\n",
       "      <td>3.608114</td>\n",
       "      <td>6.210588</td>\n",
       "      <td>8.034731</td>\n",
       "      <td>3.422598</td>\n",
       "      <td>4.834764</td>\n",
       "      <td>0.135702</td>\n",
       "      <td>2.228703</td>\n",
       "    </tr>\n",
       "    <tr>\n",
       "      <th>614</th>\n",
       "      <td>0.355785</td>\n",
       "      <td>7.807960</td>\n",
       "      <td>4.876255</td>\n",
       "      <td>4.031685</td>\n",
       "      <td>2.398400</td>\n",
       "      <td>2.205033</td>\n",
       "      <td>NaN</td>\n",
       "      <td>2.797793</td>\n",
       "      <td>NaN</td>\n",
       "      <td>8.680991</td>\n",
       "      <td>...</td>\n",
       "      <td>NaN</td>\n",
       "      <td>NaN</td>\n",
       "      <td>NaN</td>\n",
       "      <td>3.042716</td>\n",
       "      <td>4.866741</td>\n",
       "      <td>8.775805</td>\n",
       "      <td>3.301969</td>\n",
       "      <td>4.792143</td>\n",
       "      <td>NaN</td>\n",
       "      <td>3.747275</td>\n",
       "    </tr>\n",
       "    <tr>\n",
       "      <th>615</th>\n",
       "      <td>0.309839</td>\n",
       "      <td>7.142460</td>\n",
       "      <td>NaN</td>\n",
       "      <td>3.206230</td>\n",
       "      <td>NaN</td>\n",
       "      <td>2.195218</td>\n",
       "      <td>NaN</td>\n",
       "      <td>2.142955</td>\n",
       "      <td>NaN</td>\n",
       "      <td>8.416016</td>\n",
       "      <td>...</td>\n",
       "      <td>2.327960</td>\n",
       "      <td>0.580896</td>\n",
       "      <td>0.513139</td>\n",
       "      <td>3.242377</td>\n",
       "      <td>NaN</td>\n",
       "      <td>7.583931</td>\n",
       "      <td>3.262577</td>\n",
       "      <td>3.641660</td>\n",
       "      <td>0.169423</td>\n",
       "      <td>1.733931</td>\n",
       "    </tr>\n",
       "    <tr>\n",
       "      <th>616</th>\n",
       "      <td>0.393965</td>\n",
       "      <td>7.891157</td>\n",
       "      <td>6.305662</td>\n",
       "      <td>4.727442</td>\n",
       "      <td>NaN</td>\n",
       "      <td>1.434632</td>\n",
       "      <td>0.110582</td>\n",
       "      <td>NaN</td>\n",
       "      <td>2.191505</td>\n",
       "      <td>7.944144</td>\n",
       "      <td>...</td>\n",
       "      <td>NaN</td>\n",
       "      <td>0.763102</td>\n",
       "      <td>0.138897</td>\n",
       "      <td>2.686073</td>\n",
       "      <td>NaN</td>\n",
       "      <td>8.832221</td>\n",
       "      <td>3.844728</td>\n",
       "      <td>4.752230</td>\n",
       "      <td>NaN</td>\n",
       "      <td>5.058564</td>\n",
       "    </tr>\n",
       "  </tbody>\n",
       "</table>\n",
       "<p>617 rows × 57 columns</p>\n",
       "</div>"
      ],
      "text/plain": [
       "           AB        AF        AH        AM        AR        AX        AY  \\\n",
       "0    0.190105  8.042389       NaN  3.152497       NaN  0.530546       NaN   \n",
       "1    0.135651  6.887312       NaN  3.636767       NaN  1.533030       NaN   \n",
       "2    0.385283  7.877058       NaN  3.507374       NaN  2.045476       NaN   \n",
       "3    0.224828  8.248176  4.797455  4.358146       NaN  1.544439       NaN   \n",
       "4    0.322299  8.225248       NaN  2.714942       NaN  1.597822  0.053361   \n",
       "..        ...       ...       ...       ...       ...       ...       ...   \n",
       "612  0.139375  8.049127  4.826421  2.352706  2.640546  1.503923  0.074498   \n",
       "613  0.361754  8.605760       NaN  3.861803  2.831637  1.943024  0.025553   \n",
       "614  0.355785  7.807960  4.876255  4.031685  2.398400  2.205033       NaN   \n",
       "615  0.309839  7.142460       NaN  3.206230       NaN  2.195218       NaN   \n",
       "616  0.393965  7.891157  6.305662  4.727442       NaN  1.434632  0.110582   \n",
       "\n",
       "           AZ        BC        BD  ...        FL        FR        FS  \\\n",
       "0    2.380676  1.880325  8.325448  ...  2.116034  1.007429  0.090592   \n",
       "1    2.675375       NaN  8.612127  ...       NaN       NaN  0.450395   \n",
       "2    2.626447       NaN  8.544182  ...  2.164421  0.680852  0.787921   \n",
       "3    2.489372       NaN  8.335834  ...  1.963211       NaN  0.250343   \n",
       "4         NaN  4.636203  8.653424  ...  2.214088  3.902000  0.115036   \n",
       "..        ...       ...       ...  ...       ...       ...       ...   \n",
       "612  2.256071  1.336098  8.332954  ...       NaN  0.815772       NaN   \n",
       "613  2.611753  1.563928  8.640309  ...  2.417979  0.807529  0.355363   \n",
       "614  2.797793       NaN  8.680991  ...       NaN       NaN       NaN   \n",
       "615  2.142955       NaN  8.416016  ...  2.327960  0.580896  0.513139   \n",
       "616       NaN  2.191505  7.944144  ...       NaN  0.763102  0.138897   \n",
       "\n",
       "           GB        GE         GF        GH        GI        GL  max_variance  \n",
       "0    2.512776       NaN   7.603305  3.141400  4.260352  0.113635      3.997082  \n",
       "1    2.331435       NaN  10.239337  3.405702  3.500499       NaN      2.258235  \n",
       "2    3.639631  4.495461   9.523541  3.368083  3.588857  0.179769      2.309937  \n",
       "3    2.971930  4.423850   7.647434  3.712319  4.516265  0.144817      4.599578  \n",
       "4    2.856972  4.991180   9.050802  3.836897  3.617991  0.092228     16.533265  \n",
       "..        ...       ...        ...       ...       ...       ...           ...  \n",
       "612  2.299292  5.385176   8.999241  3.244172  4.251234       NaN      2.230363  \n",
       "613  3.608114  6.210588   8.034731  3.422598  4.834764  0.135702      2.228703  \n",
       "614  3.042716  4.866741   8.775805  3.301969  4.792143       NaN      3.747275  \n",
       "615  3.242377       NaN   7.583931  3.262577  3.641660  0.169423      1.733931  \n",
       "616  2.686073       NaN   8.832221  3.844728  4.752230       NaN      5.058564  \n",
       "\n",
       "[617 rows x 57 columns]"
      ]
     },
     "execution_count": 28,
     "metadata": {},
     "output_type": "execute_result"
    }
   ],
   "source": [
    "X_train_joined_feat"
   ]
  },
  {
   "cell_type": "code",
   "execution_count": 29,
   "id": "86a6e027",
   "metadata": {
    "execution": {
     "iopub.execute_input": "2023-07-09T23:54:28.341947Z",
     "iopub.status.busy": "2023-07-09T23:54:28.341564Z",
     "iopub.status.idle": "2023-07-09T23:54:28.350455Z",
     "shell.execute_reply": "2023-07-09T23:54:28.349837Z"
    },
    "papermill": {
     "duration": 0.027173,
     "end_time": "2023-07-09T23:54:28.351980",
     "exception": false,
     "start_time": "2023-07-09T23:54:28.324807",
     "status": "completed"
    },
    "tags": []
   },
   "outputs": [
    {
     "data": {
      "text/plain": [
       "A    509\n",
       "B     61\n",
       "G     29\n",
       "D     18\n",
       "Name: Alpha, dtype: int64"
      ]
     },
     "execution_count": 29,
     "metadata": {},
     "output_type": "execute_result"
    }
   ],
   "source": [
    "X_train_joined.Alpha.value_counts()"
   ]
  },
  {
   "cell_type": "code",
   "execution_count": 30,
   "id": "24e2cc8f",
   "metadata": {
    "execution": {
     "iopub.execute_input": "2023-07-09T23:54:28.385910Z",
     "iopub.status.busy": "2023-07-09T23:54:28.385530Z",
     "iopub.status.idle": "2023-07-09T23:54:28.399534Z",
     "shell.execute_reply": "2023-07-09T23:54:28.398889Z"
    },
    "papermill": {
     "duration": 0.032826,
     "end_time": "2023-07-09T23:54:28.401178",
     "exception": false,
     "start_time": "2023-07-09T23:54:28.368352",
     "status": "completed"
    },
    "tags": []
   },
   "outputs": [
    {
     "data": {
      "text/plain": [
       "EJ           2\n",
       "Class        2\n",
       "Beta         3\n",
       "Alpha        4\n",
       "Delta        4\n",
       "Gamma        8\n",
       "DV          39\n",
       "BN          53\n",
       "BZ         115\n",
       "CL         123\n",
       "EH         127\n",
       "AR         130\n",
       "CH         135\n",
       "DF         137\n",
       "AY         148\n",
       "FS         161\n",
       "DH         191\n",
       "Epsilon    197\n",
       "AB         217\n",
       "AH         227\n",
       "dtype: int64"
      ]
     },
     "execution_count": 30,
     "metadata": {},
     "output_type": "execute_result"
    }
   ],
   "source": [
    "X_train_joined.nunique().sort_values()[:20]"
   ]
  },
  {
   "attachments": {},
   "cell_type": "markdown",
   "id": "d8bcf413",
   "metadata": {
    "papermill": {
     "duration": 0.015705,
     "end_time": "2023-07-09T23:54:28.432888",
     "exception": false,
     "start_time": "2023-07-09T23:54:28.417183",
     "status": "completed"
    },
    "tags": []
   },
   "source": [
    "D - деменция?"
   ]
  },
  {
   "cell_type": "code",
   "execution_count": 31,
   "id": "a33fecee",
   "metadata": {
    "execution": {
     "iopub.execute_input": "2023-07-09T23:54:28.468245Z",
     "iopub.status.busy": "2023-07-09T23:54:28.466971Z",
     "iopub.status.idle": "2023-07-09T23:54:28.489008Z",
     "shell.execute_reply": "2023-07-09T23:54:28.487998Z"
    },
    "papermill": {
     "duration": 0.04188,
     "end_time": "2023-07-09T23:54:28.490922",
     "exception": false,
     "start_time": "2023-07-09T23:54:28.449042",
     "status": "completed"
    },
    "tags": []
   },
   "outputs": [
    {
     "data": {
      "text/plain": [
       "DN    26.248800\n",
       "GH    31.608946\n",
       "EL    34.455029\n",
       "CS    36.250955\n",
       "FC    37.393960\n",
       "CW    38.026504\n",
       "EU    39.316746\n",
       "GI    42.007968\n",
       "CB    47.138618\n",
       "DA    50.180940\n",
       "dtype: float64"
      ]
     },
     "execution_count": 31,
     "metadata": {},
     "output_type": "execute_result"
    }
   ],
   "source": [
    "np.exp(X_train_joined_feat.median(numeric_only=True).sort_values()[30:40])"
   ]
  },
  {
   "cell_type": "code",
   "execution_count": 32,
   "id": "48f83fb5",
   "metadata": {
    "execution": {
     "iopub.execute_input": "2023-07-09T23:54:28.526083Z",
     "iopub.status.busy": "2023-07-09T23:54:28.525432Z",
     "iopub.status.idle": "2023-07-09T23:54:28.579488Z",
     "shell.execute_reply": "2023-07-09T23:54:28.578500Z"
    },
    "papermill": {
     "duration": 0.074458,
     "end_time": "2023-07-09T23:54:28.582018",
     "exception": false,
     "start_time": "2023-07-09T23:54:28.507560",
     "status": "completed"
    },
    "tags": []
   },
   "outputs": [
    {
     "data": {
      "text/html": [
       "<div>                            <div id=\"5adcb6cc-1d76-4fa8-b217-9c8d26cb4d64\" class=\"plotly-graph-div\" style=\"height:525px; width:100%;\"></div>            <script type=\"text/javascript\">                require([\"plotly\"], function(Plotly) {                    window.PLOTLYENV=window.PLOTLYENV || {};                                    if (document.getElementById(\"5adcb6cc-1d76-4fa8-b217-9c8d26cb4d64\")) {                    Plotly.newPlot(                        \"5adcb6cc-1d76-4fa8-b217-9c8d26cb4d64\",                        [{\"alignmentgroup\":\"True\",\"bingroup\":\"x\",\"hovertemplate\":\"variable=EL<br>value=%{x}<br>count=%{y}<extra></extra>\",\"legendgroup\":\"EL\",\"marker\":{\"color\":\"#636efa\",\"pattern\":{\"shape\":\"\"}},\"name\":\"EL\",\"offsetgroup\":\"EL\",\"orientation\":\"v\",\"showlegend\":true,\"x\":[31.87942,null,null,32.67435699999999,null,null,14.214486999999998,16.089217,null,92.47373950000002,null,33.58941399999999,21.787623999999997,null,38.67006099999999,null,49.712521,29.671786000000004,null,null,null,35.72240200000001,null,null,88.30343049999998,31.386498999999997,15.176305,31.963933,null,33.034717,null,null,null,null,47.05743999999999,21.045025,21.073768000000005,26.844247000000003,13.000846000000001,86.86585150000002,null,null,34.834801,16.557685,46.054866999999994,null,null,null,null,12.072919,38.688937,null,8.522943999999999,null,null,null,37.66405600000001,null,13.084500999999998,39.964783,null,25.875564999999998,null,null,null,73.17388749999999,41.666625999999994,19.07806,34.369336000000004,null,69.992209,null,null,null,42.51904900000001,null,null,null,57.990934000000024,null,null,91.31243650000003,25.246222,null,82.06555600000003,null,null,null,null,20.403241,null,null,null,null,52.78072899999999,null,25.955359000000005,48.67090900000001,null,null,null,53.70565300000001,null,null,12.190035999999997,null,null,37.41781,19.759741,52.346152,null,null,null,24.036442000000005,null,null,24.445064500000004,78.805156,null,null,40.794897999999996,37.24449400000001,63.12520599999999,null,32.82021700000001,null,17.363346999999997,25.462008999999995,null,null,86.55997449999998,null,null,33.351319,null,null,52.403209,null,12.094798,null,null,71.54476000000003,29.297269000000004,86.22513999999998,28.999114,null,null,null,24.425116,null,88.62947049999997,null,null,null,null,61.15824099999998,27.497614000000002,40.32085300000001,61.17497199999997,50.829208,48.87897399999999,null,null,null,null,null,null,17.235934,null,28.831804,null,34.986881499999996,null,null,75.32896899999999,null,null,null,null,null,null,67.286506,36.223474,41.391208,null,null,55.197286000000005,26.250511000000003,null,null,53.693641,16.788058,null,24.343606,null,null,null,39.97207600000001,23.389081,null,73.786285,null,41.749423,68.43493900000001,null,27.082770999999994,null,95.23070800000002,null,null,70.5132295,null,59.21401300000002,26.774320000000003,86.18695899999997,19.871281,56.39848600000001,null,63.51816999999999,null,39.493311999999996,20.7535195,30.585127000000007,38.36203900000001,23.448711999999997,null,14.157430000000002,56.85837400000001,26.660205999999995,null,19.050604000000003,null,null,null,62.69491900000002,null,null,26.297272000000003,31.425966999999996,42.267226,69.31696299999999,39.497602,33.09241750000001,null,null,18.132115000000002,23.943777999999995,16.135120000000004,19.869565000000005,null,50.787594999999996,24.999976000000004,73.444372,null,39.18786399999999,11.50621,null,null,null,null,18.350476,73.48212400000001,27.798343,null,null,null,null,null,22.671363999999997,21.805641999999995,19.341895,43.915015,null,null,17.157856,37.637672499999994,38.919739,null,35.545225,null,37.62930699999999,null,null,null,null,null,null,30.014127999999996,null,null,52.71680800000001,78.66658899999999,70.05398499999998,35.96693200000001,12.669229000000001,null,null,36.705670000000005,null,null,null,null,null,33.25136199999999,null,null,null,null,null,null,21.072051999999996,null,28.416961,28.106364999999997,81.87894100000001,56.20800999999999,null,40.191295,82.40446600000003,26.048881000000005,23.140690000000003,null,null,50.323417000000006,null,27.33631,16.904746000000003,23.159995,null,77.545612,null,6.394675,58.271928999999986,null,71.60095899999999,13.458589000000002,14.514358000000003,30.739567000000005,null,null,45.801328,null,null,null,24.964368999999998,null,25.765311999999998,76.54818699999998,null,45.07974999999998,null,75.20584599999998,89.64898900000001,null,59.89998400000002,null,45.72024699999999,null,null,null,null,null,58.72709799999999,null,null,12.214488999999999,null,35.446984,13.541815,null,19.049745999999995,33.304558,null,23.467159,null,null,null,23.091784,78.337117,null,33.24793,null,null,null,29.492034999999994,null,null,null,null,26.880282999999995,null,41.88670299999999,null,null,29.374918000000005,15.023152,null,null,22.154419000000004,null,37.476583,null,null,null,null,null,null,55.07416299999999,56.84464599999998,null,null,null,34.540936,25.5817,14.864850999999998,null,30.513913000000002,12.846406000000002,null,42.560233000000004,31.001257,null,null,30.140683,41.035138,null,60.547773999999976,null,30.879420999999994,17.975100999999995,null,49.01153500000001,71.67303100000001,null,null,72.94930599999999,50.666188000000005,null,91.11574000000005,36.288682,26.354757999999997,31.132102000000003,null,null,null,null,14.163007000000002,31.166422000000004,32.709535,42.658903,null,35.048443,21.243222999999997,53.09518599999999,12.892309000000001,15.943356999999997,9.603594999999999,null,null,38.36246799999999,null,29.433262000000003,27.716404,null,46.75242099999999,null,null,18.869565999999995,39.27023199999999,35.31999999999999,null,null,16.362489999999998,40.12994799999999,null,40.655902,15.583425999999998,null,null,39.90429399999999,32.966077,27.5551,null,63.75412,26.203320999999995,26.957932000000003,38.96435499999999,null,17.169868,30.927468999999995,null,32.424679,null,24.023571999999998,14.371930000000003,null,42.31055500000001,36.488596,45.82663899999999,null,13.380939999999999,39.599704,43.681639,14.016289,7.912477000000001,26.954928999999996,null,null,69.30988449999997,48.339721,38.04972699999999,null,25.718979999999995,null,19.373212,68.05570299999998,null,null,null,44.390347,null,38.92145500000001,null,41.53191999999999,null,32.03386,52.379185,null,46.590259,null,null,null,18.946357,75.74595700000002,null,null,56.773002999999996,null,83.43878499999997,null,null,27.886717000000004,null,null,null,15.323451999999998,26.681227000000003,null,48.135517,null,77.82961000000003,31.191304,25.567972000000005,16.428556,22.294273000000004,41.828359000000006,null,41.80862499999999,null,36.12265899999999,null,null,null,69.87766599999999,null,null,null,null,null,14.903675499999999,null,52.054002999999994,83.15650299999999,null,null,null,null,null,null,null,16.5381655,62.54648499999998,null,null,27.979810000000004,null,31.247503000000002,null,null,null,null,31.368909999999996,48.049288,65.02181499999998,42.96735400000001,16.963948,40.105066,84.772117,86.57885050000002,12.865281999999999,42.090478000000004,null,null,null,null,null,31.927468000000008,23.844678999999996,21.959653,null,45.679063000000006,26.141115999999997,52.618996,null,null,null,16.960086999999998],\"xaxis\":\"x\",\"yaxis\":\"y\",\"type\":\"histogram\"}],                        {\"template\":{\"data\":{\"histogram2dcontour\":[{\"type\":\"histogram2dcontour\",\"colorbar\":{\"outlinewidth\":0,\"ticks\":\"\"},\"colorscale\":[[0.0,\"#0d0887\"],[0.1111111111111111,\"#46039f\"],[0.2222222222222222,\"#7201a8\"],[0.3333333333333333,\"#9c179e\"],[0.4444444444444444,\"#bd3786\"],[0.5555555555555556,\"#d8576b\"],[0.6666666666666666,\"#ed7953\"],[0.7777777777777778,\"#fb9f3a\"],[0.8888888888888888,\"#fdca26\"],[1.0,\"#f0f921\"]]}],\"choropleth\":[{\"type\":\"choropleth\",\"colorbar\":{\"outlinewidth\":0,\"ticks\":\"\"}}],\"histogram2d\":[{\"type\":\"histogram2d\",\"colorbar\":{\"outlinewidth\":0,\"ticks\":\"\"},\"colorscale\":[[0.0,\"#0d0887\"],[0.1111111111111111,\"#46039f\"],[0.2222222222222222,\"#7201a8\"],[0.3333333333333333,\"#9c179e\"],[0.4444444444444444,\"#bd3786\"],[0.5555555555555556,\"#d8576b\"],[0.6666666666666666,\"#ed7953\"],[0.7777777777777778,\"#fb9f3a\"],[0.8888888888888888,\"#fdca26\"],[1.0,\"#f0f921\"]]}],\"heatmap\":[{\"type\":\"heatmap\",\"colorbar\":{\"outlinewidth\":0,\"ticks\":\"\"},\"colorscale\":[[0.0,\"#0d0887\"],[0.1111111111111111,\"#46039f\"],[0.2222222222222222,\"#7201a8\"],[0.3333333333333333,\"#9c179e\"],[0.4444444444444444,\"#bd3786\"],[0.5555555555555556,\"#d8576b\"],[0.6666666666666666,\"#ed7953\"],[0.7777777777777778,\"#fb9f3a\"],[0.8888888888888888,\"#fdca26\"],[1.0,\"#f0f921\"]]}],\"heatmapgl\":[{\"type\":\"heatmapgl\",\"colorbar\":{\"outlinewidth\":0,\"ticks\":\"\"},\"colorscale\":[[0.0,\"#0d0887\"],[0.1111111111111111,\"#46039f\"],[0.2222222222222222,\"#7201a8\"],[0.3333333333333333,\"#9c179e\"],[0.4444444444444444,\"#bd3786\"],[0.5555555555555556,\"#d8576b\"],[0.6666666666666666,\"#ed7953\"],[0.7777777777777778,\"#fb9f3a\"],[0.8888888888888888,\"#fdca26\"],[1.0,\"#f0f921\"]]}],\"contourcarpet\":[{\"type\":\"contourcarpet\",\"colorbar\":{\"outlinewidth\":0,\"ticks\":\"\"}}],\"contour\":[{\"type\":\"contour\",\"colorbar\":{\"outlinewidth\":0,\"ticks\":\"\"},\"colorscale\":[[0.0,\"#0d0887\"],[0.1111111111111111,\"#46039f\"],[0.2222222222222222,\"#7201a8\"],[0.3333333333333333,\"#9c179e\"],[0.4444444444444444,\"#bd3786\"],[0.5555555555555556,\"#d8576b\"],[0.6666666666666666,\"#ed7953\"],[0.7777777777777778,\"#fb9f3a\"],[0.8888888888888888,\"#fdca26\"],[1.0,\"#f0f921\"]]}],\"surface\":[{\"type\":\"surface\",\"colorbar\":{\"outlinewidth\":0,\"ticks\":\"\"},\"colorscale\":[[0.0,\"#0d0887\"],[0.1111111111111111,\"#46039f\"],[0.2222222222222222,\"#7201a8\"],[0.3333333333333333,\"#9c179e\"],[0.4444444444444444,\"#bd3786\"],[0.5555555555555556,\"#d8576b\"],[0.6666666666666666,\"#ed7953\"],[0.7777777777777778,\"#fb9f3a\"],[0.8888888888888888,\"#fdca26\"],[1.0,\"#f0f921\"]]}],\"mesh3d\":[{\"type\":\"mesh3d\",\"colorbar\":{\"outlinewidth\":0,\"ticks\":\"\"}}],\"scatter\":[{\"fillpattern\":{\"fillmode\":\"overlay\",\"size\":10,\"solidity\":0.2},\"type\":\"scatter\"}],\"parcoords\":[{\"type\":\"parcoords\",\"line\":{\"colorbar\":{\"outlinewidth\":0,\"ticks\":\"\"}}}],\"scatterpolargl\":[{\"type\":\"scatterpolargl\",\"marker\":{\"colorbar\":{\"outlinewidth\":0,\"ticks\":\"\"}}}],\"bar\":[{\"error_x\":{\"color\":\"#2a3f5f\"},\"error_y\":{\"color\":\"#2a3f5f\"},\"marker\":{\"line\":{\"color\":\"#E5ECF6\",\"width\":0.5},\"pattern\":{\"fillmode\":\"overlay\",\"size\":10,\"solidity\":0.2}},\"type\":\"bar\"}],\"scattergeo\":[{\"type\":\"scattergeo\",\"marker\":{\"colorbar\":{\"outlinewidth\":0,\"ticks\":\"\"}}}],\"scatterpolar\":[{\"type\":\"scatterpolar\",\"marker\":{\"colorbar\":{\"outlinewidth\":0,\"ticks\":\"\"}}}],\"histogram\":[{\"marker\":{\"pattern\":{\"fillmode\":\"overlay\",\"size\":10,\"solidity\":0.2}},\"type\":\"histogram\"}],\"scattergl\":[{\"type\":\"scattergl\",\"marker\":{\"colorbar\":{\"outlinewidth\":0,\"ticks\":\"\"}}}],\"scatter3d\":[{\"type\":\"scatter3d\",\"line\":{\"colorbar\":{\"outlinewidth\":0,\"ticks\":\"\"}},\"marker\":{\"colorbar\":{\"outlinewidth\":0,\"ticks\":\"\"}}}],\"scattermapbox\":[{\"type\":\"scattermapbox\",\"marker\":{\"colorbar\":{\"outlinewidth\":0,\"ticks\":\"\"}}}],\"scatterternary\":[{\"type\":\"scatterternary\",\"marker\":{\"colorbar\":{\"outlinewidth\":0,\"ticks\":\"\"}}}],\"scattercarpet\":[{\"type\":\"scattercarpet\",\"marker\":{\"colorbar\":{\"outlinewidth\":0,\"ticks\":\"\"}}}],\"carpet\":[{\"aaxis\":{\"endlinecolor\":\"#2a3f5f\",\"gridcolor\":\"white\",\"linecolor\":\"white\",\"minorgridcolor\":\"white\",\"startlinecolor\":\"#2a3f5f\"},\"baxis\":{\"endlinecolor\":\"#2a3f5f\",\"gridcolor\":\"white\",\"linecolor\":\"white\",\"minorgridcolor\":\"white\",\"startlinecolor\":\"#2a3f5f\"},\"type\":\"carpet\"}],\"table\":[{\"cells\":{\"fill\":{\"color\":\"#EBF0F8\"},\"line\":{\"color\":\"white\"}},\"header\":{\"fill\":{\"color\":\"#C8D4E3\"},\"line\":{\"color\":\"white\"}},\"type\":\"table\"}],\"barpolar\":[{\"marker\":{\"line\":{\"color\":\"#E5ECF6\",\"width\":0.5},\"pattern\":{\"fillmode\":\"overlay\",\"size\":10,\"solidity\":0.2}},\"type\":\"barpolar\"}],\"pie\":[{\"automargin\":true,\"type\":\"pie\"}]},\"layout\":{\"autotypenumbers\":\"strict\",\"colorway\":[\"#636efa\",\"#EF553B\",\"#00cc96\",\"#ab63fa\",\"#FFA15A\",\"#19d3f3\",\"#FF6692\",\"#B6E880\",\"#FF97FF\",\"#FECB52\"],\"font\":{\"color\":\"#2a3f5f\"},\"hovermode\":\"closest\",\"hoverlabel\":{\"align\":\"left\"},\"paper_bgcolor\":\"white\",\"plot_bgcolor\":\"#E5ECF6\",\"polar\":{\"bgcolor\":\"#E5ECF6\",\"angularaxis\":{\"gridcolor\":\"white\",\"linecolor\":\"white\",\"ticks\":\"\"},\"radialaxis\":{\"gridcolor\":\"white\",\"linecolor\":\"white\",\"ticks\":\"\"}},\"ternary\":{\"bgcolor\":\"#E5ECF6\",\"aaxis\":{\"gridcolor\":\"white\",\"linecolor\":\"white\",\"ticks\":\"\"},\"baxis\":{\"gridcolor\":\"white\",\"linecolor\":\"white\",\"ticks\":\"\"},\"caxis\":{\"gridcolor\":\"white\",\"linecolor\":\"white\",\"ticks\":\"\"}},\"coloraxis\":{\"colorbar\":{\"outlinewidth\":0,\"ticks\":\"\"}},\"colorscale\":{\"sequential\":[[0.0,\"#0d0887\"],[0.1111111111111111,\"#46039f\"],[0.2222222222222222,\"#7201a8\"],[0.3333333333333333,\"#9c179e\"],[0.4444444444444444,\"#bd3786\"],[0.5555555555555556,\"#d8576b\"],[0.6666666666666666,\"#ed7953\"],[0.7777777777777778,\"#fb9f3a\"],[0.8888888888888888,\"#fdca26\"],[1.0,\"#f0f921\"]],\"sequentialminus\":[[0.0,\"#0d0887\"],[0.1111111111111111,\"#46039f\"],[0.2222222222222222,\"#7201a8\"],[0.3333333333333333,\"#9c179e\"],[0.4444444444444444,\"#bd3786\"],[0.5555555555555556,\"#d8576b\"],[0.6666666666666666,\"#ed7953\"],[0.7777777777777778,\"#fb9f3a\"],[0.8888888888888888,\"#fdca26\"],[1.0,\"#f0f921\"]],\"diverging\":[[0,\"#8e0152\"],[0.1,\"#c51b7d\"],[0.2,\"#de77ae\"],[0.3,\"#f1b6da\"],[0.4,\"#fde0ef\"],[0.5,\"#f7f7f7\"],[0.6,\"#e6f5d0\"],[0.7,\"#b8e186\"],[0.8,\"#7fbc41\"],[0.9,\"#4d9221\"],[1,\"#276419\"]]},\"xaxis\":{\"gridcolor\":\"white\",\"linecolor\":\"white\",\"ticks\":\"\",\"title\":{\"standoff\":15},\"zerolinecolor\":\"white\",\"automargin\":true,\"zerolinewidth\":2},\"yaxis\":{\"gridcolor\":\"white\",\"linecolor\":\"white\",\"ticks\":\"\",\"title\":{\"standoff\":15},\"zerolinecolor\":\"white\",\"automargin\":true,\"zerolinewidth\":2},\"scene\":{\"xaxis\":{\"backgroundcolor\":\"#E5ECF6\",\"gridcolor\":\"white\",\"linecolor\":\"white\",\"showbackground\":true,\"ticks\":\"\",\"zerolinecolor\":\"white\",\"gridwidth\":2},\"yaxis\":{\"backgroundcolor\":\"#E5ECF6\",\"gridcolor\":\"white\",\"linecolor\":\"white\",\"showbackground\":true,\"ticks\":\"\",\"zerolinecolor\":\"white\",\"gridwidth\":2},\"zaxis\":{\"backgroundcolor\":\"#E5ECF6\",\"gridcolor\":\"white\",\"linecolor\":\"white\",\"showbackground\":true,\"ticks\":\"\",\"zerolinecolor\":\"white\",\"gridwidth\":2}},\"shapedefaults\":{\"line\":{\"color\":\"#2a3f5f\"}},\"annotationdefaults\":{\"arrowcolor\":\"#2a3f5f\",\"arrowhead\":0,\"arrowwidth\":1},\"geo\":{\"bgcolor\":\"white\",\"landcolor\":\"#E5ECF6\",\"subunitcolor\":\"white\",\"showland\":true,\"showlakes\":true,\"lakecolor\":\"white\"},\"title\":{\"x\":0.05},\"mapbox\":{\"style\":\"light\"}}},\"xaxis\":{\"anchor\":\"y\",\"domain\":[0.0,1.0],\"title\":{\"text\":\"value\"}},\"yaxis\":{\"anchor\":\"x\",\"domain\":[0.0,1.0],\"title\":{\"text\":\"count\"}},\"legend\":{\"title\":{\"text\":\"variable\"},\"tracegroupgap\":0},\"margin\":{\"t\":60},\"barmode\":\"relative\"},                        {\"responsive\": true}                    ).then(function(){\n",
       "                            \n",
       "var gd = document.getElementById('5adcb6cc-1d76-4fa8-b217-9c8d26cb4d64');\n",
       "var x = new MutationObserver(function (mutations, observer) {{\n",
       "        var display = window.getComputedStyle(gd).display;\n",
       "        if (!display || display === 'none') {{\n",
       "            console.log([gd, 'removed!']);\n",
       "            Plotly.purge(gd);\n",
       "            observer.disconnect();\n",
       "        }}\n",
       "}});\n",
       "\n",
       "// Listen for the removal of the full notebook cells\n",
       "var notebookContainer = gd.closest('#notebook-container');\n",
       "if (notebookContainer) {{\n",
       "    x.observe(notebookContainer, {childList: true});\n",
       "}}\n",
       "\n",
       "// Listen for the clearing of the current output cell\n",
       "var outputEl = gd.closest('.output');\n",
       "if (outputEl) {{\n",
       "    x.observe(outputEl, {childList: true});\n",
       "}}\n",
       "\n",
       "                        })                };                });            </script>        </div>"
      ]
     },
     "metadata": {},
     "output_type": "display_data"
    }
   ],
   "source": [
    "px.histogram(np.exp(X_train_joined_feat[\"EL\"]))"
   ]
  },
  {
   "cell_type": "code",
   "execution_count": 33,
   "id": "dfe5dcbd",
   "metadata": {
    "execution": {
     "iopub.execute_input": "2023-07-09T23:54:28.619363Z",
     "iopub.status.busy": "2023-07-09T23:54:28.618988Z",
     "iopub.status.idle": "2023-07-09T23:54:28.627659Z",
     "shell.execute_reply": "2023-07-09T23:54:28.626492Z"
    },
    "papermill": {
     "duration": 0.030131,
     "end_time": "2023-07-09T23:54:28.629611",
     "exception": false,
     "start_time": "2023-07-09T23:54:28.599480",
     "status": "completed"
    },
    "tags": []
   },
   "outputs": [
    {
     "data": {
      "text/plain": [
       "B    395\n",
       "A    222\n",
       "Name: EJ, dtype: int64"
      ]
     },
     "execution_count": 33,
     "metadata": {},
     "output_type": "execute_result"
    }
   ],
   "source": [
    "X_train_joined.EJ.value_counts()"
   ]
  },
  {
   "attachments": {},
   "cell_type": "markdown",
   "id": "81820a4b",
   "metadata": {
    "papermill": {
     "duration": 0.018101,
     "end_time": "2023-07-09T23:54:28.665201",
     "exception": false,
     "start_time": "2023-07-09T23:54:28.647100",
     "status": "completed"
    },
    "tags": []
   },
   "source": [
    "## test.csv"
   ]
  },
  {
   "cell_type": "code",
   "execution_count": 34,
   "id": "881a2355",
   "metadata": {
    "execution": {
     "iopub.execute_input": "2023-07-09T23:54:28.700922Z",
     "iopub.status.busy": "2023-07-09T23:54:28.700526Z",
     "iopub.status.idle": "2023-07-09T23:54:28.710919Z",
     "shell.execute_reply": "2023-07-09T23:54:28.709483Z"
    },
    "papermill": {
     "duration": 0.031473,
     "end_time": "2023-07-09T23:54:28.713590",
     "exception": false,
     "start_time": "2023-07-09T23:54:28.682117",
     "status": "completed"
    },
    "tags": []
   },
   "outputs": [],
   "source": [
    "X_test = pd.read_csv(PATH + \"test.csv\")"
   ]
  },
  {
   "cell_type": "code",
   "execution_count": 35,
   "id": "71e08fdf",
   "metadata": {
    "execution": {
     "iopub.execute_input": "2023-07-09T23:54:28.749461Z",
     "iopub.status.busy": "2023-07-09T23:54:28.749144Z",
     "iopub.status.idle": "2023-07-09T23:54:28.758139Z",
     "shell.execute_reply": "2023-07-09T23:54:28.757100Z"
    },
    "papermill": {
     "duration": 0.029699,
     "end_time": "2023-07-09T23:54:28.760683",
     "exception": false,
     "start_time": "2023-07-09T23:54:28.730984",
     "status": "completed"
    },
    "tags": []
   },
   "outputs": [
    {
     "data": {
      "text/plain": [
       "Id     0\n",
       "DH     0\n",
       "DL     0\n",
       "DN     0\n",
       "DU     0\n",
       "DV     0\n",
       "DY     0\n",
       "EB     0\n",
       "EE     0\n",
       "EG     0\n",
       "EH     0\n",
       "EJ     0\n",
       "EL     0\n",
       "EP     0\n",
       "EU     0\n",
       "FC     0\n",
       "FD     0\n",
       "FE     0\n",
       "FI     0\n",
       "FL     0\n",
       "dtype: int64"
      ]
     },
     "execution_count": 35,
     "metadata": {},
     "output_type": "execute_result"
    }
   ],
   "source": [
    "X_test.isna().sum().sort_values(ascending=False)[:20]"
   ]
  },
  {
   "cell_type": "code",
   "execution_count": 36,
   "id": "5f054693",
   "metadata": {
    "execution": {
     "iopub.execute_input": "2023-07-09T23:54:28.796616Z",
     "iopub.status.busy": "2023-07-09T23:54:28.796305Z",
     "iopub.status.idle": "2023-07-09T23:54:29.131323Z",
     "shell.execute_reply": "2023-07-09T23:54:29.129805Z"
    },
    "papermill": {
     "duration": 0.355997,
     "end_time": "2023-07-09T23:54:29.134015",
     "exception": true,
     "start_time": "2023-07-09T23:54:28.778018",
     "status": "failed"
    },
    "tags": []
   },
   "outputs": [
    {
     "ename": "ValueError",
     "evalue": "",
     "output_type": "error",
     "traceback": [
      "\u001b[0;31m---------------------------------------------------------------------------\u001b[0m",
      "\u001b[0;31mValueError\u001b[0m                                Traceback (most recent call last)",
      "Cell \u001b[0;32mIn[36], line 1\u001b[0m\n\u001b[0;32m----> 1\u001b[0m \u001b[38;5;28;01mraise\u001b[39;00m \u001b[38;5;167;01mValueError\u001b[39;00m\n",
      "\u001b[0;31mValueError\u001b[0m: "
     ]
    }
   ],
   "source": [
    "raise ValueError"
   ]
  },
  {
   "attachments": {},
   "cell_type": "markdown",
   "id": "e6f06d81",
   "metadata": {
    "papermill": {
     "duration": null,
     "end_time": null,
     "exception": null,
     "start_time": null,
     "status": "pending"
    },
    "tags": []
   },
   "source": [
    "## Калибровка логистической регрессии"
   ]
  },
  {
   "cell_type": "code",
   "execution_count": null,
   "id": "bcc647e3",
   "metadata": {
    "papermill": {
     "duration": null,
     "end_time": null,
     "exception": null,
     "start_time": null,
     "status": "pending"
    },
    "tags": []
   },
   "outputs": [],
   "source": [
    "model = ModelStacker(MODELS, \n",
    "                     metamodel=LogisticRegression(class_weight='balanced'), \n",
    "                     random_state=RANDOM_STATE, outer_frac=0.25)\n",
    "model.fit(X, y)\n",
    "print(f\"np.{model.metamodel.intercept_.__repr__()}, np.{model.metamodel.coef_.__repr__()}\")"
   ]
  },
  {
   "attachments": {},
   "cell_type": "markdown",
   "id": "4b5e8ab2",
   "metadata": {
    "papermill": {
     "duration": null,
     "end_time": null,
     "exception": null,
     "start_time": null,
     "status": "pending"
    },
    "tags": []
   },
   "source": [
    "# Тюнинг (CatBoost)"
   ]
  },
  {
   "cell_type": "code",
   "execution_count": null,
   "id": "492dc879",
   "metadata": {
    "papermill": {
     "duration": null,
     "end_time": null,
     "exception": null,
     "start_time": null,
     "status": "pending"
    },
    "tags": []
   },
   "outputs": [],
   "source": [
    "from sklearn.model_selection import StratifiedKFold\n",
    "from sklearn.metrics import log_loss\n",
    "import optuna\n",
    "import warnings\n",
    "RANDOM_STATE_FRAC = 102\n",
    "X = pd.read_csv(PATH + \"train.csv\")\n",
    "y = X.Class\n",
    "X.drop(columns=['Class'], inplace=True)\n",
    "X = CatBoostTransformer(['Id']).fit_transform(X, y)\n",
    "X_train, X_test, y_train, y_test = train_test_split(X, y, test_size=0.1, random_state=RANDOM_STATE_FRAC, stratify=y)\n",
    "weights_sample = np.zeros(X_train.shape[0])  # Для весов в log_loss\n",
    "weights = [1 / (X.shape[0] - y.sum()), 1 / y.sum()]\n",
    "weights_sample[y_train == 0] = weights[0]\n",
    "weights_sample[y_train == 1] = weights[1]\n",
    "categorical = ['EJ']\n",
    "def func(trial: optuna.Trial):\n",
    "    sample_params = {\n",
    "        'n_estimators': 1000000,\n",
    "        \"eval_metric\": \"Logloss:use_weights=True\",\n",
    "        \"class_weights\": weights,\n",
    "        'max_depth': trial.suggest_int(\"max_depth\", 3, 11),\n",
    "        'max_leaves': trial.suggest_int(\"max_leaves\", 5, 200, log=True),\n",
    "        'min_child_samples': trial.suggest_int(\"min_child_samples\", 1, 300, log=True),\n",
    "        'reg_lambda': trial.suggest_float(\"reg_lambda\", 1, 1000.0, log=True),\n",
    "        'grow_policy': 'Lossguide',\n",
    "        'verbose': -1\n",
    "    }\n",
    "    fold = StratifiedKFold(shuffle=True, random_state=RANDOM_STATE_FRAC)\n",
    "    metric_list = []  # Значение log_loss с каждого фолда\n",
    "    temp = []\n",
    "    for param in ['max_depth', 'max_leaves', 'min_child_samples', 'reg_lambda']:\n",
    "        temp.append(f\"{param}={sample_params[param]}\")\n",
    "    print(', '.join(temp))\n",
    "    for i, (tr_id, tst_id) in enumerate(fold.split(X_train, y_train)):  # Цикл с фолдами\n",
    "        print(f'Fold {i}')\n",
    "        model = CatBoostClassifier(**sample_params)\n",
    "        X_val, X_es, y_val, y_es = train_test_split(X_train.iloc[tr_id], y_train.iloc[tr_id], test_size=0.15, random_state=RANDOM_STATE_FRAC, shuffle=True, stratify=y_train.iloc[tr_id])\n",
    "        with warnings.catch_warnings():\n",
    "            warnings.filterwarnings('ignore', category=FutureWarning)\n",
    "            model.fit(X_val, y_val,\n",
    "                    eval_set=(X_es, y_es),\n",
    "                    early_stopping_rounds=50,\n",
    "                    cat_features=categorical,\n",
    "                    use_best_model=True,\n",
    "                    verbose=False)\n",
    "            temp = model.predict_proba(X_train.iloc[tst_id])[:, 1]\n",
    "        metric_list.append(log_loss(y_train.iloc[tst_id], temp, eps=1e-15, sample_weight=weights_sample[tst_id]))\n",
    "    return np.mean(metric_list)"
   ]
  },
  {
   "cell_type": "code",
   "execution_count": null,
   "id": "1c0cee0e",
   "metadata": {
    "papermill": {
     "duration": null,
     "end_time": null,
     "exception": null,
     "start_time": null,
     "status": "pending"
    },
    "tags": []
   },
   "outputs": [],
   "source": [
    "opt = optuna.create_study(sampler=optuna.samplers.TPESampler(n_startup_trials=100), direction='minimize')"
   ]
  },
  {
   "cell_type": "code",
   "execution_count": null,
   "id": "f2144e8b",
   "metadata": {
    "papermill": {
     "duration": null,
     "end_time": null,
     "exception": null,
     "start_time": null,
     "status": "pending"
    },
    "tags": []
   },
   "outputs": [],
   "source": [
    "opt.optimize(func, n_trials=150)"
   ]
  },
  {
   "cell_type": "code",
   "execution_count": null,
   "id": "965483d3",
   "metadata": {
    "papermill": {
     "duration": null,
     "end_time": null,
     "exception": null,
     "start_time": null,
     "status": "pending"
    },
    "tags": []
   },
   "outputs": [],
   "source": [
    "optuna.visualization.plot_slice(opt)"
   ]
  },
  {
   "cell_type": "code",
   "execution_count": null,
   "id": "01065031",
   "metadata": {
    "papermill": {
     "duration": null,
     "end_time": null,
     "exception": null,
     "start_time": null,
     "status": "pending"
    },
    "tags": []
   },
   "outputs": [],
   "source": [
    "opt.best_params"
   ]
  },
  {
   "attachments": {},
   "cell_type": "markdown",
   "id": "8b706e51",
   "metadata": {
    "papermill": {
     "duration": null,
     "end_time": null,
     "exception": null,
     "start_time": null,
     "status": "pending"
    },
    "tags": []
   },
   "source": [
    "# Оптимизация (Любая удовлетворяющая требованиям функция)"
   ]
  },
  {
   "cell_type": "code",
   "execution_count": null,
   "id": "128e30ae",
   "metadata": {
    "papermill": {
     "duration": null,
     "end_time": null,
     "exception": null,
     "start_time": null,
     "status": "pending"
    },
    "tags": []
   },
   "outputs": [],
   "source": [
    "import optuna\n",
    "from sklearn.metrics import log_loss\n",
    "def tune_model(X, y,\n",
    "               model_class,\n",
    "               study_init_params={},\n",
    "               optimize_params={},\n",
    "               model_params: dict={},\n",
    "               fit_params={},\n",
    "               random_state=None,\n",
    "               test_size=0.1):\n",
    "    \"\"\"\n",
    "        X, y - данные для тюнинга, подобные train.csv\n",
    "        model_class - класс модели для тюнинга\n",
    "        study_init_params - параметры для инициализации optuna.Study\n",
    "        optimize_params - параметры для study.optimize()\n",
    "        model_params - словарь вида \"имя гиперпараметра: кортеж\", где кортеж имеет вид в зависимости от действия перебора:\n",
    "            ('const', param) - если гиперпараметр всегда константа param - любой объект\n",
    "            ('int', a, b, is_log) - если перебирается целое число в пределах [a, b], is_log - булево значение\n",
    "            ('float', a, b, is_log) - если перебирается float в пределах [a, b], is_log - булево значение\n",
    "            ('cat', [...]) - если значение выбирается из конечного множества вариантов\n",
    "        fit_params - параметры для fit\n",
    "        random_state - сид для разбиения данных на валидацию и train\n",
    "        test_size - доля валидационной выборки\n",
    "\n",
    "        Возвращается optuna.Study объект\n",
    "    \"\"\"\n",
    "    X_train, X_val, y_train, y_val = train_test_split(X, y, test_size=test_size, random_state=random_state, stratify=y)\n",
    "    weights_sample = get_sample_weight(y_val)\n",
    "    def func(trial: optuna.Trial):\n",
    "        _model_params = {}\n",
    "        for name, contents in model_params.items():\n",
    "            if contents[0] == 'const':\n",
    "                _model_params[name] = trial.suggest_categorical(name, [contents[1]])\n",
    "            if contents[0] == 'int':\n",
    "                _model_params[name] = trial.suggest_int(name, contents[1], contents[2], log=contents[3])\n",
    "            if contents[0] == 'float':\n",
    "                _model_params[name] = trial.suggest_float(name, contents[1], contents[2], log=contents[3])\n",
    "            if contents[0] == 'cat':\n",
    "                _model_params[name] = trial.suggest_categorical(name, contents[1])\n",
    "        model = model_class(**_model_params)\n",
    "        model.fit(X_train, y_train, **fit_params)\n",
    "        if hasattr(model, \"predict_proba\"):\n",
    "            temp = model.predict_proba(X_val)[:, 1].ravel()\n",
    "        else:\n",
    "            temp = model.predict(X_val)\n",
    "        return log_loss(y_val, temp, eps=1e-15, sample_weight=weights_sample)\n",
    "    opt = optuna.create_study(**study_init_params)\n",
    "    opt.optimize(func, **optimize_params)\n",
    "    return opt\n"
   ]
  },
  {
   "cell_type": "code",
   "execution_count": null,
   "id": "fbce79a0",
   "metadata": {
    "papermill": {
     "duration": null,
     "end_time": null,
     "exception": null,
     "start_time": null,
     "status": "pending"
    },
    "tags": []
   },
   "outputs": [],
   "source": [
    "temp = tune_model(X, y,\n",
    "                  SVMModel,\n",
    "                  study_init_params={'sampler': optuna.samplers.TPESampler(n_startup_trials=700), \n",
    "                                     'direction': 'minimize'},\n",
    "                  optimize_params={'n_trials': 1000},\n",
    "                  model_params={'C': ('float', 0.001, 100, True),\n",
    "                                'kernel': ('cat', ['poly', 'rbf', 'sigmoid']),\n",
    "                                'degree': ('int', 1, 5, False),\n",
    "                                'class_weight': ('cat', ['balanced', None]),\n",
    "                                'probability': ('const', True)},\n",
    "                 random_state=30)"
   ]
  },
  {
   "cell_type": "code",
   "execution_count": null,
   "id": "b3ec1c6d",
   "metadata": {
    "papermill": {
     "duration": null,
     "end_time": null,
     "exception": null,
     "start_time": null,
     "status": "pending"
    },
    "tags": []
   },
   "outputs": [],
   "source": [
    "temp = tune_model(X, y,\n",
    "                  RandomForestModel,\n",
    "                  study_init_params={'sampler': optuna.samplers.TPESampler(n_startup_trials=700), \n",
    "                                     'direction': 'minimize'},\n",
    "                  optimize_params={'n_trials': 1000},\n",
    "                  model_params={'n_estimators': ('int', 10, 100, True),\n",
    "                                'criterion': ('cat', ['gini', 'entropy']),\n",
    "                                'max_depth': ('int', 5, 9, False),\n",
    "                                'min_samples_leaf': ('int', 2, 40, True),\n",
    "                                'class_weight': ('cat', ['balanced', 'balanced_subsample'])},\n",
    "                 random_state=30)"
   ]
  },
  {
   "cell_type": "code",
   "execution_count": null,
   "id": "3693b864",
   "metadata": {
    "papermill": {
     "duration": null,
     "end_time": null,
     "exception": null,
     "start_time": null,
     "status": "pending"
    },
    "tags": []
   },
   "outputs": [],
   "source": [
    "tune_model(X, y,\n",
    "           ModelStacker,\n",
    "           study_init_params={'sampler': optuna.samplers.TPESampler(n_startup_trials=30), \n",
    "                                     'direction': 'minimize'},\n",
    "           optimize_params={'n_trials': 50},\n",
    "           model_params={'models': ('const', {\"CatBoost\": CatBoostModel(random_state=RANDOM_STATE, verbose=False),\n",
    "                                              \"SVM\": SVMModel(**{'C': 43.01520973313692,\n",
    "                                                                 'kernel': 'rbf',\n",
    "                                                                 'degree': 1,\n",
    "                                                                 'class_weight': None,\n",
    "                                                                 'probability': True})}),\n",
    "                         'metamodel': ('const', RandomForestClassifier()),\n",
    "                         'random_state': ('const', RANDOM_STATE),\n",
    "                         'outer_frac': ('float', 0.05, 0.9, False)\n",
    "                        })"
   ]
  },
  {
   "cell_type": "code",
   "execution_count": null,
   "id": "96de4b9a",
   "metadata": {
    "papermill": {
     "duration": null,
     "end_time": null,
     "exception": null,
     "start_time": null,
     "status": "pending"
    },
    "tags": []
   },
   "outputs": [],
   "source": [
    "optuna.visualization.plot_slice(temp)"
   ]
  },
  {
   "cell_type": "code",
   "execution_count": null,
   "id": "2f23545e",
   "metadata": {
    "papermill": {
     "duration": null,
     "end_time": null,
     "exception": null,
     "start_time": null,
     "status": "pending"
    },
    "tags": []
   },
   "outputs": [],
   "source": [
    "temp.best_params"
   ]
  },
  {
   "attachments": {},
   "cell_type": "markdown",
   "id": "61b019f1",
   "metadata": {
    "papermill": {
     "duration": null,
     "end_time": null,
     "exception": null,
     "start_time": null,
     "status": "pending"
    },
    "tags": []
   },
   "source": [
    "# KFold валидация (Любой класс модели)"
   ]
  },
  {
   "cell_type": "code",
   "execution_count": null,
   "id": "0528b0d1",
   "metadata": {
    "papermill": {
     "duration": null,
     "end_time": null,
     "exception": null,
     "start_time": null,
     "status": "pending"
    },
    "tags": []
   },
   "outputs": [],
   "source": [
    "from sklearn.model_selection import StratifiedKFold\n",
    "from copy import deepcopy\n",
    "from sklearn.metrics import log_loss\n",
    "def kfoldscore(X: pd.DataFrame, y: pd.DataFrame,\n",
    "               model,\n",
    "               folds=10,\n",
    "               random_state=42):\n",
    "    score_list = []\n",
    "    for tr_ind, tst_ind in StratifiedKFold(folds, shuffle=True, random_state=random_state).split(X, y):\n",
    "        temp = deepcopy(model)\n",
    "        temp.fit(X.iloc[tr_ind], y.iloc[tr_ind])\n",
    "        score_list.append(log_loss(y.iloc[tst_ind], temp.predict_proba(X.iloc[tst_ind])[:, 1], \n",
    "                                   eps=1e-15, \n",
    "                                   sample_weight=get_sample_weight(y.iloc[tst_ind])))\n",
    "    print(f\"Mean = {np.mean(score_list)}, min = {min(score_list)}, max = {max(score_list)}\")\n",
    "\n"
   ]
  },
  {
   "cell_type": "code",
   "execution_count": null,
   "id": "db244f20",
   "metadata": {
    "papermill": {
     "duration": null,
     "end_time": null,
     "exception": null,
     "start_time": null,
     "status": "pending"
    },
    "tags": []
   },
   "outputs": [],
   "source": [
    "kfoldscore(X, y, SVMModel(**{'C': 43.01520973313692,\n",
    " 'kernel': 'rbf',\n",
    " 'degree': 1,\n",
    " 'class_weight': None,\n",
    " 'probability': True}), folds=15)"
   ]
  },
  {
   "cell_type": "code",
   "execution_count": null,
   "id": "03cfccc3",
   "metadata": {
    "papermill": {
     "duration": null,
     "end_time": null,
     "exception": null,
     "start_time": null,
     "status": "pending"
    },
    "tags": []
   },
   "outputs": [],
   "source": [
    "kfoldscore(X, y, CatBoostModel(random_state=RANDOM_STATE, verbose=False), folds=15)"
   ]
  },
  {
   "cell_type": "code",
   "execution_count": null,
   "id": "e14ae88b",
   "metadata": {
    "papermill": {
     "duration": null,
     "end_time": null,
     "exception": null,
     "start_time": null,
     "status": "pending"
    },
    "tags": []
   },
   "outputs": [],
   "source": [
    "kfoldscore(X, y, RandomForestModel(), folds=15)"
   ]
  },
  {
   "cell_type": "code",
   "execution_count": null,
   "id": "59e2ebec",
   "metadata": {
    "papermill": {
     "duration": null,
     "end_time": null,
     "exception": null,
     "start_time": null,
     "status": "pending"
    },
    "tags": []
   },
   "outputs": [],
   "source": [
    "kfoldscore(X, y, ModelStacker(MODELS, \n",
    "                     metamodel=FixedLogRegressor(np.array([-2.44671242]), np.array([[3.09712072, 1.98385503, 1.9165799 ]])), \n",
    "                     random_state=RANDOM_STATE, outer_frac=0), folds=15)"
   ]
  },
  {
   "cell_type": "code",
   "execution_count": null,
   "id": "7050cc72",
   "metadata": {
    "papermill": {
     "duration": null,
     "end_time": null,
     "exception": null,
     "start_time": null,
     "status": "pending"
    },
    "tags": []
   },
   "outputs": [],
   "source": [
    "kfoldscore()"
   ]
  },
  {
   "cell_type": "code",
   "execution_count": null,
   "id": "79b28d4e",
   "metadata": {
    "papermill": {
     "duration": null,
     "end_time": null,
     "exception": null,
     "start_time": null,
     "status": "pending"
    },
    "tags": []
   },
   "outputs": [],
   "source": [
    "kfoldscore(X, y, CatBoostModel(random_state=RANDOM_STATE, verbose=False), folds=15)"
   ]
  }
 ],
 "metadata": {
  "kernelspec": {
   "display_name": "Python 3",
   "language": "python",
   "name": "python3"
  },
  "language_info": {
   "codemirror_mode": {
    "name": "ipython",
    "version": 3
   },
   "file_extension": ".py",
   "mimetype": "text/x-python",
   "name": "python",
   "nbconvert_exporter": "python",
   "pygments_lexer": "ipython3",
   "version": "3.10.10"
  },
  "papermill": {
   "default_parameters": {},
   "duration": 23.820159,
   "end_time": "2023-07-09T23:54:30.377479",
   "environment_variables": {},
   "exception": true,
   "input_path": "__notebook__.ipynb",
   "output_path": "__notebook__.ipynb",
   "parameters": {},
   "start_time": "2023-07-09T23:54:06.557320",
   "version": "2.4.0"
  }
 },
 "nbformat": 4,
 "nbformat_minor": 5
}
